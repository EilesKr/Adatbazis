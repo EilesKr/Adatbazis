{
    "metadata": {
        "kernelspec": {
            "name": "SQL",
            "display_name": "SQL",
            "language": "sql"
        },
        "language_info": {
            "name": "sql",
            "version": ""
        }
    },
    "nbformat_minor": 2,
    "nbformat": 4,
    "cells": [
        {
            "cell_type": "markdown",
            "source": [
                "## **A _diákmunka_ adatabázis \"munka\" táblájának adatprofilozása.**\n",
                "\n",
                "1. <span style=\"color: var(--vscode-foreground);\">Az <em style=\"\">oradij </em>oszlop legkissebb értékének meghatározása</span>\n",
                "2. <span style=\"color: var(--vscode-foreground);\">Az&nbsp;<em>oradij&nbsp;</em>oszlop&nbsp;legnagyobb értékének meghatározása</span>\n",
                "3. <span style=\"color: var(--vscode-foreground);\">Az&nbsp;<em style=\"\">oradij&nbsp;</em>oszlop&nbsp;értékeinek átlagának meghatározása</span>"
            ],
            "metadata": {
                "azdata_cell_guid": "8bdc54e2-b95a-4401-9aa5-ed2f1a925e5a"
            },
            "attachments": {}
        },
        {
            "cell_type": "code",
            "source": [
                "SELECT MIN(oradij) 'Minimális óradíj',\r\n",
                "       AVG(oradij) 'Átlag óradíj',\r\n",
                "       MAX(oradij) 'Maximális óradíj'\r\n",
                "FROM munka\r\n",
                "WHERE allas = 'kisegítő'"
            ],
            "metadata": {
                "azdata_cell_guid": "4a4a009f-cdb9-4a0d-8d9a-22efa6ae4415",
                "language": "sql"
            },
            "outputs": [
                {
                    "output_type": "display_data",
                    "data": {
                        "text/html": "(1 row affected)"
                    },
                    "metadata": {}
                },
                {
                    "output_type": "display_data",
                    "data": {
                        "text/html": "Total execution time: 00:00:00.021"
                    },
                    "metadata": {}
                },
                {
                    "output_type": "execute_result",
                    "execution_count": 18,
                    "data": {
                        "application/vnd.dataresource+json": {
                            "schema": {
                                "fields": [
                                    {
                                        "name": "Minimális óradíj"
                                    },
                                    {
                                        "name": "Átlag óradíj"
                                    },
                                    {
                                        "name": "Maximális óradíj"
                                    }
                                ]
                            },
                            "data": [
                                {
                                    "Minimális óradíj": "300",
                                    "Átlag óradíj": "350",
                                    "Maximális óradíj": "500"
                                }
                            ]
                        },
                        "text/html": "<table><tr><th>Minimális óradíj</th><th>Átlag óradíj</th><th>Maximális óradíj</th></tr><tr><td>300</td><td>350</td><td>500</td></tr></table>"
                    },
                    "metadata": {}
                }
            ],
            "execution_count": 18
        },
        {
            "cell_type": "markdown",
            "source": [
                "![](data:image/png;base64,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)"
            ],
            "metadata": {
                "azdata_cell_guid": "b6c1f2c4-730e-44e3-875d-5ac6bb4cea04"
            },
            "attachments": {}
        },
        {
            "cell_type": "markdown",
            "source": [
                "## **A _diákmunka_ adatabázis \"munka\" táblájának adatprofilozása.**\n",
                "\n",
                "1. NULL értékek számának meghatározása a _DiakAz oszlopban_\n",
                "2. <span style=\"color: var(--vscode-foreground);\">Az összes allás típus számának meghatározása</span>\n",
                "3. Állás típusonként csoportosítva a betöltetlen állások meghatározása"
            ],
            "metadata": {
                "azdata_cell_guid": "35bf4843-561c-416d-9ce5-07ab075910bd"
            },
            "attachments": {}
        },
        {
            "cell_type": "code",
            "source": [
                "SELECT COUNT(*) 'NULL értékek száma'\r\n",
                "FROM munka\r\n",
                "WHERE DiakAz is NULL"
            ],
            "metadata": {
                "azdata_cell_guid": "57609e2f-5499-4da8-ae95-1a01914d6adf",
                "language": "sql"
            },
            "outputs": [
                {
                    "output_type": "display_data",
                    "data": {
                        "text/html": "(1 row affected)"
                    },
                    "metadata": {}
                },
                {
                    "output_type": "display_data",
                    "data": {
                        "text/html": "Total execution time: 00:00:00.148"
                    },
                    "metadata": {}
                },
                {
                    "output_type": "execute_result",
                    "metadata": {},
                    "execution_count": 1,
                    "data": {
                        "application/vnd.dataresource+json": {
                            "schema": {
                                "fields": [
                                    {
                                        "name": "NULL értékek száma"
                                    }
                                ]
                            },
                            "data": [
                                {
                                    "NULL értékek száma": "10"
                                }
                            ]
                        },
                        "text/html": [
                            "<table>",
                            "<tr><th>NULL értékek száma</th></tr>",
                            "<tr><td>10</td></tr>",
                            "</table>"
                        ]
                    }
                }
            ],
            "execution_count": 1
        },
        {
            "cell_type": "code",
            "source": [
                "SELECT COUNT(DISTINCT allas) 'Összes állás típus száma'\r\n",
                "FROM munka\r\n",
                "WHERE allas IS NOT NULL"
            ],
            "metadata": {
                "azdata_cell_guid": "779017ea-309b-4e19-9dfa-487c2259f099",
                "language": "sql"
            },
            "outputs": [
                {
                    "output_type": "display_data",
                    "data": {
                        "text/html": "(1 row affected)"
                    },
                    "metadata": {}
                },
                {
                    "output_type": "display_data",
                    "data": {
                        "text/html": "Total execution time: 00:00:00.055"
                    },
                    "metadata": {}
                },
                {
                    "output_type": "execute_result",
                    "metadata": {},
                    "execution_count": 6,
                    "data": {
                        "application/vnd.dataresource+json": {
                            "schema": {
                                "fields": [
                                    {
                                        "name": "Összes állás típus száma"
                                    }
                                ]
                            },
                            "data": [
                                {
                                    "Összes állás típus száma": "9"
                                }
                            ]
                        },
                        "text/html": [
                            "<table>",
                            "<tr><th>Összes állás típus száma</th></tr>",
                            "<tr><td>9</td></tr>",
                            "</table>"
                        ]
                    }
                }
            ],
            "execution_count": 6
        },
        {
            "cell_type": "code",
            "source": [
                "SELECT allas 'Állás neve',\r\n",
                "       COUNT(*) 'Betöltetlen állások száma'\r\n",
                "FROM munka\r\n",
                "WHERE DiakAz is NULL\r\n",
                "GROUP BY allas\r\n",
                "ORDER BY 2 DESC"
            ],
            "metadata": {
                "azdata_cell_guid": "a88d1ab8-17a7-4b12-b211-816e619a4f28",
                "language": "sql",
                "tags": []
            },
            "outputs": [
                {
                    "output_type": "display_data",
                    "data": {
                        "text/html": "(5 rows affected)"
                    },
                    "metadata": {}
                },
                {
                    "output_type": "display_data",
                    "data": {
                        "text/html": "Total execution time: 00:00:00.046"
                    },
                    "metadata": {}
                },
                {
                    "output_type": "execute_result",
                    "execution_count": 1,
                    "data": {
                        "application/vnd.dataresource+json": {
                            "schema": {
                                "fields": [
                                    {
                                        "name": "Állás neve"
                                    },
                                    {
                                        "name": "Betöltetlen állások száma"
                                    }
                                ]
                            },
                            "data": [
                                {
                                    "Állás neve": "raktáros",
                                    "Betöltetlen állások száma": "3"
                                },
                                {
                                    "Állás neve": "ruhatáros",
                                    "Betöltetlen állások száma": "2"
                                },
                                {
                                    "Állás neve": "takarító",
                                    "Betöltetlen állások száma": "2"
                                },
                                {
                                    "Állás neve": "eladó",
                                    "Betöltetlen állások száma": "2"
                                },
                                {
                                    "Állás neve": "kisegítő",
                                    "Betöltetlen állások száma": "1"
                                }
                            ]
                        },
                        "text/html": "<table><tr><th>Állás neve</th><th>Betöltetlen állások száma</th></tr><tr><td>raktáros</td><td>3</td></tr><tr><td>ruhatáros</td><td>2</td></tr><tr><td>takarító</td><td>2</td></tr><tr><td>eladó</td><td>2</td></tr><tr><td>kisegítő</td><td>1</td></tr></table>"
                    },
                    "metadata": {}
                }
            ],
            "execution_count": 1
        },
        {
            "cell_type": "markdown",
            "source": [
                "![](data:image/png;base64,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)"
            ],
            "metadata": {
                "azdata_cell_guid": "cc9d4056-2e02-4f3a-abb1-480e01742964"
            },
            "attachments": {}
        }
    ]
}