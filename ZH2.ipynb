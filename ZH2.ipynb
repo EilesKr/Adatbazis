{
    "metadata": {
        "kernelspec": {
            "name": "SQL",
            "display_name": "SQL",
            "language": "sql"
        },
        "language_info": {
            "name": "sql",
            "version": ""
        }
    },
    "nbformat_minor": 2,
    "nbformat": 4,
    "cells": [
        {
            "cell_type": "markdown",
            "source": [
                "![](data:image/png;base64,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)"
            ],
            "metadata": {
                "azdata_cell_guid": "358ae6cf-95e0-4af7-a738-71e9c373bcbd"
            },
            "attachments": {}
        },
        {
            "cell_type": "code",
            "source": [
                "SELECT IIF(GROUPING_ID(SZOBA_FK)=1, 'Végösszeg', CAST(SZOBA_FK AS NVARCHAR)) AS 'Szoba',\r\n",
                "        IIF(GROUPING_ID(YEAR(METTOL))=1, 'Részösszeg', CAST(YEAR(METTOL) AS NVARCHAR)) AS 'Foglalás éve',\r\n",
                "        COUNT(*) AS 'Foglalások száma'\r\n",
                "FROM Foglalas\r\n",
                "GROUP BY ROLLUP(SZOBA_FK, YEAR(METTOL))"
            ],
            "metadata": {
                "azdata_cell_guid": "4b23f5b0-3351-412f-85f5-0b661f9fce51",
                "language": "sql"
            },
            "outputs": [
                {
                    "output_type": "display_data",
                    "data": {
                        "text/html": "(513 rows affected)"
                    },
                    "metadata": {}
                },
                {
                    "output_type": "display_data",
                    "data": {
                        "text/html": "Total execution time: 00:00:00.011"
                    },
                    "metadata": {}
                },
                {
                    "output_type": "execute_result",
                    "metadata": {},
                    "execution_count": 18,
                    "data": {
                        "application/vnd.dataresource+json": {
                            "schema": {
                                "fields": [
                                    {
                                        "name": "Szoba"
                                    },
                                    {
                                        "name": "Foglalás éve"
                                    },
                                    {
                                        "name": "Foglalások száma"
                                    }
                                ]
                            },
                            "data": [
                                {
                                    "Szoba": "1",
                                    "Foglalás éve": "2016",
                                    "Foglalások száma": "8"
                                },
                                {
                                    "Szoba": "1",
                                    "Foglalás éve": "Részösszeg",
                                    "Foglalások száma": "8"
                                },
                                {
                                    "Szoba": "2",
                                    "Foglalás éve": "2016",
                                    "Foglalások száma": "4"
                                },
                                {
                                    "Szoba": "2",
                                    "Foglalás éve": "Részösszeg",
                                    "Foglalások száma": "4"
                                },
                                {
                                    "Szoba": "3",
                                    "Foglalás éve": "2016",
                                    "Foglalások száma": "6"
                                },
                                {
                                    "Szoba": "3",
                                    "Foglalás éve": "2017",
                                    "Foglalások száma": "2"
                                },
                                {
                                    "Szoba": "3",
                                    "Foglalás éve": "Részösszeg",
                                    "Foglalások száma": "8"
                                },
                                {
                                    "Szoba": "4",
                                    "Foglalás éve": "2016",
                                    "Foglalások száma": "5"
                                },
                                {
                                    "Szoba": "4",
                                    "Foglalás éve": "2017",
                                    "Foglalások száma": "1"
                                },
                                {
                                    "Szoba": "4",
                                    "Foglalás éve": "Részösszeg",
                                    "Foglalások száma": "6"
                                },
                                {
                                    "Szoba": "5",
                                    "Foglalás éve": "2016",
                                    "Foglalások száma": "4"
                                },
                                {
                                    "Szoba": "5",
                                    "Foglalás éve": "Részösszeg",
                                    "Foglalások száma": "4"
                                },
                                {
                                    "Szoba": "6",
                                    "Foglalás éve": "2016",
                                    "Foglalások száma": "6"
                                },
                                {
                                    "Szoba": "6",
                                    "Foglalás éve": "Részösszeg",
                                    "Foglalások száma": "6"
                                },
                                {
                                    "Szoba": "7",
                                    "Foglalás éve": "2016",
                                    "Foglalások száma": "6"
                                },
                                {
                                    "Szoba": "7",
                                    "Foglalás éve": "Részösszeg",
                                    "Foglalások száma": "6"
                                },
                                {
                                    "Szoba": "8",
                                    "Foglalás éve": "2016",
                                    "Foglalások száma": "5"
                                },
                                {
                                    "Szoba": "8",
                                    "Foglalás éve": "Részösszeg",
                                    "Foglalások száma": "5"
                                },
                                {
                                    "Szoba": "9",
                                    "Foglalás éve": "2016",
                                    "Foglalások száma": "4"
                                },
                                {
                                    "Szoba": "9",
                                    "Foglalás éve": "2017",
                                    "Foglalások száma": "2"
                                },
                                {
                                    "Szoba": "9",
                                    "Foglalás éve": "Részösszeg",
                                    "Foglalások száma": "6"
                                },
                                {
                                    "Szoba": "10",
                                    "Foglalás éve": "2016",
                                    "Foglalások száma": "4"
                                },
                                {
                                    "Szoba": "10",
                                    "Foglalás éve": "Részösszeg",
                                    "Foglalások száma": "4"
                                },
                                {
                                    "Szoba": "11",
                                    "Foglalás éve": "2016",
                                    "Foglalások száma": "3"
                                },
                                {
                                    "Szoba": "11",
                                    "Foglalás éve": "2017",
                                    "Foglalások száma": "1"
                                },
                                {
                                    "Szoba": "11",
                                    "Foglalás éve": "Részösszeg",
                                    "Foglalások száma": "4"
                                },
                                {
                                    "Szoba": "12",
                                    "Foglalás éve": "2016",
                                    "Foglalások száma": "8"
                                },
                                {
                                    "Szoba": "12",
                                    "Foglalás éve": "2017",
                                    "Foglalások száma": "1"
                                },
                                {
                                    "Szoba": "12",
                                    "Foglalás éve": "Részösszeg",
                                    "Foglalások száma": "9"
                                },
                                {
                                    "Szoba": "13",
                                    "Foglalás éve": "2016",
                                    "Foglalások száma": "3"
                                },
                                {
                                    "Szoba": "13",
                                    "Foglalás éve": "2017",
                                    "Foglalások száma": "1"
                                },
                                {
                                    "Szoba": "13",
                                    "Foglalás éve": "Részösszeg",
                                    "Foglalások száma": "4"
                                },
                                {
                                    "Szoba": "14",
                                    "Foglalás éve": "2016",
                                    "Foglalások száma": "2"
                                },
                                {
                                    "Szoba": "14",
                                    "Foglalás éve": "2017",
                                    "Foglalások száma": "1"
                                },
                                {
                                    "Szoba": "14",
                                    "Foglalás éve": "Részösszeg",
                                    "Foglalások száma": "3"
                                },
                                {
                                    "Szoba": "15",
                                    "Foglalás éve": "2016",
                                    "Foglalások száma": "4"
                                },
                                {
                                    "Szoba": "15",
                                    "Foglalás éve": "2017",
                                    "Foglalások száma": "2"
                                },
                                {
                                    "Szoba": "15",
                                    "Foglalás éve": "Részösszeg",
                                    "Foglalások száma": "6"
                                },
                                {
                                    "Szoba": "16",
                                    "Foglalás éve": "2016",
                                    "Foglalások száma": "4"
                                },
                                {
                                    "Szoba": "16",
                                    "Foglalás éve": "2017",
                                    "Foglalások száma": "1"
                                },
                                {
                                    "Szoba": "16",
                                    "Foglalás éve": "Részösszeg",
                                    "Foglalások száma": "5"
                                },
                                {
                                    "Szoba": "17",
                                    "Foglalás éve": "2016",
                                    "Foglalások száma": "5"
                                },
                                {
                                    "Szoba": "17",
                                    "Foglalás éve": "2017",
                                    "Foglalások száma": "1"
                                },
                                {
                                    "Szoba": "17",
                                    "Foglalás éve": "Részösszeg",
                                    "Foglalások száma": "6"
                                },
                                {
                                    "Szoba": "18",
                                    "Foglalás éve": "2016",
                                    "Foglalások száma": "5"
                                },
                                {
                                    "Szoba": "18",
                                    "Foglalás éve": "2017",
                                    "Foglalások száma": "1"
                                },
                                {
                                    "Szoba": "18",
                                    "Foglalás éve": "Részösszeg",
                                    "Foglalások száma": "6"
                                },
                                {
                                    "Szoba": "19",
                                    "Foglalás éve": "2016",
                                    "Foglalások száma": "5"
                                },
                                {
                                    "Szoba": "19",
                                    "Foglalás éve": "2017",
                                    "Foglalások száma": "1"
                                },
                                {
                                    "Szoba": "19",
                                    "Foglalás éve": "Részösszeg",
                                    "Foglalások száma": "6"
                                },
                                {
                                    "Szoba": "20",
                                    "Foglalás éve": "2016",
                                    "Foglalások száma": "5"
                                },
                                {
                                    "Szoba": "20",
                                    "Foglalás éve": "Részösszeg",
                                    "Foglalások száma": "5"
                                },
                                {
                                    "Szoba": "21",
                                    "Foglalás éve": "2016",
                                    "Foglalások száma": "4"
                                },
                                {
                                    "Szoba": "21",
                                    "Foglalás éve": "Részösszeg",
                                    "Foglalások száma": "4"
                                },
                                {
                                    "Szoba": "22",
                                    "Foglalás éve": "2016",
                                    "Foglalások száma": "6"
                                },
                                {
                                    "Szoba": "22",
                                    "Foglalás éve": "Részösszeg",
                                    "Foglalások száma": "6"
                                },
                                {
                                    "Szoba": "23",
                                    "Foglalás éve": "2016",
                                    "Foglalások száma": "3"
                                },
                                {
                                    "Szoba": "23",
                                    "Foglalás éve": "Részösszeg",
                                    "Foglalások száma": "3"
                                },
                                {
                                    "Szoba": "24",
                                    "Foglalás éve": "2016",
                                    "Foglalások száma": "2"
                                },
                                {
                                    "Szoba": "24",
                                    "Foglalás éve": "2017",
                                    "Foglalások száma": "1"
                                },
                                {
                                    "Szoba": "24",
                                    "Foglalás éve": "Részösszeg",
                                    "Foglalások száma": "3"
                                },
                                {
                                    "Szoba": "25",
                                    "Foglalás éve": "2016",
                                    "Foglalások száma": "2"
                                },
                                {
                                    "Szoba": "25",
                                    "Foglalás éve": "Részösszeg",
                                    "Foglalások száma": "2"
                                },
                                {
                                    "Szoba": "26",
                                    "Foglalás éve": "2016",
                                    "Foglalások száma": "2"
                                },
                                {
                                    "Szoba": "26",
                                    "Foglalás éve": "Részösszeg",
                                    "Foglalások száma": "2"
                                },
                                {
                                    "Szoba": "27",
                                    "Foglalás éve": "2016",
                                    "Foglalások száma": "6"
                                },
                                {
                                    "Szoba": "27",
                                    "Foglalás éve": "2017",
                                    "Foglalások száma": "1"
                                },
                                {
                                    "Szoba": "27",
                                    "Foglalás éve": "Részösszeg",
                                    "Foglalások száma": "7"
                                },
                                {
                                    "Szoba": "28",
                                    "Foglalás éve": "2016",
                                    "Foglalások száma": "5"
                                },
                                {
                                    "Szoba": "28",
                                    "Foglalás éve": "2017",
                                    "Foglalások száma": "1"
                                },
                                {
                                    "Szoba": "28",
                                    "Foglalás éve": "Részösszeg",
                                    "Foglalások száma": "6"
                                },
                                {
                                    "Szoba": "29",
                                    "Foglalás éve": "2016",
                                    "Foglalások száma": "5"
                                },
                                {
                                    "Szoba": "29",
                                    "Foglalás éve": "2017",
                                    "Foglalások száma": "1"
                                },
                                {
                                    "Szoba": "29",
                                    "Foglalás éve": "Részösszeg",
                                    "Foglalások száma": "6"
                                },
                                {
                                    "Szoba": "30",
                                    "Foglalás éve": "2016",
                                    "Foglalások száma": "3"
                                },
                                {
                                    "Szoba": "30",
                                    "Foglalás éve": "Részösszeg",
                                    "Foglalások száma": "3"
                                },
                                {
                                    "Szoba": "31",
                                    "Foglalás éve": "2016",
                                    "Foglalások száma": "3"
                                },
                                {
                                    "Szoba": "31",
                                    "Foglalás éve": "Részösszeg",
                                    "Foglalások száma": "3"
                                },
                                {
                                    "Szoba": "32",
                                    "Foglalás éve": "2016",
                                    "Foglalások száma": "1"
                                },
                                {
                                    "Szoba": "32",
                                    "Foglalás éve": "Részösszeg",
                                    "Foglalások száma": "1"
                                },
                                {
                                    "Szoba": "33",
                                    "Foglalás éve": "2016",
                                    "Foglalások száma": "6"
                                },
                                {
                                    "Szoba": "33",
                                    "Foglalás éve": "Részösszeg",
                                    "Foglalások száma": "6"
                                },
                                {
                                    "Szoba": "34",
                                    "Foglalás éve": "2016",
                                    "Foglalások száma": "4"
                                },
                                {
                                    "Szoba": "34",
                                    "Foglalás éve": "Részösszeg",
                                    "Foglalások száma": "4"
                                },
                                {
                                    "Szoba": "35",
                                    "Foglalás éve": "2016",
                                    "Foglalások száma": "6"
                                },
                                {
                                    "Szoba": "35",
                                    "Foglalás éve": "2017",
                                    "Foglalások száma": "3"
                                },
                                {
                                    "Szoba": "35",
                                    "Foglalás éve": "Részösszeg",
                                    "Foglalások száma": "9"
                                },
                                {
                                    "Szoba": "36",
                                    "Foglalás éve": "2016",
                                    "Foglalások száma": "6"
                                },
                                {
                                    "Szoba": "36",
                                    "Foglalás éve": "Részösszeg",
                                    "Foglalások száma": "6"
                                },
                                {
                                    "Szoba": "37",
                                    "Foglalás éve": "2016",
                                    "Foglalások száma": "3"
                                },
                                {
                                    "Szoba": "37",
                                    "Foglalás éve": "Részösszeg",
                                    "Foglalások száma": "3"
                                },
                                {
                                    "Szoba": "38",
                                    "Foglalás éve": "2016",
                                    "Foglalások száma": "5"
                                },
                                {
                                    "Szoba": "38",
                                    "Foglalás éve": "2017",
                                    "Foglalások száma": "3"
                                },
                                {
                                    "Szoba": "38",
                                    "Foglalás éve": "Részösszeg",
                                    "Foglalások száma": "8"
                                },
                                {
                                    "Szoba": "39",
                                    "Foglalás éve": "2016",
                                    "Foglalások száma": "4"
                                },
                                {
                                    "Szoba": "39",
                                    "Foglalás éve": "2017",
                                    "Foglalások száma": "3"
                                },
                                {
                                    "Szoba": "39",
                                    "Foglalás éve": "Részösszeg",
                                    "Foglalások száma": "7"
                                },
                                {
                                    "Szoba": "40",
                                    "Foglalás éve": "2016",
                                    "Foglalások száma": "4"
                                },
                                {
                                    "Szoba": "40",
                                    "Foglalás éve": "Részösszeg",
                                    "Foglalások száma": "4"
                                },
                                {
                                    "Szoba": "41",
                                    "Foglalás éve": "2016",
                                    "Foglalások száma": "2"
                                },
                                {
                                    "Szoba": "41",
                                    "Foglalás éve": "Részösszeg",
                                    "Foglalások száma": "2"
                                },
                                {
                                    "Szoba": "42",
                                    "Foglalás éve": "2016",
                                    "Foglalások száma": "5"
                                },
                                {
                                    "Szoba": "42",
                                    "Foglalás éve": "2017",
                                    "Foglalások száma": "1"
                                },
                                {
                                    "Szoba": "42",
                                    "Foglalás éve": "Részösszeg",
                                    "Foglalások száma": "6"
                                },
                                {
                                    "Szoba": "43",
                                    "Foglalás éve": "2016",
                                    "Foglalások száma": "6"
                                },
                                {
                                    "Szoba": "43",
                                    "Foglalás éve": "2017",
                                    "Foglalások száma": "2"
                                },
                                {
                                    "Szoba": "43",
                                    "Foglalás éve": "Részösszeg",
                                    "Foglalások száma": "8"
                                },
                                {
                                    "Szoba": "44",
                                    "Foglalás éve": "2016",
                                    "Foglalások száma": "4"
                                },
                                {
                                    "Szoba": "44",
                                    "Foglalás éve": "2017",
                                    "Foglalások száma": "2"
                                },
                                {
                                    "Szoba": "44",
                                    "Foglalás éve": "Részösszeg",
                                    "Foglalások száma": "6"
                                },
                                {
                                    "Szoba": "45",
                                    "Foglalás éve": "2016",
                                    "Foglalások száma": "5"
                                },
                                {
                                    "Szoba": "45",
                                    "Foglalás éve": "Részösszeg",
                                    "Foglalások száma": "5"
                                },
                                {
                                    "Szoba": "46",
                                    "Foglalás éve": "2016",
                                    "Foglalások száma": "3"
                                },
                                {
                                    "Szoba": "46",
                                    "Foglalás éve": "2017",
                                    "Foglalások száma": "1"
                                },
                                {
                                    "Szoba": "46",
                                    "Foglalás éve": "Részösszeg",
                                    "Foglalások száma": "4"
                                },
                                {
                                    "Szoba": "47",
                                    "Foglalás éve": "2016",
                                    "Foglalások száma": "2"
                                },
                                {
                                    "Szoba": "47",
                                    "Foglalás éve": "Részösszeg",
                                    "Foglalások száma": "2"
                                },
                                {
                                    "Szoba": "48",
                                    "Foglalás éve": "2016",
                                    "Foglalások száma": "6"
                                },
                                {
                                    "Szoba": "48",
                                    "Foglalás éve": "2017",
                                    "Foglalások száma": "3"
                                },
                                {
                                    "Szoba": "48",
                                    "Foglalás éve": "Részösszeg",
                                    "Foglalások száma": "9"
                                },
                                {
                                    "Szoba": "49",
                                    "Foglalás éve": "2016",
                                    "Foglalások száma": "6"
                                },
                                {
                                    "Szoba": "49",
                                    "Foglalás éve": "2017",
                                    "Foglalások száma": "1"
                                },
                                {
                                    "Szoba": "49",
                                    "Foglalás éve": "Részösszeg",
                                    "Foglalások száma": "7"
                                },
                                {
                                    "Szoba": "50",
                                    "Foglalás éve": "2016",
                                    "Foglalások száma": "4"
                                },
                                {
                                    "Szoba": "50",
                                    "Foglalás éve": "Részösszeg",
                                    "Foglalások száma": "4"
                                },
                                {
                                    "Szoba": "51",
                                    "Foglalás éve": "2016",
                                    "Foglalások száma": "3"
                                },
                                {
                                    "Szoba": "51",
                                    "Foglalás éve": "2017",
                                    "Foglalások száma": "2"
                                },
                                {
                                    "Szoba": "51",
                                    "Foglalás éve": "Részösszeg",
                                    "Foglalások száma": "5"
                                },
                                {
                                    "Szoba": "52",
                                    "Foglalás éve": "2016",
                                    "Foglalások száma": "3"
                                },
                                {
                                    "Szoba": "52",
                                    "Foglalás éve": "2017",
                                    "Foglalások száma": "2"
                                },
                                {
                                    "Szoba": "52",
                                    "Foglalás éve": "Részösszeg",
                                    "Foglalások száma": "5"
                                },
                                {
                                    "Szoba": "53",
                                    "Foglalás éve": "2016",
                                    "Foglalások száma": "2"
                                },
                                {
                                    "Szoba": "53",
                                    "Foglalás éve": "Részösszeg",
                                    "Foglalások száma": "2"
                                },
                                {
                                    "Szoba": "54",
                                    "Foglalás éve": "2016",
                                    "Foglalások száma": "6"
                                },
                                {
                                    "Szoba": "54",
                                    "Foglalás éve": "Részösszeg",
                                    "Foglalások száma": "6"
                                },
                                {
                                    "Szoba": "55",
                                    "Foglalás éve": "2016",
                                    "Foglalások száma": "6"
                                },
                                {
                                    "Szoba": "55",
                                    "Foglalás éve": "2017",
                                    "Foglalások száma": "2"
                                },
                                {
                                    "Szoba": "55",
                                    "Foglalás éve": "Részösszeg",
                                    "Foglalások száma": "8"
                                },
                                {
                                    "Szoba": "56",
                                    "Foglalás éve": "2016",
                                    "Foglalások száma": "2"
                                },
                                {
                                    "Szoba": "56",
                                    "Foglalás éve": "Részösszeg",
                                    "Foglalások száma": "2"
                                },
                                {
                                    "Szoba": "57",
                                    "Foglalás éve": "2016",
                                    "Foglalások száma": "2"
                                },
                                {
                                    "Szoba": "57",
                                    "Foglalás éve": "2017",
                                    "Foglalások száma": "2"
                                },
                                {
                                    "Szoba": "57",
                                    "Foglalás éve": "Részösszeg",
                                    "Foglalások száma": "4"
                                },
                                {
                                    "Szoba": "58",
                                    "Foglalás éve": "2016",
                                    "Foglalások száma": "12"
                                },
                                {
                                    "Szoba": "58",
                                    "Foglalás éve": "2017",
                                    "Foglalások száma": "1"
                                },
                                {
                                    "Szoba": "58",
                                    "Foglalás éve": "Részösszeg",
                                    "Foglalások száma": "13"
                                },
                                {
                                    "Szoba": "59",
                                    "Foglalás éve": "2016",
                                    "Foglalások száma": "6"
                                },
                                {
                                    "Szoba": "59",
                                    "Foglalás éve": "2017",
                                    "Foglalások száma": "1"
                                },
                                {
                                    "Szoba": "59",
                                    "Foglalás éve": "Részösszeg",
                                    "Foglalások száma": "7"
                                },
                                {
                                    "Szoba": "60",
                                    "Foglalás éve": "2016",
                                    "Foglalások száma": "1"
                                },
                                {
                                    "Szoba": "60",
                                    "Foglalás éve": "Részösszeg",
                                    "Foglalások száma": "1"
                                },
                                {
                                    "Szoba": "61",
                                    "Foglalás éve": "2016",
                                    "Foglalások száma": "4"
                                },
                                {
                                    "Szoba": "61",
                                    "Foglalás éve": "2017",
                                    "Foglalások száma": "1"
                                },
                                {
                                    "Szoba": "61",
                                    "Foglalás éve": "Részösszeg",
                                    "Foglalások száma": "5"
                                },
                                {
                                    "Szoba": "62",
                                    "Foglalás éve": "2016",
                                    "Foglalások száma": "4"
                                },
                                {
                                    "Szoba": "62",
                                    "Foglalás éve": "2017",
                                    "Foglalások száma": "1"
                                },
                                {
                                    "Szoba": "62",
                                    "Foglalás éve": "Részösszeg",
                                    "Foglalások száma": "5"
                                },
                                {
                                    "Szoba": "63",
                                    "Foglalás éve": "2016",
                                    "Foglalások száma": "4"
                                },
                                {
                                    "Szoba": "63",
                                    "Foglalás éve": "Részösszeg",
                                    "Foglalások száma": "4"
                                },
                                {
                                    "Szoba": "64",
                                    "Foglalás éve": "2016",
                                    "Foglalások száma": "3"
                                },
                                {
                                    "Szoba": "64",
                                    "Foglalás éve": "2017",
                                    "Foglalások száma": "3"
                                },
                                {
                                    "Szoba": "64",
                                    "Foglalás éve": "Részösszeg",
                                    "Foglalások száma": "6"
                                },
                                {
                                    "Szoba": "65",
                                    "Foglalás éve": "2016",
                                    "Foglalások száma": "1"
                                },
                                {
                                    "Szoba": "65",
                                    "Foglalás éve": "Részösszeg",
                                    "Foglalások száma": "1"
                                },
                                {
                                    "Szoba": "66",
                                    "Foglalás éve": "2016",
                                    "Foglalások száma": "4"
                                },
                                {
                                    "Szoba": "66",
                                    "Foglalás éve": "Részösszeg",
                                    "Foglalások száma": "4"
                                },
                                {
                                    "Szoba": "67",
                                    "Foglalás éve": "2016",
                                    "Foglalások száma": "4"
                                },
                                {
                                    "Szoba": "67",
                                    "Foglalás éve": "2017",
                                    "Foglalások száma": "2"
                                },
                                {
                                    "Szoba": "67",
                                    "Foglalás éve": "Részösszeg",
                                    "Foglalások száma": "6"
                                },
                                {
                                    "Szoba": "68",
                                    "Foglalás éve": "2016",
                                    "Foglalások száma": "3"
                                },
                                {
                                    "Szoba": "68",
                                    "Foglalás éve": "Részösszeg",
                                    "Foglalások száma": "3"
                                },
                                {
                                    "Szoba": "69",
                                    "Foglalás éve": "2016",
                                    "Foglalások száma": "4"
                                },
                                {
                                    "Szoba": "69",
                                    "Foglalás éve": "Részösszeg",
                                    "Foglalások száma": "4"
                                },
                                {
                                    "Szoba": "70",
                                    "Foglalás éve": "2016",
                                    "Foglalások száma": "10"
                                },
                                {
                                    "Szoba": "70",
                                    "Foglalás éve": "2017",
                                    "Foglalások száma": "1"
                                },
                                {
                                    "Szoba": "70",
                                    "Foglalás éve": "Részösszeg",
                                    "Foglalások száma": "11"
                                },
                                {
                                    "Szoba": "71",
                                    "Foglalás éve": "2016",
                                    "Foglalások száma": "3"
                                },
                                {
                                    "Szoba": "71",
                                    "Foglalás éve": "Részösszeg",
                                    "Foglalások száma": "3"
                                },
                                {
                                    "Szoba": "72",
                                    "Foglalás éve": "2016",
                                    "Foglalások száma": "4"
                                },
                                {
                                    "Szoba": "72",
                                    "Foglalás éve": "Részösszeg",
                                    "Foglalások száma": "4"
                                },
                                {
                                    "Szoba": "73",
                                    "Foglalás éve": "2016",
                                    "Foglalások száma": "4"
                                },
                                {
                                    "Szoba": "73",
                                    "Foglalás éve": "Részösszeg",
                                    "Foglalások száma": "4"
                                },
                                {
                                    "Szoba": "74",
                                    "Foglalás éve": "2016",
                                    "Foglalások száma": "9"
                                },
                                {
                                    "Szoba": "74",
                                    "Foglalás éve": "Részösszeg",
                                    "Foglalások száma": "9"
                                },
                                {
                                    "Szoba": "75",
                                    "Foglalás éve": "2016",
                                    "Foglalások száma": "1"
                                },
                                {
                                    "Szoba": "75",
                                    "Foglalás éve": "2017",
                                    "Foglalások száma": "2"
                                },
                                {
                                    "Szoba": "75",
                                    "Foglalás éve": "Részösszeg",
                                    "Foglalások száma": "3"
                                },
                                {
                                    "Szoba": "76",
                                    "Foglalás éve": "2016",
                                    "Foglalások száma": "2"
                                },
                                {
                                    "Szoba": "76",
                                    "Foglalás éve": "2017",
                                    "Foglalások száma": "1"
                                },
                                {
                                    "Szoba": "76",
                                    "Foglalás éve": "Részösszeg",
                                    "Foglalások száma": "3"
                                },
                                {
                                    "Szoba": "77",
                                    "Foglalás éve": "2016",
                                    "Foglalások száma": "4"
                                },
                                {
                                    "Szoba": "77",
                                    "Foglalás éve": "2017",
                                    "Foglalások száma": "2"
                                },
                                {
                                    "Szoba": "77",
                                    "Foglalás éve": "Részösszeg",
                                    "Foglalások száma": "6"
                                },
                                {
                                    "Szoba": "78",
                                    "Foglalás éve": "2016",
                                    "Foglalások száma": "5"
                                },
                                {
                                    "Szoba": "78",
                                    "Foglalás éve": "2017",
                                    "Foglalások száma": "1"
                                },
                                {
                                    "Szoba": "78",
                                    "Foglalás éve": "Részösszeg",
                                    "Foglalások száma": "6"
                                },
                                {
                                    "Szoba": "79",
                                    "Foglalás éve": "2016",
                                    "Foglalások száma": "4"
                                },
                                {
                                    "Szoba": "79",
                                    "Foglalás éve": "2017",
                                    "Foglalások száma": "1"
                                },
                                {
                                    "Szoba": "79",
                                    "Foglalás éve": "Részösszeg",
                                    "Foglalások száma": "5"
                                },
                                {
                                    "Szoba": "80",
                                    "Foglalás éve": "2016",
                                    "Foglalások száma": "7"
                                },
                                {
                                    "Szoba": "80",
                                    "Foglalás éve": "Részösszeg",
                                    "Foglalások száma": "7"
                                },
                                {
                                    "Szoba": "81",
                                    "Foglalás éve": "2016",
                                    "Foglalások száma": "1"
                                },
                                {
                                    "Szoba": "81",
                                    "Foglalás éve": "2017",
                                    "Foglalások száma": "4"
                                },
                                {
                                    "Szoba": "81",
                                    "Foglalás éve": "Részösszeg",
                                    "Foglalások száma": "5"
                                },
                                {
                                    "Szoba": "82",
                                    "Foglalás éve": "2016",
                                    "Foglalások száma": "6"
                                },
                                {
                                    "Szoba": "82",
                                    "Foglalás éve": "Részösszeg",
                                    "Foglalások száma": "6"
                                },
                                {
                                    "Szoba": "83",
                                    "Foglalás éve": "2016",
                                    "Foglalások száma": "8"
                                },
                                {
                                    "Szoba": "83",
                                    "Foglalás éve": "Részösszeg",
                                    "Foglalások száma": "8"
                                },
                                {
                                    "Szoba": "84",
                                    "Foglalás éve": "2016",
                                    "Foglalások száma": "4"
                                },
                                {
                                    "Szoba": "84",
                                    "Foglalás éve": "Részösszeg",
                                    "Foglalások száma": "4"
                                },
                                {
                                    "Szoba": "85",
                                    "Foglalás éve": "2016",
                                    "Foglalások száma": "3"
                                },
                                {
                                    "Szoba": "85",
                                    "Foglalás éve": "2017",
                                    "Foglalások száma": "1"
                                },
                                {
                                    "Szoba": "85",
                                    "Foglalás éve": "Részösszeg",
                                    "Foglalások száma": "4"
                                },
                                {
                                    "Szoba": "86",
                                    "Foglalás éve": "2016",
                                    "Foglalások száma": "4"
                                },
                                {
                                    "Szoba": "86",
                                    "Foglalás éve": "2017",
                                    "Foglalások száma": "1"
                                },
                                {
                                    "Szoba": "86",
                                    "Foglalás éve": "Részösszeg",
                                    "Foglalások száma": "5"
                                },
                                {
                                    "Szoba": "87",
                                    "Foglalás éve": "2016",
                                    "Foglalások száma": "4"
                                },
                                {
                                    "Szoba": "87",
                                    "Foglalás éve": "2017",
                                    "Foglalások száma": "1"
                                },
                                {
                                    "Szoba": "87",
                                    "Foglalás éve": "Részösszeg",
                                    "Foglalások száma": "5"
                                },
                                {
                                    "Szoba": "88",
                                    "Foglalás éve": "2016",
                                    "Foglalások száma": "6"
                                },
                                {
                                    "Szoba": "88",
                                    "Foglalás éve": "2017",
                                    "Foglalások száma": "2"
                                },
                                {
                                    "Szoba": "88",
                                    "Foglalás éve": "Részösszeg",
                                    "Foglalások száma": "8"
                                },
                                {
                                    "Szoba": "89",
                                    "Foglalás éve": "2016",
                                    "Foglalások száma": "7"
                                },
                                {
                                    "Szoba": "89",
                                    "Foglalás éve": "2017",
                                    "Foglalások száma": "1"
                                },
                                {
                                    "Szoba": "89",
                                    "Foglalás éve": "Részösszeg",
                                    "Foglalások száma": "8"
                                },
                                {
                                    "Szoba": "90",
                                    "Foglalás éve": "2016",
                                    "Foglalások száma": "4"
                                },
                                {
                                    "Szoba": "90",
                                    "Foglalás éve": "Részösszeg",
                                    "Foglalások száma": "4"
                                },
                                {
                                    "Szoba": "91",
                                    "Foglalás éve": "2016",
                                    "Foglalások száma": "4"
                                },
                                {
                                    "Szoba": "91",
                                    "Foglalás éve": "Részösszeg",
                                    "Foglalások száma": "4"
                                },
                                {
                                    "Szoba": "92",
                                    "Foglalás éve": "2016",
                                    "Foglalások száma": "4"
                                },
                                {
                                    "Szoba": "92",
                                    "Foglalás éve": "2017",
                                    "Foglalások száma": "2"
                                },
                                {
                                    "Szoba": "92",
                                    "Foglalás éve": "Részösszeg",
                                    "Foglalások száma": "6"
                                },
                                {
                                    "Szoba": "93",
                                    "Foglalás éve": "2016",
                                    "Foglalások száma": "5"
                                },
                                {
                                    "Szoba": "93",
                                    "Foglalás éve": "Részösszeg",
                                    "Foglalások száma": "5"
                                },
                                {
                                    "Szoba": "94",
                                    "Foglalás éve": "2016",
                                    "Foglalások száma": "8"
                                },
                                {
                                    "Szoba": "94",
                                    "Foglalás éve": "2017",
                                    "Foglalások száma": "2"
                                },
                                {
                                    "Szoba": "94",
                                    "Foglalás éve": "Részösszeg",
                                    "Foglalások száma": "10"
                                },
                                {
                                    "Szoba": "95",
                                    "Foglalás éve": "2016",
                                    "Foglalások száma": "3"
                                },
                                {
                                    "Szoba": "95",
                                    "Foglalás éve": "2017",
                                    "Foglalások száma": "1"
                                },
                                {
                                    "Szoba": "95",
                                    "Foglalás éve": "Részösszeg",
                                    "Foglalások száma": "4"
                                },
                                {
                                    "Szoba": "96",
                                    "Foglalás éve": "2016",
                                    "Foglalások száma": "5"
                                },
                                {
                                    "Szoba": "96",
                                    "Foglalás éve": "2017",
                                    "Foglalások száma": "2"
                                },
                                {
                                    "Szoba": "96",
                                    "Foglalás éve": "Részösszeg",
                                    "Foglalások száma": "7"
                                },
                                {
                                    "Szoba": "97",
                                    "Foglalás éve": "2016",
                                    "Foglalások száma": "5"
                                },
                                {
                                    "Szoba": "97",
                                    "Foglalás éve": "2017",
                                    "Foglalások száma": "2"
                                },
                                {
                                    "Szoba": "97",
                                    "Foglalás éve": "Részösszeg",
                                    "Foglalások száma": "7"
                                },
                                {
                                    "Szoba": "98",
                                    "Foglalás éve": "2016",
                                    "Foglalások száma": "4"
                                },
                                {
                                    "Szoba": "98",
                                    "Foglalás éve": "Részösszeg",
                                    "Foglalások száma": "4"
                                },
                                {
                                    "Szoba": "99",
                                    "Foglalás éve": "2016",
                                    "Foglalások száma": "4"
                                },
                                {
                                    "Szoba": "99",
                                    "Foglalás éve": "2017",
                                    "Foglalások száma": "1"
                                },
                                {
                                    "Szoba": "99",
                                    "Foglalás éve": "Részösszeg",
                                    "Foglalások száma": "5"
                                },
                                {
                                    "Szoba": "100",
                                    "Foglalás éve": "2016",
                                    "Foglalások száma": "3"
                                },
                                {
                                    "Szoba": "100",
                                    "Foglalás éve": "2017",
                                    "Foglalások száma": "1"
                                },
                                {
                                    "Szoba": "100",
                                    "Foglalás éve": "Részösszeg",
                                    "Foglalások száma": "4"
                                },
                                {
                                    "Szoba": "101",
                                    "Foglalás éve": "2016",
                                    "Foglalások száma": "2"
                                },
                                {
                                    "Szoba": "101",
                                    "Foglalás éve": "2017",
                                    "Foglalások száma": "1"
                                },
                                {
                                    "Szoba": "101",
                                    "Foglalás éve": "Részösszeg",
                                    "Foglalások száma": "3"
                                },
                                {
                                    "Szoba": "102",
                                    "Foglalás éve": "2016",
                                    "Foglalások száma": "2"
                                },
                                {
                                    "Szoba": "102",
                                    "Foglalás éve": "Részösszeg",
                                    "Foglalások száma": "2"
                                },
                                {
                                    "Szoba": "103",
                                    "Foglalás éve": "2016",
                                    "Foglalások száma": "3"
                                },
                                {
                                    "Szoba": "103",
                                    "Foglalás éve": "2017",
                                    "Foglalások száma": "1"
                                },
                                {
                                    "Szoba": "103",
                                    "Foglalás éve": "Részösszeg",
                                    "Foglalások száma": "4"
                                },
                                {
                                    "Szoba": "104",
                                    "Foglalás éve": "2016",
                                    "Foglalások száma": "2"
                                },
                                {
                                    "Szoba": "104",
                                    "Foglalás éve": "2017",
                                    "Foglalások száma": "2"
                                },
                                {
                                    "Szoba": "104",
                                    "Foglalás éve": "Részösszeg",
                                    "Foglalások száma": "4"
                                },
                                {
                                    "Szoba": "105",
                                    "Foglalás éve": "2016",
                                    "Foglalások száma": "1"
                                },
                                {
                                    "Szoba": "105",
                                    "Foglalás éve": "2017",
                                    "Foglalások száma": "1"
                                },
                                {
                                    "Szoba": "105",
                                    "Foglalás éve": "Részösszeg",
                                    "Foglalások száma": "2"
                                },
                                {
                                    "Szoba": "106",
                                    "Foglalás éve": "2016",
                                    "Foglalások száma": "5"
                                },
                                {
                                    "Szoba": "106",
                                    "Foglalás éve": "2017",
                                    "Foglalások száma": "1"
                                },
                                {
                                    "Szoba": "106",
                                    "Foglalás éve": "Részösszeg",
                                    "Foglalások száma": "6"
                                },
                                {
                                    "Szoba": "107",
                                    "Foglalás éve": "2016",
                                    "Foglalások száma": "3"
                                },
                                {
                                    "Szoba": "107",
                                    "Foglalás éve": "2017",
                                    "Foglalások száma": "2"
                                },
                                {
                                    "Szoba": "107",
                                    "Foglalás éve": "Részösszeg",
                                    "Foglalások száma": "5"
                                },
                                {
                                    "Szoba": "108",
                                    "Foglalás éve": "2016",
                                    "Foglalások száma": "2"
                                },
                                {
                                    "Szoba": "108",
                                    "Foglalás éve": "Részösszeg",
                                    "Foglalások száma": "2"
                                },
                                {
                                    "Szoba": "109",
                                    "Foglalás éve": "2016",
                                    "Foglalások száma": "6"
                                },
                                {
                                    "Szoba": "109",
                                    "Foglalás éve": "2017",
                                    "Foglalások száma": "1"
                                },
                                {
                                    "Szoba": "109",
                                    "Foglalás éve": "Részösszeg",
                                    "Foglalások száma": "7"
                                },
                                {
                                    "Szoba": "110",
                                    "Foglalás éve": "2016",
                                    "Foglalások száma": "6"
                                },
                                {
                                    "Szoba": "110",
                                    "Foglalás éve": "2017",
                                    "Foglalások száma": "2"
                                },
                                {
                                    "Szoba": "110",
                                    "Foglalás éve": "Részösszeg",
                                    "Foglalások száma": "8"
                                },
                                {
                                    "Szoba": "111",
                                    "Foglalás éve": "2016",
                                    "Foglalások száma": "5"
                                },
                                {
                                    "Szoba": "111",
                                    "Foglalás éve": "Részösszeg",
                                    "Foglalások száma": "5"
                                },
                                {
                                    "Szoba": "112",
                                    "Foglalás éve": "2016",
                                    "Foglalások száma": "4"
                                },
                                {
                                    "Szoba": "112",
                                    "Foglalás éve": "2017",
                                    "Foglalások száma": "1"
                                },
                                {
                                    "Szoba": "112",
                                    "Foglalás éve": "Részösszeg",
                                    "Foglalások száma": "5"
                                },
                                {
                                    "Szoba": "113",
                                    "Foglalás éve": "2016",
                                    "Foglalások száma": "3"
                                },
                                {
                                    "Szoba": "113",
                                    "Foglalás éve": "2017",
                                    "Foglalások száma": "2"
                                },
                                {
                                    "Szoba": "113",
                                    "Foglalás éve": "Részösszeg",
                                    "Foglalások száma": "5"
                                },
                                {
                                    "Szoba": "114",
                                    "Foglalás éve": "2016",
                                    "Foglalások száma": "3"
                                },
                                {
                                    "Szoba": "114",
                                    "Foglalás éve": "2017",
                                    "Foglalások száma": "1"
                                },
                                {
                                    "Szoba": "114",
                                    "Foglalás éve": "Részösszeg",
                                    "Foglalások száma": "4"
                                },
                                {
                                    "Szoba": "115",
                                    "Foglalás éve": "2016",
                                    "Foglalások száma": "5"
                                },
                                {
                                    "Szoba": "115",
                                    "Foglalás éve": "2017",
                                    "Foglalások száma": "2"
                                },
                                {
                                    "Szoba": "115",
                                    "Foglalás éve": "Részösszeg",
                                    "Foglalások száma": "7"
                                },
                                {
                                    "Szoba": "116",
                                    "Foglalás éve": "2017",
                                    "Foglalások száma": "2"
                                },
                                {
                                    "Szoba": "116",
                                    "Foglalás éve": "Részösszeg",
                                    "Foglalások száma": "2"
                                },
                                {
                                    "Szoba": "117",
                                    "Foglalás éve": "2016",
                                    "Foglalások száma": "7"
                                },
                                {
                                    "Szoba": "117",
                                    "Foglalás éve": "2017",
                                    "Foglalások száma": "1"
                                },
                                {
                                    "Szoba": "117",
                                    "Foglalás éve": "Részösszeg",
                                    "Foglalások száma": "8"
                                },
                                {
                                    "Szoba": "118",
                                    "Foglalás éve": "2016",
                                    "Foglalások száma": "5"
                                },
                                {
                                    "Szoba": "118",
                                    "Foglalás éve": "2017",
                                    "Foglalások száma": "2"
                                },
                                {
                                    "Szoba": "118",
                                    "Foglalás éve": "Részösszeg",
                                    "Foglalások száma": "7"
                                },
                                {
                                    "Szoba": "119",
                                    "Foglalás éve": "2016",
                                    "Foglalások száma": "3"
                                },
                                {
                                    "Szoba": "119",
                                    "Foglalás éve": "2017",
                                    "Foglalások száma": "2"
                                },
                                {
                                    "Szoba": "119",
                                    "Foglalás éve": "Részösszeg",
                                    "Foglalások száma": "5"
                                },
                                {
                                    "Szoba": "120",
                                    "Foglalás éve": "2016",
                                    "Foglalások száma": "4"
                                },
                                {
                                    "Szoba": "120",
                                    "Foglalás éve": "2017",
                                    "Foglalások száma": "2"
                                },
                                {
                                    "Szoba": "120",
                                    "Foglalás éve": "Részösszeg",
                                    "Foglalások száma": "6"
                                },
                                {
                                    "Szoba": "121",
                                    "Foglalás éve": "2016",
                                    "Foglalások száma": "8"
                                },
                                {
                                    "Szoba": "121",
                                    "Foglalás éve": "Részösszeg",
                                    "Foglalások száma": "8"
                                },
                                {
                                    "Szoba": "122",
                                    "Foglalás éve": "2016",
                                    "Foglalások száma": "8"
                                },
                                {
                                    "Szoba": "122",
                                    "Foglalás éve": "2017",
                                    "Foglalások száma": "1"
                                },
                                {
                                    "Szoba": "122",
                                    "Foglalás éve": "Részösszeg",
                                    "Foglalások száma": "9"
                                },
                                {
                                    "Szoba": "123",
                                    "Foglalás éve": "2016",
                                    "Foglalások száma": "5"
                                },
                                {
                                    "Szoba": "123",
                                    "Foglalás éve": "Részösszeg",
                                    "Foglalások száma": "5"
                                },
                                {
                                    "Szoba": "124",
                                    "Foglalás éve": "2016",
                                    "Foglalások száma": "4"
                                },
                                {
                                    "Szoba": "124",
                                    "Foglalás éve": "2017",
                                    "Foglalások száma": "2"
                                },
                                {
                                    "Szoba": "124",
                                    "Foglalás éve": "Részösszeg",
                                    "Foglalások száma": "6"
                                },
                                {
                                    "Szoba": "125",
                                    "Foglalás éve": "2016",
                                    "Foglalások száma": "1"
                                },
                                {
                                    "Szoba": "125",
                                    "Foglalás éve": "Részösszeg",
                                    "Foglalások száma": "1"
                                },
                                {
                                    "Szoba": "126",
                                    "Foglalás éve": "2016",
                                    "Foglalások száma": "4"
                                },
                                {
                                    "Szoba": "126",
                                    "Foglalás éve": "2017",
                                    "Foglalások száma": "2"
                                },
                                {
                                    "Szoba": "126",
                                    "Foglalás éve": "Részösszeg",
                                    "Foglalások száma": "6"
                                },
                                {
                                    "Szoba": "127",
                                    "Foglalás éve": "2016",
                                    "Foglalások száma": "6"
                                },
                                {
                                    "Szoba": "127",
                                    "Foglalás éve": "2017",
                                    "Foglalások száma": "1"
                                },
                                {
                                    "Szoba": "127",
                                    "Foglalás éve": "Részösszeg",
                                    "Foglalások száma": "7"
                                },
                                {
                                    "Szoba": "128",
                                    "Foglalás éve": "2016",
                                    "Foglalások száma": "3"
                                },
                                {
                                    "Szoba": "128",
                                    "Foglalás éve": "2017",
                                    "Foglalások száma": "2"
                                },
                                {
                                    "Szoba": "128",
                                    "Foglalás éve": "Részösszeg",
                                    "Foglalások száma": "5"
                                },
                                {
                                    "Szoba": "129",
                                    "Foglalás éve": "2016",
                                    "Foglalások száma": "2"
                                },
                                {
                                    "Szoba": "129",
                                    "Foglalás éve": "2017",
                                    "Foglalások száma": "2"
                                },
                                {
                                    "Szoba": "129",
                                    "Foglalás éve": "Részösszeg",
                                    "Foglalások száma": "4"
                                },
                                {
                                    "Szoba": "130",
                                    "Foglalás éve": "2016",
                                    "Foglalások száma": "5"
                                },
                                {
                                    "Szoba": "130",
                                    "Foglalás éve": "2017",
                                    "Foglalások száma": "1"
                                },
                                {
                                    "Szoba": "130",
                                    "Foglalás éve": "Részösszeg",
                                    "Foglalások száma": "6"
                                },
                                {
                                    "Szoba": "131",
                                    "Foglalás éve": "2016",
                                    "Foglalások száma": "4"
                                },
                                {
                                    "Szoba": "131",
                                    "Foglalás éve": "2017",
                                    "Foglalások száma": "1"
                                },
                                {
                                    "Szoba": "131",
                                    "Foglalás éve": "Részösszeg",
                                    "Foglalások száma": "5"
                                },
                                {
                                    "Szoba": "132",
                                    "Foglalás éve": "2016",
                                    "Foglalások száma": "5"
                                },
                                {
                                    "Szoba": "132",
                                    "Foglalás éve": "2017",
                                    "Foglalások száma": "1"
                                },
                                {
                                    "Szoba": "132",
                                    "Foglalás éve": "Részösszeg",
                                    "Foglalások száma": "6"
                                },
                                {
                                    "Szoba": "133",
                                    "Foglalás éve": "2016",
                                    "Foglalások száma": "5"
                                },
                                {
                                    "Szoba": "133",
                                    "Foglalás éve": "2017",
                                    "Foglalások száma": "1"
                                },
                                {
                                    "Szoba": "133",
                                    "Foglalás éve": "Részösszeg",
                                    "Foglalások száma": "6"
                                },
                                {
                                    "Szoba": "134",
                                    "Foglalás éve": "2016",
                                    "Foglalások száma": "5"
                                },
                                {
                                    "Szoba": "134",
                                    "Foglalás éve": "2017",
                                    "Foglalások száma": "1"
                                },
                                {
                                    "Szoba": "134",
                                    "Foglalás éve": "Részösszeg",
                                    "Foglalások száma": "6"
                                },
                                {
                                    "Szoba": "135",
                                    "Foglalás éve": "2016",
                                    "Foglalások száma": "3"
                                },
                                {
                                    "Szoba": "135",
                                    "Foglalás éve": "Részösszeg",
                                    "Foglalások száma": "3"
                                },
                                {
                                    "Szoba": "136",
                                    "Foglalás éve": "2016",
                                    "Foglalások száma": "3"
                                },
                                {
                                    "Szoba": "136",
                                    "Foglalás éve": "Részösszeg",
                                    "Foglalások száma": "3"
                                },
                                {
                                    "Szoba": "137",
                                    "Foglalás éve": "2016",
                                    "Foglalások száma": "6"
                                },
                                {
                                    "Szoba": "137",
                                    "Foglalás éve": "Részösszeg",
                                    "Foglalások száma": "6"
                                },
                                {
                                    "Szoba": "138",
                                    "Foglalás éve": "2016",
                                    "Foglalások száma": "7"
                                },
                                {
                                    "Szoba": "138",
                                    "Foglalás éve": "Részösszeg",
                                    "Foglalások száma": "7"
                                },
                                {
                                    "Szoba": "139",
                                    "Foglalás éve": "2016",
                                    "Foglalások száma": "5"
                                },
                                {
                                    "Szoba": "139",
                                    "Foglalás éve": "2017",
                                    "Foglalások száma": "2"
                                },
                                {
                                    "Szoba": "139",
                                    "Foglalás éve": "Részösszeg",
                                    "Foglalások száma": "7"
                                },
                                {
                                    "Szoba": "140",
                                    "Foglalás éve": "2016",
                                    "Foglalások száma": "8"
                                },
                                {
                                    "Szoba": "140",
                                    "Foglalás éve": "Részösszeg",
                                    "Foglalások száma": "8"
                                },
                                {
                                    "Szoba": "141",
                                    "Foglalás éve": "2016",
                                    "Foglalások száma": "6"
                                },
                                {
                                    "Szoba": "141",
                                    "Foglalás éve": "Részösszeg",
                                    "Foglalások száma": "6"
                                },
                                {
                                    "Szoba": "142",
                                    "Foglalás éve": "2016",
                                    "Foglalások száma": "1"
                                },
                                {
                                    "Szoba": "142",
                                    "Foglalás éve": "2017",
                                    "Foglalások száma": "1"
                                },
                                {
                                    "Szoba": "142",
                                    "Foglalás éve": "Részösszeg",
                                    "Foglalások száma": "2"
                                },
                                {
                                    "Szoba": "143",
                                    "Foglalás éve": "2016",
                                    "Foglalások száma": "6"
                                },
                                {
                                    "Szoba": "143",
                                    "Foglalás éve": "2017",
                                    "Foglalások száma": "1"
                                },
                                {
                                    "Szoba": "143",
                                    "Foglalás éve": "Részösszeg",
                                    "Foglalások száma": "7"
                                },
                                {
                                    "Szoba": "144",
                                    "Foglalás éve": "2016",
                                    "Foglalások száma": "4"
                                },
                                {
                                    "Szoba": "144",
                                    "Foglalás éve": "2017",
                                    "Foglalások száma": "1"
                                },
                                {
                                    "Szoba": "144",
                                    "Foglalás éve": "Részösszeg",
                                    "Foglalások száma": "5"
                                },
                                {
                                    "Szoba": "145",
                                    "Foglalás éve": "2016",
                                    "Foglalások száma": "5"
                                },
                                {
                                    "Szoba": "145",
                                    "Foglalás éve": "2017",
                                    "Foglalások száma": "1"
                                },
                                {
                                    "Szoba": "145",
                                    "Foglalás éve": "Részösszeg",
                                    "Foglalások száma": "6"
                                },
                                {
                                    "Szoba": "146",
                                    "Foglalás éve": "2016",
                                    "Foglalások száma": "5"
                                },
                                {
                                    "Szoba": "146",
                                    "Foglalás éve": "2017",
                                    "Foglalások száma": "1"
                                },
                                {
                                    "Szoba": "146",
                                    "Foglalás éve": "Részösszeg",
                                    "Foglalások száma": "6"
                                },
                                {
                                    "Szoba": "147",
                                    "Foglalás éve": "2016",
                                    "Foglalások száma": "1"
                                },
                                {
                                    "Szoba": "147",
                                    "Foglalás éve": "Részösszeg",
                                    "Foglalások száma": "1"
                                },
                                {
                                    "Szoba": "148",
                                    "Foglalás éve": "2016",
                                    "Foglalások száma": "5"
                                },
                                {
                                    "Szoba": "148",
                                    "Foglalás éve": "2017",
                                    "Foglalások száma": "1"
                                },
                                {
                                    "Szoba": "148",
                                    "Foglalás éve": "Részösszeg",
                                    "Foglalások száma": "6"
                                },
                                {
                                    "Szoba": "149",
                                    "Foglalás éve": "2016",
                                    "Foglalások száma": "6"
                                },
                                {
                                    "Szoba": "149",
                                    "Foglalás éve": "2017",
                                    "Foglalások száma": "1"
                                },
                                {
                                    "Szoba": "149",
                                    "Foglalás éve": "Részösszeg",
                                    "Foglalások száma": "7"
                                },
                                {
                                    "Szoba": "150",
                                    "Foglalás éve": "2016",
                                    "Foglalások száma": "5"
                                },
                                {
                                    "Szoba": "150",
                                    "Foglalás éve": "2017",
                                    "Foglalások száma": "1"
                                },
                                {
                                    "Szoba": "150",
                                    "Foglalás éve": "Részösszeg",
                                    "Foglalások száma": "6"
                                },
                                {
                                    "Szoba": "151",
                                    "Foglalás éve": "2016",
                                    "Foglalások száma": "3"
                                },
                                {
                                    "Szoba": "151",
                                    "Foglalás éve": "Részösszeg",
                                    "Foglalások száma": "3"
                                },
                                {
                                    "Szoba": "152",
                                    "Foglalás éve": "2016",
                                    "Foglalások száma": "3"
                                },
                                {
                                    "Szoba": "152",
                                    "Foglalás éve": "2017",
                                    "Foglalások száma": "1"
                                },
                                {
                                    "Szoba": "152",
                                    "Foglalás éve": "Részösszeg",
                                    "Foglalások száma": "4"
                                },
                                {
                                    "Szoba": "153",
                                    "Foglalás éve": "2016",
                                    "Foglalások száma": "2"
                                },
                                {
                                    "Szoba": "153",
                                    "Foglalás éve": "2017",
                                    "Foglalások száma": "3"
                                },
                                {
                                    "Szoba": "153",
                                    "Foglalás éve": "Részösszeg",
                                    "Foglalások száma": "5"
                                },
                                {
                                    "Szoba": "154",
                                    "Foglalás éve": "2016",
                                    "Foglalások száma": "4"
                                },
                                {
                                    "Szoba": "154",
                                    "Foglalás éve": "2017",
                                    "Foglalások száma": "1"
                                },
                                {
                                    "Szoba": "154",
                                    "Foglalás éve": "Részösszeg",
                                    "Foglalások száma": "5"
                                },
                                {
                                    "Szoba": "155",
                                    "Foglalás éve": "2016",
                                    "Foglalások száma": "4"
                                },
                                {
                                    "Szoba": "155",
                                    "Foglalás éve": "2017",
                                    "Foglalások száma": "1"
                                },
                                {
                                    "Szoba": "155",
                                    "Foglalás éve": "Részösszeg",
                                    "Foglalások száma": "5"
                                },
                                {
                                    "Szoba": "156",
                                    "Foglalás éve": "2016",
                                    "Foglalások száma": "4"
                                },
                                {
                                    "Szoba": "156",
                                    "Foglalás éve": "2017",
                                    "Foglalások száma": "3"
                                },
                                {
                                    "Szoba": "156",
                                    "Foglalás éve": "Részösszeg",
                                    "Foglalások száma": "7"
                                },
                                {
                                    "Szoba": "157",
                                    "Foglalás éve": "2016",
                                    "Foglalások száma": "4"
                                },
                                {
                                    "Szoba": "157",
                                    "Foglalás éve": "2017",
                                    "Foglalások száma": "1"
                                },
                                {
                                    "Szoba": "157",
                                    "Foglalás éve": "Részösszeg",
                                    "Foglalások száma": "5"
                                },
                                {
                                    "Szoba": "158",
                                    "Foglalás éve": "2016",
                                    "Foglalások száma": "3"
                                },
                                {
                                    "Szoba": "158",
                                    "Foglalás éve": "Részösszeg",
                                    "Foglalások száma": "3"
                                },
                                {
                                    "Szoba": "160",
                                    "Foglalás éve": "2016",
                                    "Foglalások száma": "4"
                                },
                                {
                                    "Szoba": "160",
                                    "Foglalás éve": "2017",
                                    "Foglalások száma": "1"
                                },
                                {
                                    "Szoba": "160",
                                    "Foglalás éve": "Részösszeg",
                                    "Foglalások száma": "5"
                                },
                                {
                                    "Szoba": "161",
                                    "Foglalás éve": "2016",
                                    "Foglalások száma": "5"
                                },
                                {
                                    "Szoba": "161",
                                    "Foglalás éve": "2017",
                                    "Foglalások száma": "1"
                                },
                                {
                                    "Szoba": "161",
                                    "Foglalás éve": "Részösszeg",
                                    "Foglalások száma": "6"
                                },
                                {
                                    "Szoba": "162",
                                    "Foglalás éve": "2016",
                                    "Foglalások száma": "3"
                                },
                                {
                                    "Szoba": "162",
                                    "Foglalás éve": "Részösszeg",
                                    "Foglalások száma": "3"
                                },
                                {
                                    "Szoba": "163",
                                    "Foglalás éve": "2016",
                                    "Foglalások száma": "6"
                                },
                                {
                                    "Szoba": "163",
                                    "Foglalás éve": "2017",
                                    "Foglalások száma": "1"
                                },
                                {
                                    "Szoba": "163",
                                    "Foglalás éve": "Részösszeg",
                                    "Foglalások száma": "7"
                                },
                                {
                                    "Szoba": "164",
                                    "Foglalás éve": "2016",
                                    "Foglalások száma": "5"
                                },
                                {
                                    "Szoba": "164",
                                    "Foglalás éve": "Részösszeg",
                                    "Foglalások száma": "5"
                                },
                                {
                                    "Szoba": "165",
                                    "Foglalás éve": "2016",
                                    "Foglalások száma": "7"
                                },
                                {
                                    "Szoba": "165",
                                    "Foglalás éve": "Részösszeg",
                                    "Foglalások száma": "7"
                                },
                                {
                                    "Szoba": "166",
                                    "Foglalás éve": "2016",
                                    "Foglalások száma": "2"
                                },
                                {
                                    "Szoba": "166",
                                    "Foglalás éve": "2017",
                                    "Foglalások száma": "1"
                                },
                                {
                                    "Szoba": "166",
                                    "Foglalás éve": "Részösszeg",
                                    "Foglalások száma": "3"
                                },
                                {
                                    "Szoba": "167",
                                    "Foglalás éve": "2016",
                                    "Foglalások száma": "1"
                                },
                                {
                                    "Szoba": "167",
                                    "Foglalás éve": "2017",
                                    "Foglalások száma": "1"
                                },
                                {
                                    "Szoba": "167",
                                    "Foglalás éve": "Részösszeg",
                                    "Foglalások száma": "2"
                                },
                                {
                                    "Szoba": "168",
                                    "Foglalás éve": "2016",
                                    "Foglalások száma": "5"
                                },
                                {
                                    "Szoba": "168",
                                    "Foglalás éve": "Részösszeg",
                                    "Foglalások száma": "5"
                                },
                                {
                                    "Szoba": "169",
                                    "Foglalás éve": "2016",
                                    "Foglalások száma": "5"
                                },
                                {
                                    "Szoba": "169",
                                    "Foglalás éve": "2017",
                                    "Foglalások száma": "1"
                                },
                                {
                                    "Szoba": "169",
                                    "Foglalás éve": "Részösszeg",
                                    "Foglalások száma": "6"
                                },
                                {
                                    "Szoba": "170",
                                    "Foglalás éve": "2016",
                                    "Foglalások száma": "5"
                                },
                                {
                                    "Szoba": "170",
                                    "Foglalás éve": "Részösszeg",
                                    "Foglalások száma": "5"
                                },
                                {
                                    "Szoba": "171",
                                    "Foglalás éve": "2016",
                                    "Foglalások száma": "4"
                                },
                                {
                                    "Szoba": "171",
                                    "Foglalás éve": "2017",
                                    "Foglalások száma": "1"
                                },
                                {
                                    "Szoba": "171",
                                    "Foglalás éve": "Részösszeg",
                                    "Foglalások száma": "5"
                                },
                                {
                                    "Szoba": "172",
                                    "Foglalás éve": "2016",
                                    "Foglalások száma": "7"
                                },
                                {
                                    "Szoba": "172",
                                    "Foglalás éve": "2017",
                                    "Foglalások száma": "2"
                                },
                                {
                                    "Szoba": "172",
                                    "Foglalás éve": "Részösszeg",
                                    "Foglalások száma": "9"
                                },
                                {
                                    "Szoba": "173",
                                    "Foglalás éve": "2016",
                                    "Foglalások száma": "3"
                                },
                                {
                                    "Szoba": "173",
                                    "Foglalás éve": "2017",
                                    "Foglalások száma": "1"
                                },
                                {
                                    "Szoba": "173",
                                    "Foglalás éve": "Részösszeg",
                                    "Foglalások száma": "4"
                                },
                                {
                                    "Szoba": "174",
                                    "Foglalás éve": "2016",
                                    "Foglalások száma": "4"
                                },
                                {
                                    "Szoba": "174",
                                    "Foglalás éve": "Részösszeg",
                                    "Foglalások száma": "4"
                                },
                                {
                                    "Szoba": "175",
                                    "Foglalás éve": "2016",
                                    "Foglalások száma": "5"
                                },
                                {
                                    "Szoba": "175",
                                    "Foglalás éve": "Részösszeg",
                                    "Foglalások száma": "5"
                                },
                                {
                                    "Szoba": "176",
                                    "Foglalás éve": "2016",
                                    "Foglalások száma": "4"
                                },
                                {
                                    "Szoba": "176",
                                    "Foglalás éve": "2017",
                                    "Foglalások száma": "2"
                                },
                                {
                                    "Szoba": "176",
                                    "Foglalás éve": "Részösszeg",
                                    "Foglalások száma": "6"
                                },
                                {
                                    "Szoba": "177",
                                    "Foglalás éve": "2016",
                                    "Foglalások száma": "3"
                                },
                                {
                                    "Szoba": "177",
                                    "Foglalás éve": "2017",
                                    "Foglalások száma": "1"
                                },
                                {
                                    "Szoba": "177",
                                    "Foglalás éve": "Részösszeg",
                                    "Foglalások száma": "4"
                                },
                                {
                                    "Szoba": "178",
                                    "Foglalás éve": "2016",
                                    "Foglalások száma": "4"
                                },
                                {
                                    "Szoba": "178",
                                    "Foglalás éve": "Részösszeg",
                                    "Foglalások száma": "4"
                                },
                                {
                                    "Szoba": "179",
                                    "Foglalás éve": "2016",
                                    "Foglalások száma": "2"
                                },
                                {
                                    "Szoba": "179",
                                    "Foglalás éve": "2017",
                                    "Foglalások száma": "1"
                                },
                                {
                                    "Szoba": "179",
                                    "Foglalás éve": "Részösszeg",
                                    "Foglalások száma": "3"
                                },
                                {
                                    "Szoba": "180",
                                    "Foglalás éve": "2016",
                                    "Foglalások száma": "1"
                                },
                                {
                                    "Szoba": "180",
                                    "Foglalás éve": "2017",
                                    "Foglalások száma": "2"
                                },
                                {
                                    "Szoba": "180",
                                    "Foglalás éve": "Részösszeg",
                                    "Foglalások száma": "3"
                                },
                                {
                                    "Szoba": "181",
                                    "Foglalás éve": "2016",
                                    "Foglalások száma": "6"
                                },
                                {
                                    "Szoba": "181",
                                    "Foglalás éve": "Részösszeg",
                                    "Foglalások száma": "6"
                                },
                                {
                                    "Szoba": "182",
                                    "Foglalás éve": "2016",
                                    "Foglalások száma": "10"
                                },
                                {
                                    "Szoba": "182",
                                    "Foglalás éve": "2017",
                                    "Foglalások száma": "2"
                                },
                                {
                                    "Szoba": "182",
                                    "Foglalás éve": "Részösszeg",
                                    "Foglalások száma": "12"
                                },
                                {
                                    "Szoba": "183",
                                    "Foglalás éve": "2016",
                                    "Foglalások száma": "3"
                                },
                                {
                                    "Szoba": "183",
                                    "Foglalás éve": "2017",
                                    "Foglalások száma": "1"
                                },
                                {
                                    "Szoba": "183",
                                    "Foglalás éve": "Részösszeg",
                                    "Foglalások száma": "4"
                                },
                                {
                                    "Szoba": "184",
                                    "Foglalás éve": "2016",
                                    "Foglalások száma": "4"
                                },
                                {
                                    "Szoba": "184",
                                    "Foglalás éve": "Részösszeg",
                                    "Foglalások száma": "4"
                                },
                                {
                                    "Szoba": "185",
                                    "Foglalás éve": "2016",
                                    "Foglalások száma": "10"
                                },
                                {
                                    "Szoba": "185",
                                    "Foglalás éve": "2017",
                                    "Foglalások száma": "2"
                                },
                                {
                                    "Szoba": "185",
                                    "Foglalás éve": "Részösszeg",
                                    "Foglalások száma": "12"
                                },
                                {
                                    "Szoba": "186",
                                    "Foglalás éve": "2016",
                                    "Foglalások száma": "3"
                                },
                                {
                                    "Szoba": "186",
                                    "Foglalás éve": "2017",
                                    "Foglalások száma": "1"
                                },
                                {
                                    "Szoba": "186",
                                    "Foglalás éve": "Részösszeg",
                                    "Foglalások száma": "4"
                                },
                                {
                                    "Szoba": "187",
                                    "Foglalás éve": "2016",
                                    "Foglalások száma": "7"
                                },
                                {
                                    "Szoba": "187",
                                    "Foglalás éve": "Részösszeg",
                                    "Foglalások száma": "7"
                                },
                                {
                                    "Szoba": "188",
                                    "Foglalás éve": "2016",
                                    "Foglalások száma": "6"
                                },
                                {
                                    "Szoba": "188",
                                    "Foglalás éve": "Részösszeg",
                                    "Foglalások száma": "6"
                                },
                                {
                                    "Szoba": "189",
                                    "Foglalás éve": "2016",
                                    "Foglalások száma": "3"
                                },
                                {
                                    "Szoba": "189",
                                    "Foglalás éve": "2017",
                                    "Foglalások száma": "2"
                                },
                                {
                                    "Szoba": "189",
                                    "Foglalás éve": "Részösszeg",
                                    "Foglalások száma": "5"
                                },
                                {
                                    "Szoba": "190",
                                    "Foglalás éve": "2016",
                                    "Foglalások száma": "4"
                                },
                                {
                                    "Szoba": "190",
                                    "Foglalás éve": "2017",
                                    "Foglalások száma": "1"
                                },
                                {
                                    "Szoba": "190",
                                    "Foglalás éve": "Részösszeg",
                                    "Foglalások száma": "5"
                                },
                                {
                                    "Szoba": "191",
                                    "Foglalás éve": "2016",
                                    "Foglalások száma": "3"
                                },
                                {
                                    "Szoba": "191",
                                    "Foglalás éve": "2017",
                                    "Foglalások száma": "2"
                                },
                                {
                                    "Szoba": "191",
                                    "Foglalás éve": "Részösszeg",
                                    "Foglalások száma": "5"
                                },
                                {
                                    "Szoba": "192",
                                    "Foglalás éve": "2016",
                                    "Foglalások száma": "2"
                                },
                                {
                                    "Szoba": "192",
                                    "Foglalás éve": "Részösszeg",
                                    "Foglalások száma": "2"
                                },
                                {
                                    "Szoba": "193",
                                    "Foglalás éve": "2016",
                                    "Foglalások száma": "7"
                                },
                                {
                                    "Szoba": "193",
                                    "Foglalás éve": "Részösszeg",
                                    "Foglalások száma": "7"
                                },
                                {
                                    "Szoba": "194",
                                    "Foglalás éve": "2016",
                                    "Foglalások száma": "1"
                                },
                                {
                                    "Szoba": "194",
                                    "Foglalás éve": "Részösszeg",
                                    "Foglalások száma": "1"
                                },
                                {
                                    "Szoba": "195",
                                    "Foglalás éve": "2016",
                                    "Foglalások száma": "4"
                                },
                                {
                                    "Szoba": "195",
                                    "Foglalás éve": "2017",
                                    "Foglalások száma": "2"
                                },
                                {
                                    "Szoba": "195",
                                    "Foglalás éve": "Részösszeg",
                                    "Foglalások száma": "6"
                                },
                                {
                                    "Szoba": "196",
                                    "Foglalás éve": "2016",
                                    "Foglalások száma": "4"
                                },
                                {
                                    "Szoba": "196",
                                    "Foglalás éve": "Részösszeg",
                                    "Foglalások száma": "4"
                                },
                                {
                                    "Szoba": "197",
                                    "Foglalás éve": "2016",
                                    "Foglalások száma": "6"
                                },
                                {
                                    "Szoba": "197",
                                    "Foglalás éve": "Részösszeg",
                                    "Foglalások száma": "6"
                                },
                                {
                                    "Szoba": "198",
                                    "Foglalás éve": "2016",
                                    "Foglalások száma": "7"
                                },
                                {
                                    "Szoba": "198",
                                    "Foglalás éve": "2017",
                                    "Foglalások száma": "1"
                                },
                                {
                                    "Szoba": "198",
                                    "Foglalás éve": "Részösszeg",
                                    "Foglalások száma": "8"
                                },
                                {
                                    "Szoba": "Végösszeg",
                                    "Foglalás éve": "Részösszeg",
                                    "Foglalások száma": "1027"
                                }
                            ]
                        },
                        "text/html": [
                            "<table>",
                            "<tr><th>Szoba</th><th>Foglalás éve</th><th>Foglalások száma</th></tr>",
                            "<tr><td>1</td><td>2016</td><td>8</td></tr>",
                            "<tr><td>1</td><td>Részösszeg</td><td>8</td></tr>",
                            "<tr><td>2</td><td>2016</td><td>4</td></tr>",
                            "<tr><td>2</td><td>Részösszeg</td><td>4</td></tr>",
                            "<tr><td>3</td><td>2016</td><td>6</td></tr>",
                            "<tr><td>3</td><td>2017</td><td>2</td></tr>",
                            "<tr><td>3</td><td>Részösszeg</td><td>8</td></tr>",
                            "<tr><td>4</td><td>2016</td><td>5</td></tr>",
                            "<tr><td>4</td><td>2017</td><td>1</td></tr>",
                            "<tr><td>4</td><td>Részösszeg</td><td>6</td></tr>",
                            "<tr><td>5</td><td>2016</td><td>4</td></tr>",
                            "<tr><td>5</td><td>Részösszeg</td><td>4</td></tr>",
                            "<tr><td>6</td><td>2016</td><td>6</td></tr>",
                            "<tr><td>6</td><td>Részösszeg</td><td>6</td></tr>",
                            "<tr><td>7</td><td>2016</td><td>6</td></tr>",
                            "<tr><td>7</td><td>Részösszeg</td><td>6</td></tr>",
                            "<tr><td>8</td><td>2016</td><td>5</td></tr>",
                            "<tr><td>8</td><td>Részösszeg</td><td>5</td></tr>",
                            "<tr><td>9</td><td>2016</td><td>4</td></tr>",
                            "<tr><td>9</td><td>2017</td><td>2</td></tr>",
                            "<tr><td>9</td><td>Részösszeg</td><td>6</td></tr>",
                            "<tr><td>10</td><td>2016</td><td>4</td></tr>",
                            "<tr><td>10</td><td>Részösszeg</td><td>4</td></tr>",
                            "<tr><td>11</td><td>2016</td><td>3</td></tr>",
                            "<tr><td>11</td><td>2017</td><td>1</td></tr>",
                            "<tr><td>11</td><td>Részösszeg</td><td>4</td></tr>",
                            "<tr><td>12</td><td>2016</td><td>8</td></tr>",
                            "<tr><td>12</td><td>2017</td><td>1</td></tr>",
                            "<tr><td>12</td><td>Részösszeg</td><td>9</td></tr>",
                            "<tr><td>13</td><td>2016</td><td>3</td></tr>",
                            "<tr><td>13</td><td>2017</td><td>1</td></tr>",
                            "<tr><td>13</td><td>Részösszeg</td><td>4</td></tr>",
                            "<tr><td>14</td><td>2016</td><td>2</td></tr>",
                            "<tr><td>14</td><td>2017</td><td>1</td></tr>",
                            "<tr><td>14</td><td>Részösszeg</td><td>3</td></tr>",
                            "<tr><td>15</td><td>2016</td><td>4</td></tr>",
                            "<tr><td>15</td><td>2017</td><td>2</td></tr>",
                            "<tr><td>15</td><td>Részösszeg</td><td>6</td></tr>",
                            "<tr><td>16</td><td>2016</td><td>4</td></tr>",
                            "<tr><td>16</td><td>2017</td><td>1</td></tr>",
                            "<tr><td>16</td><td>Részösszeg</td><td>5</td></tr>",
                            "<tr><td>17</td><td>2016</td><td>5</td></tr>",
                            "<tr><td>17</td><td>2017</td><td>1</td></tr>",
                            "<tr><td>17</td><td>Részösszeg</td><td>6</td></tr>",
                            "<tr><td>18</td><td>2016</td><td>5</td></tr>",
                            "<tr><td>18</td><td>2017</td><td>1</td></tr>",
                            "<tr><td>18</td><td>Részösszeg</td><td>6</td></tr>",
                            "<tr><td>19</td><td>2016</td><td>5</td></tr>",
                            "<tr><td>19</td><td>2017</td><td>1</td></tr>",
                            "<tr><td>19</td><td>Részösszeg</td><td>6</td></tr>",
                            "<tr><td>20</td><td>2016</td><td>5</td></tr>",
                            "<tr><td>20</td><td>Részösszeg</td><td>5</td></tr>",
                            "<tr><td>21</td><td>2016</td><td>4</td></tr>",
                            "<tr><td>21</td><td>Részösszeg</td><td>4</td></tr>",
                            "<tr><td>22</td><td>2016</td><td>6</td></tr>",
                            "<tr><td>22</td><td>Részösszeg</td><td>6</td></tr>",
                            "<tr><td>23</td><td>2016</td><td>3</td></tr>",
                            "<tr><td>23</td><td>Részösszeg</td><td>3</td></tr>",
                            "<tr><td>24</td><td>2016</td><td>2</td></tr>",
                            "<tr><td>24</td><td>2017</td><td>1</td></tr>",
                            "<tr><td>24</td><td>Részösszeg</td><td>3</td></tr>",
                            "<tr><td>25</td><td>2016</td><td>2</td></tr>",
                            "<tr><td>25</td><td>Részösszeg</td><td>2</td></tr>",
                            "<tr><td>26</td><td>2016</td><td>2</td></tr>",
                            "<tr><td>26</td><td>Részösszeg</td><td>2</td></tr>",
                            "<tr><td>27</td><td>2016</td><td>6</td></tr>",
                            "<tr><td>27</td><td>2017</td><td>1</td></tr>",
                            "<tr><td>27</td><td>Részösszeg</td><td>7</td></tr>",
                            "<tr><td>28</td><td>2016</td><td>5</td></tr>",
                            "<tr><td>28</td><td>2017</td><td>1</td></tr>",
                            "<tr><td>28</td><td>Részösszeg</td><td>6</td></tr>",
                            "<tr><td>29</td><td>2016</td><td>5</td></tr>",
                            "<tr><td>29</td><td>2017</td><td>1</td></tr>",
                            "<tr><td>29</td><td>Részösszeg</td><td>6</td></tr>",
                            "<tr><td>30</td><td>2016</td><td>3</td></tr>",
                            "<tr><td>30</td><td>Részösszeg</td><td>3</td></tr>",
                            "<tr><td>31</td><td>2016</td><td>3</td></tr>",
                            "<tr><td>31</td><td>Részösszeg</td><td>3</td></tr>",
                            "<tr><td>32</td><td>2016</td><td>1</td></tr>",
                            "<tr><td>32</td><td>Részösszeg</td><td>1</td></tr>",
                            "<tr><td>33</td><td>2016</td><td>6</td></tr>",
                            "<tr><td>33</td><td>Részösszeg</td><td>6</td></tr>",
                            "<tr><td>34</td><td>2016</td><td>4</td></tr>",
                            "<tr><td>34</td><td>Részösszeg</td><td>4</td></tr>",
                            "<tr><td>35</td><td>2016</td><td>6</td></tr>",
                            "<tr><td>35</td><td>2017</td><td>3</td></tr>",
                            "<tr><td>35</td><td>Részösszeg</td><td>9</td></tr>",
                            "<tr><td>36</td><td>2016</td><td>6</td></tr>",
                            "<tr><td>36</td><td>Részösszeg</td><td>6</td></tr>",
                            "<tr><td>37</td><td>2016</td><td>3</td></tr>",
                            "<tr><td>37</td><td>Részösszeg</td><td>3</td></tr>",
                            "<tr><td>38</td><td>2016</td><td>5</td></tr>",
                            "<tr><td>38</td><td>2017</td><td>3</td></tr>",
                            "<tr><td>38</td><td>Részösszeg</td><td>8</td></tr>",
                            "<tr><td>39</td><td>2016</td><td>4</td></tr>",
                            "<tr><td>39</td><td>2017</td><td>3</td></tr>",
                            "<tr><td>39</td><td>Részösszeg</td><td>7</td></tr>",
                            "<tr><td>40</td><td>2016</td><td>4</td></tr>",
                            "<tr><td>40</td><td>Részösszeg</td><td>4</td></tr>",
                            "<tr><td>41</td><td>2016</td><td>2</td></tr>",
                            "<tr><td>41</td><td>Részösszeg</td><td>2</td></tr>",
                            "<tr><td>42</td><td>2016</td><td>5</td></tr>",
                            "<tr><td>42</td><td>2017</td><td>1</td></tr>",
                            "<tr><td>42</td><td>Részösszeg</td><td>6</td></tr>",
                            "<tr><td>43</td><td>2016</td><td>6</td></tr>",
                            "<tr><td>43</td><td>2017</td><td>2</td></tr>",
                            "<tr><td>43</td><td>Részösszeg</td><td>8</td></tr>",
                            "<tr><td>44</td><td>2016</td><td>4</td></tr>",
                            "<tr><td>44</td><td>2017</td><td>2</td></tr>",
                            "<tr><td>44</td><td>Részösszeg</td><td>6</td></tr>",
                            "<tr><td>45</td><td>2016</td><td>5</td></tr>",
                            "<tr><td>45</td><td>Részösszeg</td><td>5</td></tr>",
                            "<tr><td>46</td><td>2016</td><td>3</td></tr>",
                            "<tr><td>46</td><td>2017</td><td>1</td></tr>",
                            "<tr><td>46</td><td>Részösszeg</td><td>4</td></tr>",
                            "<tr><td>47</td><td>2016</td><td>2</td></tr>",
                            "<tr><td>47</td><td>Részösszeg</td><td>2</td></tr>",
                            "<tr><td>48</td><td>2016</td><td>6</td></tr>",
                            "<tr><td>48</td><td>2017</td><td>3</td></tr>",
                            "<tr><td>48</td><td>Részösszeg</td><td>9</td></tr>",
                            "<tr><td>49</td><td>2016</td><td>6</td></tr>",
                            "<tr><td>49</td><td>2017</td><td>1</td></tr>",
                            "<tr><td>49</td><td>Részösszeg</td><td>7</td></tr>",
                            "<tr><td>50</td><td>2016</td><td>4</td></tr>",
                            "<tr><td>50</td><td>Részösszeg</td><td>4</td></tr>",
                            "<tr><td>51</td><td>2016</td><td>3</td></tr>",
                            "<tr><td>51</td><td>2017</td><td>2</td></tr>",
                            "<tr><td>51</td><td>Részösszeg</td><td>5</td></tr>",
                            "<tr><td>52</td><td>2016</td><td>3</td></tr>",
                            "<tr><td>52</td><td>2017</td><td>2</td></tr>",
                            "<tr><td>52</td><td>Részösszeg</td><td>5</td></tr>",
                            "<tr><td>53</td><td>2016</td><td>2</td></tr>",
                            "<tr><td>53</td><td>Részösszeg</td><td>2</td></tr>",
                            "<tr><td>54</td><td>2016</td><td>6</td></tr>",
                            "<tr><td>54</td><td>Részösszeg</td><td>6</td></tr>",
                            "<tr><td>55</td><td>2016</td><td>6</td></tr>",
                            "<tr><td>55</td><td>2017</td><td>2</td></tr>",
                            "<tr><td>55</td><td>Részösszeg</td><td>8</td></tr>",
                            "<tr><td>56</td><td>2016</td><td>2</td></tr>",
                            "<tr><td>56</td><td>Részösszeg</td><td>2</td></tr>",
                            "<tr><td>57</td><td>2016</td><td>2</td></tr>",
                            "<tr><td>57</td><td>2017</td><td>2</td></tr>",
                            "<tr><td>57</td><td>Részösszeg</td><td>4</td></tr>",
                            "<tr><td>58</td><td>2016</td><td>12</td></tr>",
                            "<tr><td>58</td><td>2017</td><td>1</td></tr>",
                            "<tr><td>58</td><td>Részösszeg</td><td>13</td></tr>",
                            "<tr><td>59</td><td>2016</td><td>6</td></tr>",
                            "<tr><td>59</td><td>2017</td><td>1</td></tr>",
                            "<tr><td>59</td><td>Részösszeg</td><td>7</td></tr>",
                            "<tr><td>60</td><td>2016</td><td>1</td></tr>",
                            "<tr><td>60</td><td>Részösszeg</td><td>1</td></tr>",
                            "<tr><td>61</td><td>2016</td><td>4</td></tr>",
                            "<tr><td>61</td><td>2017</td><td>1</td></tr>",
                            "<tr><td>61</td><td>Részösszeg</td><td>5</td></tr>",
                            "<tr><td>62</td><td>2016</td><td>4</td></tr>",
                            "<tr><td>62</td><td>2017</td><td>1</td></tr>",
                            "<tr><td>62</td><td>Részösszeg</td><td>5</td></tr>",
                            "<tr><td>63</td><td>2016</td><td>4</td></tr>",
                            "<tr><td>63</td><td>Részösszeg</td><td>4</td></tr>",
                            "<tr><td>64</td><td>2016</td><td>3</td></tr>",
                            "<tr><td>64</td><td>2017</td><td>3</td></tr>",
                            "<tr><td>64</td><td>Részösszeg</td><td>6</td></tr>",
                            "<tr><td>65</td><td>2016</td><td>1</td></tr>",
                            "<tr><td>65</td><td>Részösszeg</td><td>1</td></tr>",
                            "<tr><td>66</td><td>2016</td><td>4</td></tr>",
                            "<tr><td>66</td><td>Részösszeg</td><td>4</td></tr>",
                            "<tr><td>67</td><td>2016</td><td>4</td></tr>",
                            "<tr><td>67</td><td>2017</td><td>2</td></tr>",
                            "<tr><td>67</td><td>Részösszeg</td><td>6</td></tr>",
                            "<tr><td>68</td><td>2016</td><td>3</td></tr>",
                            "<tr><td>68</td><td>Részösszeg</td><td>3</td></tr>",
                            "<tr><td>69</td><td>2016</td><td>4</td></tr>",
                            "<tr><td>69</td><td>Részösszeg</td><td>4</td></tr>",
                            "<tr><td>70</td><td>2016</td><td>10</td></tr>",
                            "<tr><td>70</td><td>2017</td><td>1</td></tr>",
                            "<tr><td>70</td><td>Részösszeg</td><td>11</td></tr>",
                            "<tr><td>71</td><td>2016</td><td>3</td></tr>",
                            "<tr><td>71</td><td>Részösszeg</td><td>3</td></tr>",
                            "<tr><td>72</td><td>2016</td><td>4</td></tr>",
                            "<tr><td>72</td><td>Részösszeg</td><td>4</td></tr>",
                            "<tr><td>73</td><td>2016</td><td>4</td></tr>",
                            "<tr><td>73</td><td>Részösszeg</td><td>4</td></tr>",
                            "<tr><td>74</td><td>2016</td><td>9</td></tr>",
                            "<tr><td>74</td><td>Részösszeg</td><td>9</td></tr>",
                            "<tr><td>75</td><td>2016</td><td>1</td></tr>",
                            "<tr><td>75</td><td>2017</td><td>2</td></tr>",
                            "<tr><td>75</td><td>Részösszeg</td><td>3</td></tr>",
                            "<tr><td>76</td><td>2016</td><td>2</td></tr>",
                            "<tr><td>76</td><td>2017</td><td>1</td></tr>",
                            "<tr><td>76</td><td>Részösszeg</td><td>3</td></tr>",
                            "<tr><td>77</td><td>2016</td><td>4</td></tr>",
                            "<tr><td>77</td><td>2017</td><td>2</td></tr>",
                            "<tr><td>77</td><td>Részösszeg</td><td>6</td></tr>",
                            "<tr><td>78</td><td>2016</td><td>5</td></tr>",
                            "<tr><td>78</td><td>2017</td><td>1</td></tr>",
                            "<tr><td>78</td><td>Részösszeg</td><td>6</td></tr>",
                            "<tr><td>79</td><td>2016</td><td>4</td></tr>",
                            "<tr><td>79</td><td>2017</td><td>1</td></tr>",
                            "<tr><td>79</td><td>Részösszeg</td><td>5</td></tr>",
                            "<tr><td>80</td><td>2016</td><td>7</td></tr>",
                            "<tr><td>80</td><td>Részösszeg</td><td>7</td></tr>",
                            "<tr><td>81</td><td>2016</td><td>1</td></tr>",
                            "<tr><td>81</td><td>2017</td><td>4</td></tr>",
                            "<tr><td>81</td><td>Részösszeg</td><td>5</td></tr>",
                            "<tr><td>82</td><td>2016</td><td>6</td></tr>",
                            "<tr><td>82</td><td>Részösszeg</td><td>6</td></tr>",
                            "<tr><td>83</td><td>2016</td><td>8</td></tr>",
                            "<tr><td>83</td><td>Részösszeg</td><td>8</td></tr>",
                            "<tr><td>84</td><td>2016</td><td>4</td></tr>",
                            "<tr><td>84</td><td>Részösszeg</td><td>4</td></tr>",
                            "<tr><td>85</td><td>2016</td><td>3</td></tr>",
                            "<tr><td>85</td><td>2017</td><td>1</td></tr>",
                            "<tr><td>85</td><td>Részösszeg</td><td>4</td></tr>",
                            "<tr><td>86</td><td>2016</td><td>4</td></tr>",
                            "<tr><td>86</td><td>2017</td><td>1</td></tr>",
                            "<tr><td>86</td><td>Részösszeg</td><td>5</td></tr>",
                            "<tr><td>87</td><td>2016</td><td>4</td></tr>",
                            "<tr><td>87</td><td>2017</td><td>1</td></tr>",
                            "<tr><td>87</td><td>Részösszeg</td><td>5</td></tr>",
                            "<tr><td>88</td><td>2016</td><td>6</td></tr>",
                            "<tr><td>88</td><td>2017</td><td>2</td></tr>",
                            "<tr><td>88</td><td>Részösszeg</td><td>8</td></tr>",
                            "<tr><td>89</td><td>2016</td><td>7</td></tr>",
                            "<tr><td>89</td><td>2017</td><td>1</td></tr>",
                            "<tr><td>89</td><td>Részösszeg</td><td>8</td></tr>",
                            "<tr><td>90</td><td>2016</td><td>4</td></tr>",
                            "<tr><td>90</td><td>Részösszeg</td><td>4</td></tr>",
                            "<tr><td>91</td><td>2016</td><td>4</td></tr>",
                            "<tr><td>91</td><td>Részösszeg</td><td>4</td></tr>",
                            "<tr><td>92</td><td>2016</td><td>4</td></tr>",
                            "<tr><td>92</td><td>2017</td><td>2</td></tr>",
                            "<tr><td>92</td><td>Részösszeg</td><td>6</td></tr>",
                            "<tr><td>93</td><td>2016</td><td>5</td></tr>",
                            "<tr><td>93</td><td>Részösszeg</td><td>5</td></tr>",
                            "<tr><td>94</td><td>2016</td><td>8</td></tr>",
                            "<tr><td>94</td><td>2017</td><td>2</td></tr>",
                            "<tr><td>94</td><td>Részösszeg</td><td>10</td></tr>",
                            "<tr><td>95</td><td>2016</td><td>3</td></tr>",
                            "<tr><td>95</td><td>2017</td><td>1</td></tr>",
                            "<tr><td>95</td><td>Részösszeg</td><td>4</td></tr>",
                            "<tr><td>96</td><td>2016</td><td>5</td></tr>",
                            "<tr><td>96</td><td>2017</td><td>2</td></tr>",
                            "<tr><td>96</td><td>Részösszeg</td><td>7</td></tr>",
                            "<tr><td>97</td><td>2016</td><td>5</td></tr>",
                            "<tr><td>97</td><td>2017</td><td>2</td></tr>",
                            "<tr><td>97</td><td>Részösszeg</td><td>7</td></tr>",
                            "<tr><td>98</td><td>2016</td><td>4</td></tr>",
                            "<tr><td>98</td><td>Részösszeg</td><td>4</td></tr>",
                            "<tr><td>99</td><td>2016</td><td>4</td></tr>",
                            "<tr><td>99</td><td>2017</td><td>1</td></tr>",
                            "<tr><td>99</td><td>Részösszeg</td><td>5</td></tr>",
                            "<tr><td>100</td><td>2016</td><td>3</td></tr>",
                            "<tr><td>100</td><td>2017</td><td>1</td></tr>",
                            "<tr><td>100</td><td>Részösszeg</td><td>4</td></tr>",
                            "<tr><td>101</td><td>2016</td><td>2</td></tr>",
                            "<tr><td>101</td><td>2017</td><td>1</td></tr>",
                            "<tr><td>101</td><td>Részösszeg</td><td>3</td></tr>",
                            "<tr><td>102</td><td>2016</td><td>2</td></tr>",
                            "<tr><td>102</td><td>Részösszeg</td><td>2</td></tr>",
                            "<tr><td>103</td><td>2016</td><td>3</td></tr>",
                            "<tr><td>103</td><td>2017</td><td>1</td></tr>",
                            "<tr><td>103</td><td>Részösszeg</td><td>4</td></tr>",
                            "<tr><td>104</td><td>2016</td><td>2</td></tr>",
                            "<tr><td>104</td><td>2017</td><td>2</td></tr>",
                            "<tr><td>104</td><td>Részösszeg</td><td>4</td></tr>",
                            "<tr><td>105</td><td>2016</td><td>1</td></tr>",
                            "<tr><td>105</td><td>2017</td><td>1</td></tr>",
                            "<tr><td>105</td><td>Részösszeg</td><td>2</td></tr>",
                            "<tr><td>106</td><td>2016</td><td>5</td></tr>",
                            "<tr><td>106</td><td>2017</td><td>1</td></tr>",
                            "<tr><td>106</td><td>Részösszeg</td><td>6</td></tr>",
                            "<tr><td>107</td><td>2016</td><td>3</td></tr>",
                            "<tr><td>107</td><td>2017</td><td>2</td></tr>",
                            "<tr><td>107</td><td>Részösszeg</td><td>5</td></tr>",
                            "<tr><td>108</td><td>2016</td><td>2</td></tr>",
                            "<tr><td>108</td><td>Részösszeg</td><td>2</td></tr>",
                            "<tr><td>109</td><td>2016</td><td>6</td></tr>",
                            "<tr><td>109</td><td>2017</td><td>1</td></tr>",
                            "<tr><td>109</td><td>Részösszeg</td><td>7</td></tr>",
                            "<tr><td>110</td><td>2016</td><td>6</td></tr>",
                            "<tr><td>110</td><td>2017</td><td>2</td></tr>",
                            "<tr><td>110</td><td>Részösszeg</td><td>8</td></tr>",
                            "<tr><td>111</td><td>2016</td><td>5</td></tr>",
                            "<tr><td>111</td><td>Részösszeg</td><td>5</td></tr>",
                            "<tr><td>112</td><td>2016</td><td>4</td></tr>",
                            "<tr><td>112</td><td>2017</td><td>1</td></tr>",
                            "<tr><td>112</td><td>Részösszeg</td><td>5</td></tr>",
                            "<tr><td>113</td><td>2016</td><td>3</td></tr>",
                            "<tr><td>113</td><td>2017</td><td>2</td></tr>",
                            "<tr><td>113</td><td>Részösszeg</td><td>5</td></tr>",
                            "<tr><td>114</td><td>2016</td><td>3</td></tr>",
                            "<tr><td>114</td><td>2017</td><td>1</td></tr>",
                            "<tr><td>114</td><td>Részösszeg</td><td>4</td></tr>",
                            "<tr><td>115</td><td>2016</td><td>5</td></tr>",
                            "<tr><td>115</td><td>2017</td><td>2</td></tr>",
                            "<tr><td>115</td><td>Részösszeg</td><td>7</td></tr>",
                            "<tr><td>116</td><td>2017</td><td>2</td></tr>",
                            "<tr><td>116</td><td>Részösszeg</td><td>2</td></tr>",
                            "<tr><td>117</td><td>2016</td><td>7</td></tr>",
                            "<tr><td>117</td><td>2017</td><td>1</td></tr>",
                            "<tr><td>117</td><td>Részösszeg</td><td>8</td></tr>",
                            "<tr><td>118</td><td>2016</td><td>5</td></tr>",
                            "<tr><td>118</td><td>2017</td><td>2</td></tr>",
                            "<tr><td>118</td><td>Részösszeg</td><td>7</td></tr>",
                            "<tr><td>119</td><td>2016</td><td>3</td></tr>",
                            "<tr><td>119</td><td>2017</td><td>2</td></tr>",
                            "<tr><td>119</td><td>Részösszeg</td><td>5</td></tr>",
                            "<tr><td>120</td><td>2016</td><td>4</td></tr>",
                            "<tr><td>120</td><td>2017</td><td>2</td></tr>",
                            "<tr><td>120</td><td>Részösszeg</td><td>6</td></tr>",
                            "<tr><td>121</td><td>2016</td><td>8</td></tr>",
                            "<tr><td>121</td><td>Részösszeg</td><td>8</td></tr>",
                            "<tr><td>122</td><td>2016</td><td>8</td></tr>",
                            "<tr><td>122</td><td>2017</td><td>1</td></tr>",
                            "<tr><td>122</td><td>Részösszeg</td><td>9</td></tr>",
                            "<tr><td>123</td><td>2016</td><td>5</td></tr>",
                            "<tr><td>123</td><td>Részösszeg</td><td>5</td></tr>",
                            "<tr><td>124</td><td>2016</td><td>4</td></tr>",
                            "<tr><td>124</td><td>2017</td><td>2</td></tr>",
                            "<tr><td>124</td><td>Részösszeg</td><td>6</td></tr>",
                            "<tr><td>125</td><td>2016</td><td>1</td></tr>",
                            "<tr><td>125</td><td>Részösszeg</td><td>1</td></tr>",
                            "<tr><td>126</td><td>2016</td><td>4</td></tr>",
                            "<tr><td>126</td><td>2017</td><td>2</td></tr>",
                            "<tr><td>126</td><td>Részösszeg</td><td>6</td></tr>",
                            "<tr><td>127</td><td>2016</td><td>6</td></tr>",
                            "<tr><td>127</td><td>2017</td><td>1</td></tr>",
                            "<tr><td>127</td><td>Részösszeg</td><td>7</td></tr>",
                            "<tr><td>128</td><td>2016</td><td>3</td></tr>",
                            "<tr><td>128</td><td>2017</td><td>2</td></tr>",
                            "<tr><td>128</td><td>Részösszeg</td><td>5</td></tr>",
                            "<tr><td>129</td><td>2016</td><td>2</td></tr>",
                            "<tr><td>129</td><td>2017</td><td>2</td></tr>",
                            "<tr><td>129</td><td>Részösszeg</td><td>4</td></tr>",
                            "<tr><td>130</td><td>2016</td><td>5</td></tr>",
                            "<tr><td>130</td><td>2017</td><td>1</td></tr>",
                            "<tr><td>130</td><td>Részösszeg</td><td>6</td></tr>",
                            "<tr><td>131</td><td>2016</td><td>4</td></tr>",
                            "<tr><td>131</td><td>2017</td><td>1</td></tr>",
                            "<tr><td>131</td><td>Részösszeg</td><td>5</td></tr>",
                            "<tr><td>132</td><td>2016</td><td>5</td></tr>",
                            "<tr><td>132</td><td>2017</td><td>1</td></tr>",
                            "<tr><td>132</td><td>Részösszeg</td><td>6</td></tr>",
                            "<tr><td>133</td><td>2016</td><td>5</td></tr>",
                            "<tr><td>133</td><td>2017</td><td>1</td></tr>",
                            "<tr><td>133</td><td>Részösszeg</td><td>6</td></tr>",
                            "<tr><td>134</td><td>2016</td><td>5</td></tr>",
                            "<tr><td>134</td><td>2017</td><td>1</td></tr>",
                            "<tr><td>134</td><td>Részösszeg</td><td>6</td></tr>",
                            "<tr><td>135</td><td>2016</td><td>3</td></tr>",
                            "<tr><td>135</td><td>Részösszeg</td><td>3</td></tr>",
                            "<tr><td>136</td><td>2016</td><td>3</td></tr>",
                            "<tr><td>136</td><td>Részösszeg</td><td>3</td></tr>",
                            "<tr><td>137</td><td>2016</td><td>6</td></tr>",
                            "<tr><td>137</td><td>Részösszeg</td><td>6</td></tr>",
                            "<tr><td>138</td><td>2016</td><td>7</td></tr>",
                            "<tr><td>138</td><td>Részösszeg</td><td>7</td></tr>",
                            "<tr><td>139</td><td>2016</td><td>5</td></tr>",
                            "<tr><td>139</td><td>2017</td><td>2</td></tr>",
                            "<tr><td>139</td><td>Részösszeg</td><td>7</td></tr>",
                            "<tr><td>140</td><td>2016</td><td>8</td></tr>",
                            "<tr><td>140</td><td>Részösszeg</td><td>8</td></tr>",
                            "<tr><td>141</td><td>2016</td><td>6</td></tr>",
                            "<tr><td>141</td><td>Részösszeg</td><td>6</td></tr>",
                            "<tr><td>142</td><td>2016</td><td>1</td></tr>",
                            "<tr><td>142</td><td>2017</td><td>1</td></tr>",
                            "<tr><td>142</td><td>Részösszeg</td><td>2</td></tr>",
                            "<tr><td>143</td><td>2016</td><td>6</td></tr>",
                            "<tr><td>143</td><td>2017</td><td>1</td></tr>",
                            "<tr><td>143</td><td>Részösszeg</td><td>7</td></tr>",
                            "<tr><td>144</td><td>2016</td><td>4</td></tr>",
                            "<tr><td>144</td><td>2017</td><td>1</td></tr>",
                            "<tr><td>144</td><td>Részösszeg</td><td>5</td></tr>",
                            "<tr><td>145</td><td>2016</td><td>5</td></tr>",
                            "<tr><td>145</td><td>2017</td><td>1</td></tr>",
                            "<tr><td>145</td><td>Részösszeg</td><td>6</td></tr>",
                            "<tr><td>146</td><td>2016</td><td>5</td></tr>",
                            "<tr><td>146</td><td>2017</td><td>1</td></tr>",
                            "<tr><td>146</td><td>Részösszeg</td><td>6</td></tr>",
                            "<tr><td>147</td><td>2016</td><td>1</td></tr>",
                            "<tr><td>147</td><td>Részösszeg</td><td>1</td></tr>",
                            "<tr><td>148</td><td>2016</td><td>5</td></tr>",
                            "<tr><td>148</td><td>2017</td><td>1</td></tr>",
                            "<tr><td>148</td><td>Részösszeg</td><td>6</td></tr>",
                            "<tr><td>149</td><td>2016</td><td>6</td></tr>",
                            "<tr><td>149</td><td>2017</td><td>1</td></tr>",
                            "<tr><td>149</td><td>Részösszeg</td><td>7</td></tr>",
                            "<tr><td>150</td><td>2016</td><td>5</td></tr>",
                            "<tr><td>150</td><td>2017</td><td>1</td></tr>",
                            "<tr><td>150</td><td>Részösszeg</td><td>6</td></tr>",
                            "<tr><td>151</td><td>2016</td><td>3</td></tr>",
                            "<tr><td>151</td><td>Részösszeg</td><td>3</td></tr>",
                            "<tr><td>152</td><td>2016</td><td>3</td></tr>",
                            "<tr><td>152</td><td>2017</td><td>1</td></tr>",
                            "<tr><td>152</td><td>Részösszeg</td><td>4</td></tr>",
                            "<tr><td>153</td><td>2016</td><td>2</td></tr>",
                            "<tr><td>153</td><td>2017</td><td>3</td></tr>",
                            "<tr><td>153</td><td>Részösszeg</td><td>5</td></tr>",
                            "<tr><td>154</td><td>2016</td><td>4</td></tr>",
                            "<tr><td>154</td><td>2017</td><td>1</td></tr>",
                            "<tr><td>154</td><td>Részösszeg</td><td>5</td></tr>",
                            "<tr><td>155</td><td>2016</td><td>4</td></tr>",
                            "<tr><td>155</td><td>2017</td><td>1</td></tr>",
                            "<tr><td>155</td><td>Részösszeg</td><td>5</td></tr>",
                            "<tr><td>156</td><td>2016</td><td>4</td></tr>",
                            "<tr><td>156</td><td>2017</td><td>3</td></tr>",
                            "<tr><td>156</td><td>Részösszeg</td><td>7</td></tr>",
                            "<tr><td>157</td><td>2016</td><td>4</td></tr>",
                            "<tr><td>157</td><td>2017</td><td>1</td></tr>",
                            "<tr><td>157</td><td>Részösszeg</td><td>5</td></tr>",
                            "<tr><td>158</td><td>2016</td><td>3</td></tr>",
                            "<tr><td>158</td><td>Részösszeg</td><td>3</td></tr>",
                            "<tr><td>160</td><td>2016</td><td>4</td></tr>",
                            "<tr><td>160</td><td>2017</td><td>1</td></tr>",
                            "<tr><td>160</td><td>Részösszeg</td><td>5</td></tr>",
                            "<tr><td>161</td><td>2016</td><td>5</td></tr>",
                            "<tr><td>161</td><td>2017</td><td>1</td></tr>",
                            "<tr><td>161</td><td>Részösszeg</td><td>6</td></tr>",
                            "<tr><td>162</td><td>2016</td><td>3</td></tr>",
                            "<tr><td>162</td><td>Részösszeg</td><td>3</td></tr>",
                            "<tr><td>163</td><td>2016</td><td>6</td></tr>",
                            "<tr><td>163</td><td>2017</td><td>1</td></tr>",
                            "<tr><td>163</td><td>Részösszeg</td><td>7</td></tr>",
                            "<tr><td>164</td><td>2016</td><td>5</td></tr>",
                            "<tr><td>164</td><td>Részösszeg</td><td>5</td></tr>",
                            "<tr><td>165</td><td>2016</td><td>7</td></tr>",
                            "<tr><td>165</td><td>Részösszeg</td><td>7</td></tr>",
                            "<tr><td>166</td><td>2016</td><td>2</td></tr>",
                            "<tr><td>166</td><td>2017</td><td>1</td></tr>",
                            "<tr><td>166</td><td>Részösszeg</td><td>3</td></tr>",
                            "<tr><td>167</td><td>2016</td><td>1</td></tr>",
                            "<tr><td>167</td><td>2017</td><td>1</td></tr>",
                            "<tr><td>167</td><td>Részösszeg</td><td>2</td></tr>",
                            "<tr><td>168</td><td>2016</td><td>5</td></tr>",
                            "<tr><td>168</td><td>Részösszeg</td><td>5</td></tr>",
                            "<tr><td>169</td><td>2016</td><td>5</td></tr>",
                            "<tr><td>169</td><td>2017</td><td>1</td></tr>",
                            "<tr><td>169</td><td>Részösszeg</td><td>6</td></tr>",
                            "<tr><td>170</td><td>2016</td><td>5</td></tr>",
                            "<tr><td>170</td><td>Részösszeg</td><td>5</td></tr>",
                            "<tr><td>171</td><td>2016</td><td>4</td></tr>",
                            "<tr><td>171</td><td>2017</td><td>1</td></tr>",
                            "<tr><td>171</td><td>Részösszeg</td><td>5</td></tr>",
                            "<tr><td>172</td><td>2016</td><td>7</td></tr>",
                            "<tr><td>172</td><td>2017</td><td>2</td></tr>",
                            "<tr><td>172</td><td>Részösszeg</td><td>9</td></tr>",
                            "<tr><td>173</td><td>2016</td><td>3</td></tr>",
                            "<tr><td>173</td><td>2017</td><td>1</td></tr>",
                            "<tr><td>173</td><td>Részösszeg</td><td>4</td></tr>",
                            "<tr><td>174</td><td>2016</td><td>4</td></tr>",
                            "<tr><td>174</td><td>Részösszeg</td><td>4</td></tr>",
                            "<tr><td>175</td><td>2016</td><td>5</td></tr>",
                            "<tr><td>175</td><td>Részösszeg</td><td>5</td></tr>",
                            "<tr><td>176</td><td>2016</td><td>4</td></tr>",
                            "<tr><td>176</td><td>2017</td><td>2</td></tr>",
                            "<tr><td>176</td><td>Részösszeg</td><td>6</td></tr>",
                            "<tr><td>177</td><td>2016</td><td>3</td></tr>",
                            "<tr><td>177</td><td>2017</td><td>1</td></tr>",
                            "<tr><td>177</td><td>Részösszeg</td><td>4</td></tr>",
                            "<tr><td>178</td><td>2016</td><td>4</td></tr>",
                            "<tr><td>178</td><td>Részösszeg</td><td>4</td></tr>",
                            "<tr><td>179</td><td>2016</td><td>2</td></tr>",
                            "<tr><td>179</td><td>2017</td><td>1</td></tr>",
                            "<tr><td>179</td><td>Részösszeg</td><td>3</td></tr>",
                            "<tr><td>180</td><td>2016</td><td>1</td></tr>",
                            "<tr><td>180</td><td>2017</td><td>2</td></tr>",
                            "<tr><td>180</td><td>Részösszeg</td><td>3</td></tr>",
                            "<tr><td>181</td><td>2016</td><td>6</td></tr>",
                            "<tr><td>181</td><td>Részösszeg</td><td>6</td></tr>",
                            "<tr><td>182</td><td>2016</td><td>10</td></tr>",
                            "<tr><td>182</td><td>2017</td><td>2</td></tr>",
                            "<tr><td>182</td><td>Részösszeg</td><td>12</td></tr>",
                            "<tr><td>183</td><td>2016</td><td>3</td></tr>",
                            "<tr><td>183</td><td>2017</td><td>1</td></tr>",
                            "<tr><td>183</td><td>Részösszeg</td><td>4</td></tr>",
                            "<tr><td>184</td><td>2016</td><td>4</td></tr>",
                            "<tr><td>184</td><td>Részösszeg</td><td>4</td></tr>",
                            "<tr><td>185</td><td>2016</td><td>10</td></tr>",
                            "<tr><td>185</td><td>2017</td><td>2</td></tr>",
                            "<tr><td>185</td><td>Részösszeg</td><td>12</td></tr>",
                            "<tr><td>186</td><td>2016</td><td>3</td></tr>",
                            "<tr><td>186</td><td>2017</td><td>1</td></tr>",
                            "<tr><td>186</td><td>Részösszeg</td><td>4</td></tr>",
                            "<tr><td>187</td><td>2016</td><td>7</td></tr>",
                            "<tr><td>187</td><td>Részösszeg</td><td>7</td></tr>",
                            "<tr><td>188</td><td>2016</td><td>6</td></tr>",
                            "<tr><td>188</td><td>Részösszeg</td><td>6</td></tr>",
                            "<tr><td>189</td><td>2016</td><td>3</td></tr>",
                            "<tr><td>189</td><td>2017</td><td>2</td></tr>",
                            "<tr><td>189</td><td>Részösszeg</td><td>5</td></tr>",
                            "<tr><td>190</td><td>2016</td><td>4</td></tr>",
                            "<tr><td>190</td><td>2017</td><td>1</td></tr>",
                            "<tr><td>190</td><td>Részösszeg</td><td>5</td></tr>",
                            "<tr><td>191</td><td>2016</td><td>3</td></tr>",
                            "<tr><td>191</td><td>2017</td><td>2</td></tr>",
                            "<tr><td>191</td><td>Részösszeg</td><td>5</td></tr>",
                            "<tr><td>192</td><td>2016</td><td>2</td></tr>",
                            "<tr><td>192</td><td>Részösszeg</td><td>2</td></tr>",
                            "<tr><td>193</td><td>2016</td><td>7</td></tr>",
                            "<tr><td>193</td><td>Részösszeg</td><td>7</td></tr>",
                            "<tr><td>194</td><td>2016</td><td>1</td></tr>",
                            "<tr><td>194</td><td>Részösszeg</td><td>1</td></tr>",
                            "<tr><td>195</td><td>2016</td><td>4</td></tr>",
                            "<tr><td>195</td><td>2017</td><td>2</td></tr>",
                            "<tr><td>195</td><td>Részösszeg</td><td>6</td></tr>",
                            "<tr><td>196</td><td>2016</td><td>4</td></tr>",
                            "<tr><td>196</td><td>Részösszeg</td><td>4</td></tr>",
                            "<tr><td>197</td><td>2016</td><td>6</td></tr>",
                            "<tr><td>197</td><td>Részösszeg</td><td>6</td></tr>",
                            "<tr><td>198</td><td>2016</td><td>7</td></tr>",
                            "<tr><td>198</td><td>2017</td><td>1</td></tr>",
                            "<tr><td>198</td><td>Részösszeg</td><td>8</td></tr>",
                            "<tr><td>Végösszeg</td><td>Részösszeg</td><td>1027</td></tr>",
                            "</table>"
                        ]
                    }
                }
            ],
            "execution_count": 18
        },
        {
            "cell_type": "markdown",
            "source": [
                "![](data:image/png;base64,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)"
            ],
            "metadata": {
                "azdata_cell_guid": "21ea0ec2-b2e3-4097-aa41-9794374268ac"
            },
            "attachments": {}
        },
        {
            "cell_type": "code",
            "source": [
                "SELECT f.SZOBA_FK,\r\n",
                "       sz.FEROHELY,\r\n",
                "       ROW_NUMBER() OVER(PARTITION BY f.SZOBA_FK ORDER BY COUNT(f.foglalas_pk) DESC, FEROHELY)\r\n",
                "FROM Foglalas f JOIN Szoba sz ON f.SZOBA_FK = sz.SZOBA_ID"
            ],
            "metadata": {
                "azdata_cell_guid": "c4b844bd-7f7c-4834-bed9-d2ae1ec78696",
                "language": "sql"
            },
            "outputs": [
                {
                    "output_type": "error",
                    "evalue": "Msg 8120, Level 16, State 1, Line 1\r\nColumn 'Foglalas.SZOBA_FK' is invalid in the select list because it is not contained in either an aggregate function or the GROUP BY clause.",
                    "ename": "",
                    "traceback": []
                },
                {
                    "output_type": "display_data",
                    "data": {
                        "text/html": "Total execution time: 00:00:00.001"
                    },
                    "metadata": {}
                }
            ],
            "execution_count": 22
        },
        {
            "cell_type": "markdown",
            "source": [
                "![](data:image/png;base64,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)"
            ],
            "metadata": {
                "azdata_cell_guid": "27753ceb-5c87-40c2-8119-cb6bebc8f4ff"
            },
            "attachments": {}
        },
        {
            "cell_type": "code",
            "source": [
                "SELECT DISTINCT sz.SZALLAS_NEV,\r\n",
                "       COUNT(*) OVER(PARTITION BY sz.SZALLAS_NEV) AS 'Foglalásszám'\r\n",
                "FROM Foglalas f JOIN Szallashely sz ON f.SZOBA_FK = sz.SZALLAS_ID\r\n",
                "WHERE 2 > (SELECT COUNT(*)\r\n",
                "           FROM Foglalas f JOIN Szallashely sz ON f.SZOBA_FK = sz.SZALLAS_ID\r\n",
                "           WHERE sz.SZALLAS_NEV = 'Fortuna panzió')"
            ],
            "metadata": {
                "azdata_cell_guid": "4f86eb82-4bfe-4efe-8ab3-f389d2940530",
                "language": "sql"
            },
            "outputs": [
{
    "output_type": "display_data",
    "data": {
        "text/html": "(0 rows affected)"
    },
    "metadata": {}
}, {
    "output_type": "display_data",
    "data": {
        "text/html": "Total execution time: 00:00:00.002"
    },
    "metadata": {}
}, {
    "output_type": "execute_result",
    "metadata": {},
    "execution_count": 64,
    "data": {
        "application/vnd.dataresource+json": {
            "schema": {
                "fields": [
                    {
                        "name": "SZALLAS_NEV"
                    },
                    {
                        "name": "Foglalásszám"
                    }
                ]
            },
            "data": []
        },
        "text/html": [
            "<table>",
            "<tr><th>SZALLAS_NEV</th><th>Foglalásszám</th></tr>",
            "</table>"
        ]
    }
}
],
            "execution_count": 64
        },
        {
            "cell_type": "code",
            "source": [
                "SELECT COUNT(*)\r\n",
                "           FROM Foglalas f JOIN Szallashely sz ON f.SZOBA_FK = sz.SZALLAS_ID\r\n",
                "           WHERE sz.SZALLAS_NEV = 'Fortuna panzió'"
            ],
            "metadata": {
                "azdata_cell_guid": "f78180a0-1f10-4dfd-9efa-2bd0264261de",
                "language": "sql"
            },
            "outputs": [
                {
                    "output_type": "display_data",
                    "data": {
                        "text/html": "(1 row affected)"
                    },
                    "metadata": {}
                },
                {
                    "output_type": "display_data",
                    "data": {
                        "text/html": "Total execution time: 00:00:00.008"
                    },
                    "metadata": {}
                },
                {
                    "output_type": "execute_result",
                    "metadata": {},
                    "execution_count": 53,
                    "data": {
                        "application/vnd.dataresource+json": {
                            "schema": {
                                "fields": [
                                    {
                                        "name": "(No column name)"
                                    }
                                ]
                            },
                            "data": [
                                {
                                    "(No column name)": "10"
                                }
                            ]
                        },
                        "text/html": [
                            "<table>",
                            "<tr><th>(No column name)</th></tr>",
                            "<tr><td>10</td></tr>",
                            "</table>"
                        ]
                    }
                }
            ],
            "execution_count": 53
        }
    ]
}