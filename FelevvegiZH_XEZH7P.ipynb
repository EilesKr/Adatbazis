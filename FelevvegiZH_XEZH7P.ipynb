{
    "metadata": {
        "kernelspec": {
            "name": "SQL",
            "display_name": "SQL",
            "language": "sql"
        },
        "language_info": {
            "name": "sql",
            "version": ""
        }
    },
    "nbformat_minor": 2,
    "nbformat": 4,
    "cells": [
        {
            "cell_type": "code",
            "source": [
                ""
            ],
            "metadata": {
                "azdata_cell_guid": "5ae89272-e335-4c41-8e20-839d3625b818",
                "language": "sql"
            },
            "outputs": [],
            "execution_count": null
        }
    ]
}