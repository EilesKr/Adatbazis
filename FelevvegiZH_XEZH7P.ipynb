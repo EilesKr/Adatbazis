{
    "metadata": {
        "kernelspec": {
            "name": "SQL",
            "display_name": "SQL",
            "language": "sql"
        },
        "language_info": {
            "name": "sql",
            "version": ""
        }
    },
    "nbformat_minor": 2,
    "nbformat": 4,
    "cells": [
        {
            "cell_type": "markdown",
            "source": [
                "## **1\\. Feladat**\n",
                "\n",
                "**Listázzuk azon vendégek nevét, email-címét és felhasználói nevét, akik egynél többször foglaltak!**\n",
                "\n",
                "- Hagyjuk ki azokat a vendégeket, akik május hónapban születtek!"
            ],
            "metadata": {
                "azdata_cell_guid": "8cc4afeb-8e41-4364-aede-fb0a71a95f0a"
            },
            "attachments": {}
        },
        {
            "cell_type": "code",
            "source": [
                "SELECT v.NEV, \r\n",
                "       v.EMAIL, \r\n",
                "       v.USERNEV\r\n",
                "FROM Vendeg v\r\n",
                "WHERE month(v.SZUL_DAT) <> 5 AND (SELECT count(*)\r\n",
                "                                  FROM Foglalas f\r\n",
                "                                  WHERE v.USERNEV=f.UGYFEL_FK ) > 1"
            ],
            "metadata": {
                "azdata_cell_guid": "5ae89272-e335-4c41-8e20-839d3625b818",
                "language": "sql"
            },
            "outputs": [
                {
                    "output_type": "display_data",
                    "data": {
                        "text/html": "(169 rows affected)"
                    },
                    "metadata": {}
                },
                {
                    "output_type": "display_data",
                    "data": {
                        "text/html": "Total execution time: 00:00:00.034"
                    },
                    "metadata": {}
                },
                {
                    "output_type": "execute_result",
                    "metadata": {},
                    "execution_count": 12,
                    "data": {
                        "application/vnd.dataresource+json": {
                            "schema": {
                                "fields": [
                                    {
                                        "name": "NEV"
                                    },
                                    {
                                        "name": "EMAIL"
                                    },
                                    {
                                        "name": "USERNEV"
                                    }
                                ]
                            },
                            "data": [
                                {
                                    "NEV": "Kiss Ádám",
                                    "EMAIL": "ádám.kiss@mail.hu",
                                    "USERNEV": "adam1"
                                },
                                {
                                    "NEV": "Barkóci Ádám",
                                    "EMAIL": "adam3@gmail.com",
                                    "USERNEV": "adam3"
                                },
                                {
                                    "NEV": "Bieniek Ádám",
                                    "EMAIL": "ádám.bieniek@mail.hu",
                                    "USERNEV": "adam4"
                                },
                                {
                                    "NEV": "Lengyel Ágnes",
                                    "EMAIL": "agnes@gmail.com",
                                    "USERNEV": "agnes"
                                },
                                {
                                    "NEV": "Hartyánszky Ágnes",
                                    "EMAIL": "agnes3@gmail.com",
                                    "USERNEV": "agnes3"
                                },
                                {
                                    "NEV": "Horváth Ágnes",
                                    "EMAIL": "AGNESH@gmail.com",
                                    "USERNEV": "AGNESH"
                                },
                                {
                                    "NEV": "Kovács Ágnes",
                                    "EMAIL": "AGNESK@gmail.com",
                                    "USERNEV": "AGNESK"
                                },
                                {
                                    "NEV": "Bíró Ákos",
                                    "EMAIL": "ákos.bíró@mail.hu",
                                    "USERNEV": "akos"
                                },
                                {
                                    "NEV": "Dunai Aladár",
                                    "EMAIL": "aladár.dunai@mail.hu",
                                    "USERNEV": "aladar"
                                },
                                {
                                    "NEV": "Bagóczki Alexandra",
                                    "EMAIL": "alexandra.bagóczki@mail.hu",
                                    "USERNEV": "alexandra"
                                },
                                {
                                    "NEV": "Tóth András",
                                    "EMAIL": "andrás.tóth@mail.hu",
                                    "USERNEV": "andras2"
                                },
                                {
                                    "NEV": "Molnár András",
                                    "EMAIL": "andrás.molnár@mail.hu",
                                    "USERNEV": "andras21"
                                },
                                {
                                    "NEV": "Vígh András",
                                    "EMAIL": "andrás.vígh@mail.hu",
                                    "USERNEV": "andras3"
                                },
                                {
                                    "NEV": "Back András",
                                    "EMAIL": "andras4@gmail.com",
                                    "USERNEV": "andras4"
                                },
                                {
                                    "NEV": "Komjáti András",
                                    "EMAIL": "andras41@gmail.com",
                                    "USERNEV": "andras41"
                                },
                                {
                                    "NEV": "Kiss Andrea",
                                    "EMAIL": "andrea.kiss@mail.hu",
                                    "USERNEV": "andrea"
                                },
                                {
                                    "NEV": "Tornyos Andrea",
                                    "EMAIL": "ANDREAT@gmail.com",
                                    "USERNEV": "ANDREAT"
                                },
                                {
                                    "NEV": "Pivarcsi Anett",
                                    "EMAIL": "anett.pivarcsi@mail.hu",
                                    "USERNEV": "anett3"
                                },
                                {
                                    "NEV": "Tóth Anikó",
                                    "EMAIL": "aniko@gmail.com",
                                    "USERNEV": "aniko"
                                },
                                {
                                    "NEV": "Böröcz Anikó",
                                    "EMAIL": "aniko4@gmail.com",
                                    "USERNEV": "aniko4"
                                },
                                {
                                    "NEV": "Simon Anikó",
                                    "EMAIL": "ANIKOS@gmail.com",
                                    "USERNEV": "ANIKOS"
                                },
                                {
                                    "NEV": "Hamvay-Kovács Anita",
                                    "EMAIL": "anita.hamvay-kovács@mail.hu",
                                    "USERNEV": "anita"
                                },
                                {
                                    "NEV": "Szűcs Annamária",
                                    "EMAIL": "annamária.szűcs@mail.hu",
                                    "USERNEV": "annamaria1"
                                },
                                {
                                    "NEV": "Regős Annamária",
                                    "EMAIL": "ANNAMARIAR@gmail.com",
                                    "USERNEV": "ANNAMARIAR"
                                },
                                {
                                    "NEV": "Jakab Áron",
                                    "EMAIL": "aron2@gmail.com",
                                    "USERNEV": "aron2"
                                },
                                {
                                    "NEV": "Kelemen Áron",
                                    "EMAIL": "áron.kelemen@mail.hu",
                                    "USERNEV": "ARONK"
                                },
                                {
                                    "NEV": "Ötvös Árpád",
                                    "EMAIL": "árpád.ötvös@mail.hu",
                                    "USERNEV": "arpad2"
                                },
                                {
                                    "NEV": "Móricz Árpád",
                                    "EMAIL": "árpád.móricz@mail.hu",
                                    "USERNEV": "ARPADM"
                                },
                                {
                                    "NEV": "Csóti Attila",
                                    "EMAIL": "attila@gmail.com",
                                    "USERNEV": "attila"
                                },
                                {
                                    "NEV": "Gulyás Attila",
                                    "EMAIL": "attila.gulyás@mail.hu",
                                    "USERNEV": "attila1"
                                },
                                {
                                    "NEV": "Baróti Attila",
                                    "EMAIL": "attila.baróti@mail.hu",
                                    "USERNEV": "attila4"
                                },
                                {
                                    "NEV": "Bozsik Balázs",
                                    "EMAIL": "balázs.bozsik@mail.hu",
                                    "USERNEV": "balazs1"
                                },
                                {
                                    "NEV": "Szűcs Balázs",
                                    "EMAIL": "balázs.szűcs@mail.hu",
                                    "USERNEV": "balazs2"
                                },
                                {
                                    "NEV": "Bakódy Balázs",
                                    "EMAIL": "balazs3@gmail.com",
                                    "USERNEV": "balazs3"
                                },
                                {
                                    "NEV": "Horváth Bálint",
                                    "EMAIL": "balint@gmail.com",
                                    "USERNEV": "balint"
                                },
                                {
                                    "NEV": "Molnár Bálint",
                                    "EMAIL": "balint1@gmail.com",
                                    "USERNEV": "balint1"
                                },
                                {
                                    "NEV": "Vukasinovity Bálint",
                                    "EMAIL": "balint2@gmail.com",
                                    "USERNEV": "balint2"
                                },
                                {
                                    "NEV": "Endresz Bálint",
                                    "EMAIL": "bálint.endresz@mail.hu",
                                    "USERNEV": "balu"
                                },
                                {
                                    "NEV": "Bagi Beáta",
                                    "EMAIL": "beáta.bagi@mail.hu",
                                    "USERNEV": "beata4"
                                },
                                {
                                    "NEV": "Kerényi Beatrix",
                                    "EMAIL": "beatrix.kerényi@mail.hu",
                                    "USERNEV": "BEATRIXK"
                                },
                                {
                                    "NEV": "Szekendi Beatrix",
                                    "EMAIL": "beatrix.szekendi@mail.hu",
                                    "USERNEV": "BEATRIXS"
                                },
                                {
                                    "NEV": "Farkas Béla",
                                    "EMAIL": "BELAF@gmail.com",
                                    "USERNEV": "BELAF"
                                },
                                {
                                    "NEV": "Győrffy Bence",
                                    "EMAIL": "bence@gmail.com",
                                    "USERNEV": "bence"
                                },
                                {
                                    "NEV": "Bajusz Bence",
                                    "EMAIL": "bence.bajusz@mail.hu",
                                    "USERNEV": "BENCEB"
                                },
                                {
                                    "NEV": "Simon Bernadett",
                                    "EMAIL": "bernadett1@gmail.com",
                                    "USERNEV": "bernadett1"
                                },
                                {
                                    "NEV": "Kovács Bernadett",
                                    "EMAIL": "bernadett.kovács@mail.hu",
                                    "USERNEV": "bernadett2"
                                },
                                {
                                    "NEV": "Orbán Bernadett",
                                    "EMAIL": "bernadett.orbán@mail.hu",
                                    "USERNEV": "BERNADETTO"
                                },
                                {
                                    "NEV": "Csiger Bertalan",
                                    "EMAIL": "bertalan@gmail.com",
                                    "USERNEV": "bertalan"
                                },
                                {
                                    "NEV": "Székely Brigitta",
                                    "EMAIL": "brigitta.székely@mail.hu",
                                    "USERNEV": "brigitta"
                                },
                                {
                                    "NEV": "Nagymihály Csongor",
                                    "EMAIL": "csongor.nagymihály@mail.hu",
                                    "USERNEV": "csongor3"
                                },
                                {
                                    "NEV": "Vörös Dániel",
                                    "EMAIL": "daniel@gmail.com",
                                    "USERNEV": "dani"
                                },
                                {
                                    "NEV": "Rácz Dániel",
                                    "EMAIL": "dániel.rácz@mail.hu",
                                    "USERNEV": "daniel"
                                },
                                {
                                    "NEV": "Keszler Dániel",
                                    "EMAIL": "dániel.keszler@mail.hu",
                                    "USERNEV": "daniel1"
                                },
                                {
                                    "NEV": "Ambrus Dávid",
                                    "EMAIL": "david@gmail.com",
                                    "USERNEV": "david"
                                },
                                {
                                    "NEV": "Sobják Dávid",
                                    "EMAIL": "david1@gmail.com",
                                    "USERNEV": "david1"
                                },
                                {
                                    "NEV": "Barna Debóra",
                                    "EMAIL": "debóra.barna@mail.hu",
                                    "USERNEV": "debora"
                                },
                                {
                                    "NEV": "Tömböly Dénes",
                                    "EMAIL": "denes@gmail.com",
                                    "USERNEV": "denes"
                                },
                                {
                                    "NEV": "Bittmann Edit",
                                    "EMAIL": "edit.bittmann@mail.hu",
                                    "USERNEV": "edit"
                                },
                                {
                                    "NEV": "Kuruc Emese",
                                    "EMAIL": "emese.kuruc@mail.hu",
                                    "USERNEV": "emese"
                                },
                                {
                                    "NEV": "Balogh Eszter",
                                    "EMAIL": "eszter.balogh@mail.hu",
                                    "USERNEV": "eszter2"
                                },
                                {
                                    "NEV": "Fülöp Eszter",
                                    "EMAIL": "eszter.fülöp@mail.hu",
                                    "USERNEV": "eszter4"
                                },
                                {
                                    "NEV": "Érsek Eszter",
                                    "EMAIL": "eszter.érsek@mail.hu",
                                    "USERNEV": "ESZTERE"
                                },
                                {
                                    "NEV": "Enyedi Éva",
                                    "EMAIL": "eva@gmail.com",
                                    "USERNEV": "eva"
                                },
                                {
                                    "NEV": "Perlinger Éva",
                                    "EMAIL": "eva2@gmail.com",
                                    "USERNEV": "eva2"
                                },
                                {
                                    "NEV": "Viktor Éva",
                                    "EMAIL": "EVAV@gmail.com",
                                    "USERNEV": "EVAV"
                                },
                                {
                                    "NEV": "Orosz Ferenc",
                                    "EMAIL": "ferenc.orosz@mail.hu",
                                    "USERNEV": "ferenc1"
                                },
                                {
                                    "NEV": "Frank Fruzsina",
                                    "EMAIL": "fruzsina4@gmail.com",
                                    "USERNEV": "fruzsina4"
                                },
                                {
                                    "NEV": "Köves Gábor",
                                    "EMAIL": "gabor1@gmail.com",
                                    "USERNEV": "gabor1"
                                },
                                {
                                    "NEV": "Telek Gábor",
                                    "EMAIL": "gábor.telek@mail.hu",
                                    "USERNEV": "gabor4"
                                },
                                {
                                    "NEV": "Nagy Gabriella",
                                    "EMAIL": "gabriella1@gmail.com",
                                    "USERNEV": "gabriella1"
                                },
                                {
                                    "NEV": "Nyíri Georgij",
                                    "EMAIL": "georgij.nyíri@mail.hu",
                                    "USERNEV": "georgij"
                                },
                                {
                                    "NEV": "Bárci Gusztáv",
                                    "EMAIL": "gusztav@gmail.com",
                                    "USERNEV": "gusztav"
                                },
                                {
                                    "NEV": "Kornseé Gyöngyi",
                                    "EMAIL": "gyöngyi.kornseé@mail.hu",
                                    "USERNEV": "GYONGYIK"
                                },
                                {
                                    "NEV": "Oroszi György",
                                    "EMAIL": "GYORGYO@gmail.com",
                                    "USERNEV": "GYORGYO"
                                },
                                {
                                    "NEV": "Nádudvari Henrik",
                                    "EMAIL": "henrik.nádudvari@mail.hu",
                                    "USERNEV": "henrik3"
                                },
                                {
                                    "NEV": "Andor Ibolya",
                                    "EMAIL": "ibolya.andor@mail.hu",
                                    "USERNEV": "IBOLYAA"
                                },
                                {
                                    "NEV": "Bosnyák Ilona",
                                    "EMAIL": "ilona3@gmail.com",
                                    "USERNEV": "ilona3"
                                },
                                {
                                    "NEV": "Búza Imre",
                                    "EMAIL": "imre.búza@mail.hu",
                                    "USERNEV": "imre"
                                },
                                {
                                    "NEV": "Papp Imre",
                                    "EMAIL": "imre.papp@mail.hu",
                                    "USERNEV": "imre1"
                                },
                                {
                                    "NEV": "Soós István",
                                    "EMAIL": "istvan@gmail.com",
                                    "USERNEV": "istvan"
                                },
                                {
                                    "NEV": "Vizi István",
                                    "EMAIL": "istván.vizi@mail.hu",
                                    "USERNEV": "istvan1"
                                },
                                {
                                    "NEV": "Varga István",
                                    "EMAIL": "ISTVANV@gmail.com",
                                    "USERNEV": "ISTVANV"
                                },
                                {
                                    "NEV": "Harangozó János",
                                    "EMAIL": "janos3@gmail.com",
                                    "USERNEV": "janos3"
                                },
                                {
                                    "NEV": "Giliga János",
                                    "EMAIL": "JANOSG@gmail.com",
                                    "USERNEV": "JANOSG"
                                },
                                {
                                    "NEV": "Pálinkás János",
                                    "EMAIL": "JANOSP@gmail.com",
                                    "USERNEV": "JANOSP"
                                },
                                {
                                    "NEV": "Gergely József",
                                    "EMAIL": "jozsef@gmail.com",
                                    "USERNEV": "jozsef"
                                },
                                {
                                    "NEV": "Vajda József",
                                    "EMAIL": "józsef.vajda@mail.hu",
                                    "USERNEV": "jozsef2"
                                },
                                {
                                    "NEV": "Hídasi Judit",
                                    "EMAIL": "JUDITH@gmail.com",
                                    "USERNEV": "JUDITH"
                                },
                                {
                                    "NEV": "Tóth Júlia",
                                    "EMAIL": "julia@gmail.com",
                                    "USERNEV": "julia"
                                },
                                {
                                    "NEV": "Nagy Júlia",
                                    "EMAIL": "julia4@gmail.com",
                                    "USERNEV": "julia4"
                                },
                                {
                                    "NEV": "Szabó Julianna",
                                    "EMAIL": "julianna4@gmail.com",
                                    "USERNEV": "julianna4"
                                },
                                {
                                    "NEV": "Gondos Katalin",
                                    "EMAIL": "katalin.gondos@mail.hu",
                                    "USERNEV": "kata"
                                },
                                {
                                    "NEV": "Horváth Katalin",
                                    "EMAIL": "katalin.horváth@mail.hu",
                                    "USERNEV": "katalin"
                                },
                                {
                                    "NEV": "Kertész Katalin",
                                    "EMAIL": "katalin4@gmail.com",
                                    "USERNEV": "katalin4"
                                },
                                {
                                    "NEV": "Kovács Katalin",
                                    "EMAIL": "katalin.kovács@mail.hu",
                                    "USERNEV": "katka"
                                },
                                {
                                    "NEV": "Bakó Klaudia",
                                    "EMAIL": "klaudia.bakó@mail.hu",
                                    "USERNEV": "klaudia2"
                                },
                                {
                                    "NEV": "Lukács Kornél",
                                    "EMAIL": "kornél.lukács@mail.hu",
                                    "USERNEV": "kornel4"
                                },
                                {
                                    "NEV": "Poprádi Kristóf",
                                    "EMAIL": "kristof4@gmail.com",
                                    "USERNEV": "kristof4"
                                },
                                {
                                    "NEV": "Horváth Krisztina",
                                    "EMAIL": "kriszti@gmail.com",
                                    "USERNEV": "kriszti"
                                },
                                {
                                    "NEV": "Czérna Krisztián",
                                    "EMAIL": "krisztián.czérna@mail.hu",
                                    "USERNEV": "krisztian4"
                                },
                                {
                                    "NEV": "Bori Krisztina",
                                    "EMAIL": "krisztina.bori@mail.hu",
                                    "USERNEV": "krisztina1"
                                },
                                {
                                    "NEV": "Gyárfás Krisztina",
                                    "EMAIL": "KRISZTINAG@gmail.com",
                                    "USERNEV": "KRISZTINAG"
                                },
                                {
                                    "NEV": "Kiss Lajos",
                                    "EMAIL": "lajos.kiss@mail.hu",
                                    "USERNEV": "lajos"
                                },
                                {
                                    "NEV": "Nagymihály Lajos",
                                    "EMAIL": "lajos.nagymihály@mail.hu",
                                    "USERNEV": "lala"
                                },
                                {
                                    "NEV": "Móra László",
                                    "EMAIL": "lászló.móra@mail.hu",
                                    "USERNEV": "laszlo2"
                                },
                                {
                                    "NEV": "Antal László",
                                    "EMAIL": "lászló.antal@mail.hu",
                                    "USERNEV": "LASZLOA"
                                },
                                {
                                    "NEV": "Nagy László",
                                    "EMAIL": "lászló.nagy@mail.hu",
                                    "USERNEV": "LASZLON"
                                },
                                {
                                    "NEV": "Baráth Mária",
                                    "EMAIL": "mária.baráth@mail.hu",
                                    "USERNEV": "maria1"
                                },
                                {
                                    "NEV": "Kispál Márk",
                                    "EMAIL": "márk.kispál@mail.hu",
                                    "USERNEV": "mark"
                                },
                                {
                                    "NEV": "Horváth Márk",
                                    "EMAIL": "márk.horváth@mail.hu",
                                    "USERNEV": "MARKH"
                                },
                                {
                                    "NEV": "Kalacsi Márton",
                                    "EMAIL": "marton@gmail.com",
                                    "USERNEV": "marton"
                                },
                                {
                                    "NEV": "Koza Máté",
                                    "EMAIL": "máté.koza@mail.hu",
                                    "USERNEV": "MATEK"
                                },
                                {
                                    "NEV": "Botka Mátyás",
                                    "EMAIL": "matyas2@gmail.com",
                                    "USERNEV": "matyas2"
                                },
                                {
                                    "NEV": "Szilágyi Mátyás",
                                    "EMAIL": "mátyás.szilágyi@mail.hu",
                                    "USERNEV": "MATYASS"
                                },
                                {
                                    "NEV": "Juhász Mihály",
                                    "EMAIL": "mihály.juhász@mail.hu",
                                    "USERNEV": "MIHALYJ"
                                },
                                {
                                    "NEV": "Gondos Miklós",
                                    "EMAIL": "miklos2@gmail.com",
                                    "USERNEV": "miklos2"
                                },
                                {
                                    "NEV": "Balla Miklós",
                                    "EMAIL": "miklós.balla@mail.hu",
                                    "USERNEV": "MIKLOSB"
                                },
                                {
                                    "NEV": "Mohos Mónika",
                                    "EMAIL": "mónika.mohos@mail.hu",
                                    "USERNEV": "MONIKAM"
                                },
                                {
                                    "NEV": "Fő Nándor",
                                    "EMAIL": "nándor.fő@mail.hu",
                                    "USERNEV": "NANDORF"
                                },
                                {
                                    "NEV": "Horváth Nikolett",
                                    "EMAIL": "nikolett3@gmail.com",
                                    "USERNEV": "nikolett3"
                                },
                                {
                                    "NEV": "Kő Nikoletta",
                                    "EMAIL": "nikoletta4@gmail.com",
                                    "USERNEV": "nikoletta4"
                                },
                                {
                                    "NEV": "Tatár Nikoletta",
                                    "EMAIL": "nikoletta.tatár@mail.hu",
                                    "USERNEV": "NIKOLETTAT"
                                },
                                {
                                    "NEV": "Szűcs Norbert",
                                    "EMAIL": "norbert@gmail.com",
                                    "USERNEV": "norbert"
                                },
                                {
                                    "NEV": "Hegedűs Norbert",
                                    "EMAIL": "norbert.hegedűs@mail.hu",
                                    "USERNEV": "norbert2"
                                },
                                {
                                    "NEV": "Mile Norbert",
                                    "EMAIL": "norbert4@gmail.com",
                                    "USERNEV": "norbert4"
                                },
                                {
                                    "NEV": "Béres Norbert",
                                    "EMAIL": "norbert5@gmail.com",
                                    "USERNEV": "norbert5"
                                },
                                {
                                    "NEV": "Barabás Pál",
                                    "EMAIL": "pál.barabás@mail.hu",
                                    "USERNEV": "pal"
                                },
                                {
                                    "NEV": "Kozma Péter",
                                    "EMAIL": "peter1@gmail.com",
                                    "USERNEV": "peter1"
                                },
                                {
                                    "NEV": "Bozsó Péter",
                                    "EMAIL": "peter2@gmail.com",
                                    "USERNEV": "peter2"
                                },
                                {
                                    "NEV": "Szalai Péter",
                                    "EMAIL": "peter3@gmail.com",
                                    "USERNEV": "peter3"
                                },
                                {
                                    "NEV": "Bíró Péter",
                                    "EMAIL": "péter.bíró@mail.hu",
                                    "USERNEV": "peter4"
                                },
                                {
                                    "NEV": "Berendi Péter",
                                    "EMAIL": "péter.berendi@mail.hu",
                                    "USERNEV": "PETERB"
                                },
                                {
                                    "NEV": "Palágyi Polla",
                                    "EMAIL": "polla@gmail.com",
                                    "USERNEV": "polla"
                                },
                                {
                                    "NEV": "Rácz Rajmond",
                                    "EMAIL": "rajmond.rácz@mail.hu",
                                    "USERNEV": "rajmond4"
                                },
                                {
                                    "NEV": "Szikszai Réka",
                                    "EMAIL": "réka.szikszai@mail.hu",
                                    "USERNEV": "reka4"
                                },
                                {
                                    "NEV": "Szirmai Renáta",
                                    "EMAIL": "RENATAS@gmail.com",
                                    "USERNEV": "RENATAS"
                                },
                                {
                                    "NEV": "Patay Róbert",
                                    "EMAIL": "robert2@gmail.com",
                                    "USERNEV": "robert2"
                                },
                                {
                                    "NEV": "Iván Róbert",
                                    "EMAIL": "róbert.iván@mail.hu",
                                    "USERNEV": "ROBERTI"
                                },
                                {
                                    "NEV": "Tóth Roland",
                                    "EMAIL": "roland@gmail.com",
                                    "USERNEV": "roland"
                                },
                                {
                                    "NEV": "Ferencz Roland",
                                    "EMAIL": "roland.ferencz@mail.hu",
                                    "USERNEV": "roland1"
                                },
                                {
                                    "NEV": "Bucskó Róza",
                                    "EMAIL": "roza2@gmail.com",
                                    "USERNEV": "roza2"
                                },
                                {
                                    "NEV": "Karasz Sándor",
                                    "EMAIL": "sandor@gmail.com",
                                    "USERNEV": "sandor"
                                },
                                {
                                    "NEV": "Farkas Sándor",
                                    "EMAIL": "sándor.farkas@mail.hu",
                                    "USERNEV": "sandor3"
                                },
                                {
                                    "NEV": "Nagy Sándor",
                                    "EMAIL": "sandor4@gmail.com",
                                    "USERNEV": "sandor4"
                                },
                                {
                                    "NEV": "Farkas Sára",
                                    "EMAIL": "sára.farkas@mail.hu",
                                    "USERNEV": "sara"
                                },
                                {
                                    "NEV": "Foltényi Sebastián",
                                    "EMAIL": "SEBASTIANF@gmail.com",
                                    "USERNEV": "SEBASTIANF"
                                },
                                {
                                    "NEV": "Rab Sebestyén",
                                    "EMAIL": "sebestyen@gmail.com",
                                    "USERNEV": "sebestyen"
                                },
                                {
                                    "NEV": "Miklós Szabolcs",
                                    "EMAIL": "szabolcs.miklós@mail.hu",
                                    "USERNEV": "SZABOLCSM"
                                },
                                {
                                    "NEV": "Szalai Szilárd",
                                    "EMAIL": "szilárd.szalai@mail.hu",
                                    "USERNEV": "SZILARDS"
                                },
                                {
                                    "NEV": "Tari Szilvia",
                                    "EMAIL": "szilvia.tari@mail.hu",
                                    "USERNEV": "szilvia1"
                                },
                                {
                                    "NEV": "Miklós Tamara",
                                    "EMAIL": "tamara.miklós@mail.hu",
                                    "USERNEV": "tamara2"
                                },
                                {
                                    "NEV": "Antal Tamás",
                                    "EMAIL": "tamás.antal@mail.hu",
                                    "USERNEV": "tamas"
                                },
                                {
                                    "NEV": "Fényes Tamás",
                                    "EMAIL": "TAMASF@gmail.com",
                                    "USERNEV": "TAMASF"
                                },
                                {
                                    "NEV": "Gombos Tibor",
                                    "EMAIL": "tibor.gombos@mail.hu",
                                    "USERNEV": "tibor"
                                },
                                {
                                    "NEV": "Kazy Tihamér",
                                    "EMAIL": "tihamér.kazy@mail.hu",
                                    "USERNEV": "tihamer"
                                },
                                {
                                    "NEV": "Dusha Tímea",
                                    "EMAIL": "tímea.dusha@mail.hu",
                                    "USERNEV": "timea2"
                                },
                                {
                                    "NEV": "Turcsik Tünde",
                                    "EMAIL": "tunde@gmail.com",
                                    "USERNEV": "tunde"
                                },
                                {
                                    "NEV": "Feró Valentin",
                                    "EMAIL": "valentin.feró@mail.hu",
                                    "USERNEV": "valentin"
                                },
                                {
                                    "NEV": "Tankó Veronika",
                                    "EMAIL": "veronika4@gmail.com",
                                    "USERNEV": "veronika4"
                                },
                                {
                                    "NEV": "Boros Vivien",
                                    "EMAIL": "vivien3@gmail.com",
                                    "USERNEV": "vivien3"
                                },
                                {
                                    "NEV": "Fodor Zoltán",
                                    "EMAIL": "zoltán.fodor@mail.hu",
                                    "USERNEV": "zoltan"
                                },
                                {
                                    "NEV": "Pintér Zoltán",
                                    "EMAIL": "zoltán.pintér@mail.hu",
                                    "USERNEV": "ZOLTANP"
                                },
                                {
                                    "NEV": "Tóth Zoltán",
                                    "EMAIL": "zoltán.tóth@mail.hu",
                                    "USERNEV": "ZOLTANT"
                                },
                                {
                                    "NEV": "Molnár Zsófi",
                                    "EMAIL": "zsofi1@gmail.com",
                                    "USERNEV": "zsofi1"
                                },
                                {
                                    "NEV": "Józsa Zsolt",
                                    "EMAIL": "ZSOLTJ@gmail.com",
                                    "USERNEV": "ZSOLTJ"
                                },
                                {
                                    "NEV": "Pusztai Zsuzsanna",
                                    "EMAIL": "zsuzsanna@gmail.com",
                                    "USERNEV": "zsuzsa"
                                },
                                {
                                    "NEV": "Varsányi Zsuzsa",
                                    "EMAIL": "zsuzsa.varsányi@mail.hu",
                                    "USERNEV": "zsuzsa3"
                                },
                                {
                                    "NEV": "Barta Zsuzsanna",
                                    "EMAIL": "zsuzsanna.barta@mail.hu",
                                    "USERNEV": "zsuzsanna"
                                },
                                {
                                    "NEV": "Vajda Zsuzsa",
                                    "EMAIL": "zsuzsa.vajda@mail.hu",
                                    "USERNEV": "ZSUZSAV"
                                }
                            ]
                        },
                        "text/html": [
                            "<table>",
                            "<tr><th>NEV</th><th>EMAIL</th><th>USERNEV</th></tr>",
                            "<tr><td>Kiss Ádám</td><td>ádám.kiss@mail.hu</td><td>adam1</td></tr>",
                            "<tr><td>Barkóci Ádám</td><td>adam3@gmail.com</td><td>adam3</td></tr>",
                            "<tr><td>Bieniek Ádám</td><td>ádám.bieniek@mail.hu</td><td>adam4</td></tr>",
                            "<tr><td>Lengyel Ágnes</td><td>agnes@gmail.com</td><td>agnes</td></tr>",
                            "<tr><td>Hartyánszky Ágnes</td><td>agnes3@gmail.com</td><td>agnes3</td></tr>",
                            "<tr><td>Horváth Ágnes</td><td>AGNESH@gmail.com</td><td>AGNESH</td></tr>",
                            "<tr><td>Kovács Ágnes</td><td>AGNESK@gmail.com</td><td>AGNESK</td></tr>",
                            "<tr><td>Bíró Ákos</td><td>ákos.bíró@mail.hu</td><td>akos</td></tr>",
                            "<tr><td>Dunai Aladár</td><td>aladár.dunai@mail.hu</td><td>aladar</td></tr>",
                            "<tr><td>Bagóczki Alexandra</td><td>alexandra.bagóczki@mail.hu</td><td>alexandra</td></tr>",
                            "<tr><td>Tóth András</td><td>andrás.tóth@mail.hu</td><td>andras2</td></tr>",
                            "<tr><td>Molnár András</td><td>andrás.molnár@mail.hu</td><td>andras21</td></tr>",
                            "<tr><td>Vígh András</td><td>andrás.vígh@mail.hu</td><td>andras3</td></tr>",
                            "<tr><td>Back András</td><td>andras4@gmail.com</td><td>andras4</td></tr>",
                            "<tr><td>Komjáti András</td><td>andras41@gmail.com</td><td>andras41</td></tr>",
                            "<tr><td>Kiss Andrea</td><td>andrea.kiss@mail.hu</td><td>andrea</td></tr>",
                            "<tr><td>Tornyos Andrea</td><td>ANDREAT@gmail.com</td><td>ANDREAT</td></tr>",
                            "<tr><td>Pivarcsi Anett</td><td>anett.pivarcsi@mail.hu</td><td>anett3</td></tr>",
                            "<tr><td>Tóth Anikó</td><td>aniko@gmail.com</td><td>aniko</td></tr>",
                            "<tr><td>Böröcz Anikó</td><td>aniko4@gmail.com</td><td>aniko4</td></tr>",
                            "<tr><td>Simon Anikó</td><td>ANIKOS@gmail.com</td><td>ANIKOS</td></tr>",
                            "<tr><td>Hamvay-Kovács Anita</td><td>anita.hamvay-kovács@mail.hu</td><td>anita</td></tr>",
                            "<tr><td>Szűcs Annamária</td><td>annamária.szűcs@mail.hu</td><td>annamaria1</td></tr>",
                            "<tr><td>Regős Annamária</td><td>ANNAMARIAR@gmail.com</td><td>ANNAMARIAR</td></tr>",
                            "<tr><td>Jakab Áron</td><td>aron2@gmail.com</td><td>aron2</td></tr>",
                            "<tr><td>Kelemen Áron</td><td>áron.kelemen@mail.hu</td><td>ARONK</td></tr>",
                            "<tr><td>Ötvös Árpád</td><td>árpád.ötvös@mail.hu</td><td>arpad2</td></tr>",
                            "<tr><td>Móricz Árpád</td><td>árpád.móricz@mail.hu</td><td>ARPADM</td></tr>",
                            "<tr><td>Csóti Attila</td><td>attila@gmail.com</td><td>attila</td></tr>",
                            "<tr><td>Gulyás Attila</td><td>attila.gulyás@mail.hu</td><td>attila1</td></tr>",
                            "<tr><td>Baróti Attila</td><td>attila.baróti@mail.hu</td><td>attila4</td></tr>",
                            "<tr><td>Bozsik Balázs</td><td>balázs.bozsik@mail.hu</td><td>balazs1</td></tr>",
                            "<tr><td>Szűcs Balázs</td><td>balázs.szűcs@mail.hu</td><td>balazs2</td></tr>",
                            "<tr><td>Bakódy Balázs</td><td>balazs3@gmail.com</td><td>balazs3</td></tr>",
                            "<tr><td>Horváth Bálint</td><td>balint@gmail.com</td><td>balint</td></tr>",
                            "<tr><td>Molnár Bálint</td><td>balint1@gmail.com</td><td>balint1</td></tr>",
                            "<tr><td>Vukasinovity Bálint</td><td>balint2@gmail.com</td><td>balint2</td></tr>",
                            "<tr><td>Endresz Bálint</td><td>bálint.endresz@mail.hu</td><td>balu</td></tr>",
                            "<tr><td>Bagi Beáta</td><td>beáta.bagi@mail.hu</td><td>beata4</td></tr>",
                            "<tr><td>Kerényi Beatrix</td><td>beatrix.kerényi@mail.hu</td><td>BEATRIXK</td></tr>",
                            "<tr><td>Szekendi Beatrix</td><td>beatrix.szekendi@mail.hu</td><td>BEATRIXS</td></tr>",
                            "<tr><td>Farkas Béla</td><td>BELAF@gmail.com</td><td>BELAF</td></tr>",
                            "<tr><td>Győrffy Bence</td><td>bence@gmail.com</td><td>bence</td></tr>",
                            "<tr><td>Bajusz Bence</td><td>bence.bajusz@mail.hu</td><td>BENCEB</td></tr>",
                            "<tr><td>Simon Bernadett</td><td>bernadett1@gmail.com</td><td>bernadett1</td></tr>",
                            "<tr><td>Kovács Bernadett</td><td>bernadett.kovács@mail.hu</td><td>bernadett2</td></tr>",
                            "<tr><td>Orbán Bernadett</td><td>bernadett.orbán@mail.hu</td><td>BERNADETTO</td></tr>",
                            "<tr><td>Csiger Bertalan</td><td>bertalan@gmail.com</td><td>bertalan</td></tr>",
                            "<tr><td>Székely Brigitta</td><td>brigitta.székely@mail.hu</td><td>brigitta</td></tr>",
                            "<tr><td>Nagymihály Csongor</td><td>csongor.nagymihály@mail.hu</td><td>csongor3</td></tr>",
                            "<tr><td>Vörös Dániel</td><td>daniel@gmail.com</td><td>dani</td></tr>",
                            "<tr><td>Rácz Dániel</td><td>dániel.rácz@mail.hu</td><td>daniel</td></tr>",
                            "<tr><td>Keszler Dániel</td><td>dániel.keszler@mail.hu</td><td>daniel1</td></tr>",
                            "<tr><td>Ambrus Dávid</td><td>david@gmail.com</td><td>david</td></tr>",
                            "<tr><td>Sobják Dávid</td><td>david1@gmail.com</td><td>david1</td></tr>",
                            "<tr><td>Barna Debóra</td><td>debóra.barna@mail.hu</td><td>debora</td></tr>",
                            "<tr><td>Tömböly Dénes</td><td>denes@gmail.com</td><td>denes</td></tr>",
                            "<tr><td>Bittmann Edit</td><td>edit.bittmann@mail.hu</td><td>edit</td></tr>",
                            "<tr><td>Kuruc Emese</td><td>emese.kuruc@mail.hu</td><td>emese</td></tr>",
                            "<tr><td>Balogh Eszter</td><td>eszter.balogh@mail.hu</td><td>eszter2</td></tr>",
                            "<tr><td>Fülöp Eszter</td><td>eszter.fülöp@mail.hu</td><td>eszter4</td></tr>",
                            "<tr><td>Érsek Eszter</td><td>eszter.érsek@mail.hu</td><td>ESZTERE</td></tr>",
                            "<tr><td>Enyedi Éva</td><td>eva@gmail.com</td><td>eva</td></tr>",
                            "<tr><td>Perlinger Éva</td><td>eva2@gmail.com</td><td>eva2</td></tr>",
                            "<tr><td>Viktor Éva</td><td>EVAV@gmail.com</td><td>EVAV</td></tr>",
                            "<tr><td>Orosz Ferenc</td><td>ferenc.orosz@mail.hu</td><td>ferenc1</td></tr>",
                            "<tr><td>Frank Fruzsina</td><td>fruzsina4@gmail.com</td><td>fruzsina4</td></tr>",
                            "<tr><td>Köves Gábor</td><td>gabor1@gmail.com</td><td>gabor1</td></tr>",
                            "<tr><td>Telek Gábor</td><td>gábor.telek@mail.hu</td><td>gabor4</td></tr>",
                            "<tr><td>Nagy Gabriella</td><td>gabriella1@gmail.com</td><td>gabriella1</td></tr>",
                            "<tr><td>Nyíri Georgij</td><td>georgij.nyíri@mail.hu</td><td>georgij</td></tr>",
                            "<tr><td>Bárci Gusztáv</td><td>gusztav@gmail.com</td><td>gusztav</td></tr>",
                            "<tr><td>Kornseé Gyöngyi</td><td>gyöngyi.kornseé@mail.hu</td><td>GYONGYIK</td></tr>",
                            "<tr><td>Oroszi György</td><td>GYORGYO@gmail.com</td><td>GYORGYO</td></tr>",
                            "<tr><td>Nádudvari Henrik</td><td>henrik.nádudvari@mail.hu</td><td>henrik3</td></tr>",
                            "<tr><td>Andor Ibolya</td><td>ibolya.andor@mail.hu</td><td>IBOLYAA</td></tr>",
                            "<tr><td>Bosnyák Ilona</td><td>ilona3@gmail.com</td><td>ilona3</td></tr>",
                            "<tr><td>Búza Imre</td><td>imre.búza@mail.hu</td><td>imre</td></tr>",
                            "<tr><td>Papp Imre</td><td>imre.papp@mail.hu</td><td>imre1</td></tr>",
                            "<tr><td>Soós István</td><td>istvan@gmail.com</td><td>istvan</td></tr>",
                            "<tr><td>Vizi István</td><td>istván.vizi@mail.hu</td><td>istvan1</td></tr>",
                            "<tr><td>Varga István</td><td>ISTVANV@gmail.com</td><td>ISTVANV</td></tr>",
                            "<tr><td>Harangozó János</td><td>janos3@gmail.com</td><td>janos3</td></tr>",
                            "<tr><td>Giliga János</td><td>JANOSG@gmail.com</td><td>JANOSG</td></tr>",
                            "<tr><td>Pálinkás János</td><td>JANOSP@gmail.com</td><td>JANOSP</td></tr>",
                            "<tr><td>Gergely József</td><td>jozsef@gmail.com</td><td>jozsef</td></tr>",
                            "<tr><td>Vajda József</td><td>józsef.vajda@mail.hu</td><td>jozsef2</td></tr>",
                            "<tr><td>Hídasi Judit</td><td>JUDITH@gmail.com</td><td>JUDITH</td></tr>",
                            "<tr><td>Tóth Júlia</td><td>julia@gmail.com</td><td>julia</td></tr>",
                            "<tr><td>Nagy Júlia</td><td>julia4@gmail.com</td><td>julia4</td></tr>",
                            "<tr><td>Szabó Julianna</td><td>julianna4@gmail.com</td><td>julianna4</td></tr>",
                            "<tr><td>Gondos Katalin</td><td>katalin.gondos@mail.hu</td><td>kata</td></tr>",
                            "<tr><td>Horváth Katalin</td><td>katalin.horváth@mail.hu</td><td>katalin</td></tr>",
                            "<tr><td>Kertész Katalin</td><td>katalin4@gmail.com</td><td>katalin4</td></tr>",
                            "<tr><td>Kovács Katalin</td><td>katalin.kovács@mail.hu</td><td>katka</td></tr>",
                            "<tr><td>Bakó Klaudia</td><td>klaudia.bakó@mail.hu</td><td>klaudia2</td></tr>",
                            "<tr><td>Lukács Kornél</td><td>kornél.lukács@mail.hu</td><td>kornel4</td></tr>",
                            "<tr><td>Poprádi Kristóf</td><td>kristof4@gmail.com</td><td>kristof4</td></tr>",
                            "<tr><td>Horváth Krisztina</td><td>kriszti@gmail.com</td><td>kriszti</td></tr>",
                            "<tr><td>Czérna Krisztián</td><td>krisztián.czérna@mail.hu</td><td>krisztian4</td></tr>",
                            "<tr><td>Bori Krisztina</td><td>krisztina.bori@mail.hu</td><td>krisztina1</td></tr>",
                            "<tr><td>Gyárfás Krisztina</td><td>KRISZTINAG@gmail.com</td><td>KRISZTINAG</td></tr>",
                            "<tr><td>Kiss Lajos</td><td>lajos.kiss@mail.hu</td><td>lajos</td></tr>",
                            "<tr><td>Nagymihály Lajos</td><td>lajos.nagymihály@mail.hu</td><td>lala</td></tr>",
                            "<tr><td>Móra László</td><td>lászló.móra@mail.hu</td><td>laszlo2</td></tr>",
                            "<tr><td>Antal László</td><td>lászló.antal@mail.hu</td><td>LASZLOA</td></tr>",
                            "<tr><td>Nagy László</td><td>lászló.nagy@mail.hu</td><td>LASZLON</td></tr>",
                            "<tr><td>Baráth Mária</td><td>mária.baráth@mail.hu</td><td>maria1</td></tr>",
                            "<tr><td>Kispál Márk</td><td>márk.kispál@mail.hu</td><td>mark</td></tr>",
                            "<tr><td>Horváth Márk</td><td>márk.horváth@mail.hu</td><td>MARKH</td></tr>",
                            "<tr><td>Kalacsi Márton</td><td>marton@gmail.com</td><td>marton</td></tr>",
                            "<tr><td>Koza Máté</td><td>máté.koza@mail.hu</td><td>MATEK</td></tr>",
                            "<tr><td>Botka Mátyás</td><td>matyas2@gmail.com</td><td>matyas2</td></tr>",
                            "<tr><td>Szilágyi Mátyás</td><td>mátyás.szilágyi@mail.hu</td><td>MATYASS</td></tr>",
                            "<tr><td>Juhász Mihály</td><td>mihály.juhász@mail.hu</td><td>MIHALYJ</td></tr>",
                            "<tr><td>Gondos Miklós</td><td>miklos2@gmail.com</td><td>miklos2</td></tr>",
                            "<tr><td>Balla Miklós</td><td>miklós.balla@mail.hu</td><td>MIKLOSB</td></tr>",
                            "<tr><td>Mohos Mónika</td><td>mónika.mohos@mail.hu</td><td>MONIKAM</td></tr>",
                            "<tr><td>Fő Nándor</td><td>nándor.fő@mail.hu</td><td>NANDORF</td></tr>",
                            "<tr><td>Horváth Nikolett</td><td>nikolett3@gmail.com</td><td>nikolett3</td></tr>",
                            "<tr><td>Kő Nikoletta</td><td>nikoletta4@gmail.com</td><td>nikoletta4</td></tr>",
                            "<tr><td>Tatár Nikoletta</td><td>nikoletta.tatár@mail.hu</td><td>NIKOLETTAT</td></tr>",
                            "<tr><td>Szűcs Norbert</td><td>norbert@gmail.com</td><td>norbert</td></tr>",
                            "<tr><td>Hegedűs Norbert</td><td>norbert.hegedűs@mail.hu</td><td>norbert2</td></tr>",
                            "<tr><td>Mile Norbert</td><td>norbert4@gmail.com</td><td>norbert4</td></tr>",
                            "<tr><td>Béres Norbert</td><td>norbert5@gmail.com</td><td>norbert5</td></tr>",
                            "<tr><td>Barabás Pál</td><td>pál.barabás@mail.hu</td><td>pal</td></tr>",
                            "<tr><td>Kozma Péter</td><td>peter1@gmail.com</td><td>peter1</td></tr>",
                            "<tr><td>Bozsó Péter</td><td>peter2@gmail.com</td><td>peter2</td></tr>",
                            "<tr><td>Szalai Péter</td><td>peter3@gmail.com</td><td>peter3</td></tr>",
                            "<tr><td>Bíró Péter</td><td>péter.bíró@mail.hu</td><td>peter4</td></tr>",
                            "<tr><td>Berendi Péter</td><td>péter.berendi@mail.hu</td><td>PETERB</td></tr>",
                            "<tr><td>Palágyi Polla</td><td>polla@gmail.com</td><td>polla</td></tr>",
                            "<tr><td>Rácz Rajmond</td><td>rajmond.rácz@mail.hu</td><td>rajmond4</td></tr>",
                            "<tr><td>Szikszai Réka</td><td>réka.szikszai@mail.hu</td><td>reka4</td></tr>",
                            "<tr><td>Szirmai Renáta</td><td>RENATAS@gmail.com</td><td>RENATAS</td></tr>",
                            "<tr><td>Patay Róbert</td><td>robert2@gmail.com</td><td>robert2</td></tr>",
                            "<tr><td>Iván Róbert</td><td>róbert.iván@mail.hu</td><td>ROBERTI</td></tr>",
                            "<tr><td>Tóth Roland</td><td>roland@gmail.com</td><td>roland</td></tr>",
                            "<tr><td>Ferencz Roland</td><td>roland.ferencz@mail.hu</td><td>roland1</td></tr>",
                            "<tr><td>Bucskó Róza</td><td>roza2@gmail.com</td><td>roza2</td></tr>",
                            "<tr><td>Karasz Sándor</td><td>sandor@gmail.com</td><td>sandor</td></tr>",
                            "<tr><td>Farkas Sándor</td><td>sándor.farkas@mail.hu</td><td>sandor3</td></tr>",
                            "<tr><td>Nagy Sándor</td><td>sandor4@gmail.com</td><td>sandor4</td></tr>",
                            "<tr><td>Farkas Sára</td><td>sára.farkas@mail.hu</td><td>sara</td></tr>",
                            "<tr><td>Foltényi Sebastián</td><td>SEBASTIANF@gmail.com</td><td>SEBASTIANF</td></tr>",
                            "<tr><td>Rab Sebestyén</td><td>sebestyen@gmail.com</td><td>sebestyen</td></tr>",
                            "<tr><td>Miklós Szabolcs</td><td>szabolcs.miklós@mail.hu</td><td>SZABOLCSM</td></tr>",
                            "<tr><td>Szalai Szilárd</td><td>szilárd.szalai@mail.hu</td><td>SZILARDS</td></tr>",
                            "<tr><td>Tari Szilvia</td><td>szilvia.tari@mail.hu</td><td>szilvia1</td></tr>",
                            "<tr><td>Miklós Tamara</td><td>tamara.miklós@mail.hu</td><td>tamara2</td></tr>",
                            "<tr><td>Antal Tamás</td><td>tamás.antal@mail.hu</td><td>tamas</td></tr>",
                            "<tr><td>Fényes Tamás</td><td>TAMASF@gmail.com</td><td>TAMASF</td></tr>",
                            "<tr><td>Gombos Tibor</td><td>tibor.gombos@mail.hu</td><td>tibor</td></tr>",
                            "<tr><td>Kazy Tihamér</td><td>tihamér.kazy@mail.hu</td><td>tihamer</td></tr>",
                            "<tr><td>Dusha Tímea</td><td>tímea.dusha@mail.hu</td><td>timea2</td></tr>",
                            "<tr><td>Turcsik Tünde</td><td>tunde@gmail.com</td><td>tunde</td></tr>",
                            "<tr><td>Feró Valentin</td><td>valentin.feró@mail.hu</td><td>valentin</td></tr>",
                            "<tr><td>Tankó Veronika</td><td>veronika4@gmail.com</td><td>veronika4</td></tr>",
                            "<tr><td>Boros Vivien</td><td>vivien3@gmail.com</td><td>vivien3</td></tr>",
                            "<tr><td>Fodor Zoltán</td><td>zoltán.fodor@mail.hu</td><td>zoltan</td></tr>",
                            "<tr><td>Pintér Zoltán</td><td>zoltán.pintér@mail.hu</td><td>ZOLTANP</td></tr>",
                            "<tr><td>Tóth Zoltán</td><td>zoltán.tóth@mail.hu</td><td>ZOLTANT</td></tr>",
                            "<tr><td>Molnár Zsófi</td><td>zsofi1@gmail.com</td><td>zsofi1</td></tr>",
                            "<tr><td>Józsa Zsolt</td><td>ZSOLTJ@gmail.com</td><td>ZSOLTJ</td></tr>",
                            "<tr><td>Pusztai Zsuzsanna</td><td>zsuzsanna@gmail.com</td><td>zsuzsa</td></tr>",
                            "<tr><td>Varsányi Zsuzsa</td><td>zsuzsa.varsányi@mail.hu</td><td>zsuzsa3</td></tr>",
                            "<tr><td>Barta Zsuzsanna</td><td>zsuzsanna.barta@mail.hu</td><td>zsuzsanna</td></tr>",
                            "<tr><td>Vajda Zsuzsa</td><td>zsuzsa.vajda@mail.hu</td><td>ZSUZSAV</td></tr>",
                            "</table>"
                        ]
                    }
                }
            ],
            "execution_count": 12
        },
        {
            "cell_type": "markdown",
            "source": [
                "## **2\\. Feladat**\n",
                "\n",
                "**Listázzuk azon vendégek adatait, akik a legtöbb férőhelyes szobát (vagy szobákat) már lefoglalták!**\n",
                "\n",
                "- Csak klímás szoba jöhet számításba"
            ],
            "metadata": {
                "azdata_cell_guid": "53221980-61d0-49b9-85c2-c2aba2a4b3ec"
            },
            "attachments": {}
        },
        {
            "cell_type": "code",
            "source": [
                "SELECT v.*\r\n",
                "FROM VENDEG v INNER JOIN Foglalas f ON v.USERNEV = f.UGYFEL_FK\r\n",
                "              INNER JOIN Szoba sz ON f.SZOBA_FK = sz.SZOBA_ID\r\n",
                "WHERE sz.KLIMAS = 'i' AND sz.FEROHELY = (SELECT \r\n",
                "                                         MAX(FEROHELY)\r\n",
                "                                         FROM Szoba\r\n",
                "                                         WHERE KLIMAS = 'i')"
            ],
            "metadata": {
                "azdata_cell_guid": "9ffdbabc-dfb7-4165-b13b-f956dca06549",
                "language": "sql"
            },
            "outputs": [
                {
                    "output_type": "display_data",
                    "data": {
                        "text/html": "(3 rows affected)"
                    },
                    "metadata": {}
                },
                {
                    "output_type": "display_data",
                    "data": {
                        "text/html": "Total execution time: 00:00:00.016"
                    },
                    "metadata": {}
                },
                {
                    "output_type": "execute_result",
                    "metadata": {},
                    "execution_count": 5,
                    "data": {
                        "application/vnd.dataresource+json": {
                            "schema": {
                                "fields": [
                                    {
                                        "name": "USERNEV"
                                    },
                                    {
                                        "name": "NEV"
                                    },
                                    {
                                        "name": "EMAIL"
                                    },
                                    {
                                        "name": "SZAML_CIM"
                                    },
                                    {
                                        "name": "SZUL_DAT"
                                    }
                                ]
                            },
                            "data": [
                                {
                                    "USERNEV": "JOZSEFG",
                                    "NEV": "Gyuris József",
                                    "EMAIL": "józsef.gyuris@mail.hu",
                                    "SZAML_CIM": "2660 Balassagyarmat Petőfi utca 1/2.",
                                    "SZUL_DAT": "1975-05-26"
                                },
                                {
                                    "USERNEV": "PETERB",
                                    "NEV": "Berendi Péter",
                                    "EMAIL": "péter.berendi@mail.hu",
                                    "SZAML_CIM": "3980 Sátoraljaújhely Vasút utca 4/10.",
                                    "SZUL_DAT": "1969-01-01"
                                },
                                {
                                    "USERNEV": "tunde",
                                    "NEV": "Turcsik Tünde",
                                    "EMAIL": "tunde@gmail.com",
                                    "SZAML_CIM": "7130 Tolna Fő út 122.",
                                    "SZUL_DAT": "1974-02-12"
                                }
                            ]
                        },
                        "text/html": [
                            "<table>",
                            "<tr><th>USERNEV</th><th>NEV</th><th>EMAIL</th><th>SZAML_CIM</th><th>SZUL_DAT</th></tr>",
                            "<tr><td>JOZSEFG</td><td>Gyuris József</td><td>józsef.gyuris@mail.hu</td><td>2660 Balassagyarmat Petőfi utca 1/2.</td><td>1975-05-26</td></tr>",
                            "<tr><td>PETERB</td><td>Berendi Péter</td><td>péter.berendi@mail.hu</td><td>3980 Sátoraljaújhely Vasút utca 4/10.</td><td>1969-01-01</td></tr>",
                            "<tr><td>tunde</td><td>Turcsik Tünde</td><td>tunde@gmail.com</td><td>7130 Tolna Fő út 122.</td><td>1974-02-12</td></tr>",
                            "</table>"
                        ]
                    }
                }
            ],
            "execution_count": 5
        },
        {
            "cell_type": "markdown",
            "source": [
                "## **3\\. Feladat**\n",
                "\n",
                "**Jelenítsük meg, hogy az egyes szálláshelyek szobáit esetén a legutolsó 5 foglalás átlagosan hány főre történt!**\n",
                "\n",
                "- A számításnál vegyük figyelembe a felnőtteket és a gyermekeket is\n",
                "- A foglalás dátumánál a METTOL mezőt használjuk"
            ],
            "metadata": {
                "azdata_cell_guid": "74c7d044-1c02-45f6-94c3-105611674750"
            },
            "attachments": {}
        },
        {
            "cell_type": "code",
            "source": [
                "WITH LegutobbiFoglalasok AS (\r\n",
                "    SELECT sz.SZOBA_ID,\r\n",
                "           sz.SZALLAS_FK,\r\n",
                "           f.FELNOTT_SZAM + f.GYERMEK_SZAM AS OsszesF,\r\n",
                "           ROW_NUMBER() OVER(PARTITION BY sz.SZOBA_ID ORDER BY f.METTOL DESC) AS Sorrend\r\n",
                "    FROM Foglalas f JOIN Szoba sz ON f.SZOBA_FK = sz.SZOBA_ID\r\n",
                ")\r\n",
                "\r\n",
                "SELECT sz.SZALLAS_FK AS \"Szállás ID-ja\",\r\n",
                "       sz.SZOBA_SZAMA \"Szoba száma\",\r\n",
                "       AVG(lf.OsszesF) AS \"Átlag vendégek száma\"\r\n",
                "FROM LegutobbiFoglalasok lf JOIN Szoba sz ON lf.SZOBA_ID = sz.SZOBA_ID\r\n",
                "WHERE Sorrend <= 5\r\n",
                "GROUP BY sz.SZALLAS_FK, sz.SZOBA_SZAMA\r\n",
                "ORDER BY sz.SZALLAS_FK"
            ],
            "metadata": {
                "azdata_cell_guid": "20ed609c-bb2c-4a28-b5f8-89c31bff71e4",
                "language": "sql",
                "tags": []
            },
            "outputs": [
                {
                    "output_type": "display_data",
                    "data": {
                        "text/html": "(197 rows affected)"
                    },
                    "metadata": {}
                },
                {
                    "output_type": "display_data",
                    "data": {
                        "text/html": "Total execution time: 00:00:00.059"
                    },
                    "metadata": {}
                },
                {
                    "output_type": "execute_result",
                    "metadata": {},
                    "execution_count": 29,
                    "data": {
                        "application/vnd.dataresource+json": {
                            "schema": {
                                "fields": [
                                    {
                                        "name": "Szállás ID-ja"
                                    },
                                    {
                                        "name": "Szoba száma"
                                    },
                                    {
                                        "name": "Átlag vendégek száma"
                                    }
                                ]
                            },
                            "data": [
                                {
                                    "Szállás ID-ja": "1",
                                    "Szoba száma": "1",
                                    "Átlag vendégek száma": "2"
                                },
                                {
                                    "Szállás ID-ja": "1",
                                    "Szoba száma": "10",
                                    "Átlag vendégek száma": "2"
                                },
                                {
                                    "Szállás ID-ja": "1",
                                    "Szoba száma": "11",
                                    "Átlag vendégek száma": "2"
                                },
                                {
                                    "Szállás ID-ja": "1",
                                    "Szoba száma": "12",
                                    "Átlag vendégek száma": "2"
                                },
                                {
                                    "Szállás ID-ja": "1",
                                    "Szoba száma": "2",
                                    "Átlag vendégek száma": "3"
                                },
                                {
                                    "Szállás ID-ja": "1",
                                    "Szoba száma": "3",
                                    "Átlag vendégek száma": "2"
                                },
                                {
                                    "Szállás ID-ja": "1",
                                    "Szoba száma": "4",
                                    "Átlag vendégek száma": "1"
                                },
                                {
                                    "Szállás ID-ja": "1",
                                    "Szoba száma": "5",
                                    "Átlag vendégek száma": "1"
                                },
                                {
                                    "Szállás ID-ja": "1",
                                    "Szoba száma": "6",
                                    "Átlag vendégek száma": "2"
                                },
                                {
                                    "Szállás ID-ja": "1",
                                    "Szoba száma": "7",
                                    "Átlag vendégek száma": "1"
                                },
                                {
                                    "Szállás ID-ja": "1",
                                    "Szoba száma": "8",
                                    "Átlag vendégek száma": "2"
                                },
                                {
                                    "Szállás ID-ja": "1",
                                    "Szoba száma": "9",
                                    "Átlag vendégek száma": "3"
                                },
                                {
                                    "Szállás ID-ja": "2",
                                    "Szoba száma": "1",
                                    "Átlag vendégek száma": "2"
                                },
                                {
                                    "Szállás ID-ja": "2",
                                    "Szoba száma": "2",
                                    "Átlag vendégek száma": "3"
                                },
                                {
                                    "Szállás ID-ja": "2",
                                    "Szoba száma": "3",
                                    "Átlag vendégek száma": "2"
                                },
                                {
                                    "Szállás ID-ja": "2",
                                    "Szoba száma": "4",
                                    "Átlag vendégek száma": "3"
                                },
                                {
                                    "Szállás ID-ja": "3",
                                    "Szoba száma": "1",
                                    "Átlag vendégek száma": "2"
                                },
                                {
                                    "Szállás ID-ja": "3",
                                    "Szoba száma": "2",
                                    "Átlag vendégek száma": "3"
                                },
                                {
                                    "Szállás ID-ja": "3",
                                    "Szoba száma": "3",
                                    "Átlag vendégek száma": "2"
                                },
                                {
                                    "Szállás ID-ja": "3",
                                    "Szoba száma": "4",
                                    "Átlag vendégek száma": "2"
                                },
                                {
                                    "Szállás ID-ja": "3",
                                    "Szoba száma": "5",
                                    "Átlag vendégek száma": "2"
                                },
                                {
                                    "Szállás ID-ja": "3",
                                    "Szoba száma": "6",
                                    "Átlag vendégek száma": "3"
                                },
                                {
                                    "Szállás ID-ja": "3",
                                    "Szoba száma": "7",
                                    "Átlag vendégek száma": "1"
                                },
                                {
                                    "Szállás ID-ja": "3",
                                    "Szoba száma": "8",
                                    "Átlag vendégek száma": "3"
                                },
                                {
                                    "Szállás ID-ja": "4",
                                    "Szoba száma": "1",
                                    "Átlag vendégek száma": "3"
                                },
                                {
                                    "Szállás ID-ja": "4",
                                    "Szoba száma": "10",
                                    "Átlag vendégek száma": "2"
                                },
                                {
                                    "Szállás ID-ja": "4",
                                    "Szoba száma": "11",
                                    "Átlag vendégek száma": "1"
                                },
                                {
                                    "Szállás ID-ja": "4",
                                    "Szoba száma": "12",
                                    "Átlag vendégek száma": "3"
                                },
                                {
                                    "Szállás ID-ja": "4",
                                    "Szoba száma": "13",
                                    "Átlag vendégek száma": "1"
                                },
                                {
                                    "Szállás ID-ja": "4",
                                    "Szoba száma": "14",
                                    "Átlag vendégek száma": "2"
                                },
                                {
                                    "Szállás ID-ja": "4",
                                    "Szoba száma": "15",
                                    "Átlag vendégek száma": "2"
                                },
                                {
                                    "Szállás ID-ja": "4",
                                    "Szoba száma": "2",
                                    "Átlag vendégek száma": "2"
                                },
                                {
                                    "Szállás ID-ja": "4",
                                    "Szoba száma": "3",
                                    "Átlag vendégek száma": "3"
                                },
                                {
                                    "Szállás ID-ja": "4",
                                    "Szoba száma": "4",
                                    "Átlag vendégek száma": "2"
                                },
                                {
                                    "Szállás ID-ja": "4",
                                    "Szoba száma": "5",
                                    "Átlag vendégek száma": "1"
                                },
                                {
                                    "Szállás ID-ja": "4",
                                    "Szoba száma": "6",
                                    "Átlag vendégek száma": "2"
                                },
                                {
                                    "Szállás ID-ja": "4",
                                    "Szoba száma": "7",
                                    "Átlag vendégek száma": "4"
                                },
                                {
                                    "Szállás ID-ja": "4",
                                    "Szoba száma": "8",
                                    "Átlag vendégek száma": "2"
                                },
                                {
                                    "Szállás ID-ja": "4",
                                    "Szoba száma": "9",
                                    "Átlag vendégek száma": "2"
                                },
                                {
                                    "Szállás ID-ja": "5",
                                    "Szoba száma": "1",
                                    "Átlag vendégek száma": "2"
                                },
                                {
                                    "Szállás ID-ja": "5",
                                    "Szoba száma": "10",
                                    "Átlag vendégek száma": "2"
                                },
                                {
                                    "Szállás ID-ja": "5",
                                    "Szoba száma": "2",
                                    "Átlag vendégek száma": "3"
                                },
                                {
                                    "Szállás ID-ja": "5",
                                    "Szoba száma": "3",
                                    "Átlag vendégek száma": "2"
                                },
                                {
                                    "Szállás ID-ja": "5",
                                    "Szoba száma": "4",
                                    "Átlag vendégek száma": "2"
                                },
                                {
                                    "Szállás ID-ja": "5",
                                    "Szoba száma": "5",
                                    "Átlag vendégek száma": "3"
                                },
                                {
                                    "Szállás ID-ja": "5",
                                    "Szoba száma": "6",
                                    "Átlag vendégek száma": "1"
                                },
                                {
                                    "Szállás ID-ja": "5",
                                    "Szoba száma": "7",
                                    "Átlag vendégek száma": "2"
                                },
                                {
                                    "Szállás ID-ja": "5",
                                    "Szoba száma": "8",
                                    "Átlag vendégek száma": "1"
                                },
                                {
                                    "Szállás ID-ja": "5",
                                    "Szoba száma": "9",
                                    "Átlag vendégek száma": "2"
                                },
                                {
                                    "Szállás ID-ja": "6",
                                    "Szoba száma": "1",
                                    "Átlag vendégek száma": "1"
                                },
                                {
                                    "Szállás ID-ja": "6",
                                    "Szoba száma": "10",
                                    "Átlag vendégek száma": "2"
                                },
                                {
                                    "Szállás ID-ja": "6",
                                    "Szoba száma": "11",
                                    "Átlag vendégek száma": "2"
                                },
                                {
                                    "Szállás ID-ja": "6",
                                    "Szoba száma": "12",
                                    "Átlag vendégek száma": "2"
                                },
                                {
                                    "Szállás ID-ja": "6",
                                    "Szoba száma": "13",
                                    "Átlag vendégek száma": "1"
                                },
                                {
                                    "Szállás ID-ja": "6",
                                    "Szoba száma": "14",
                                    "Átlag vendégek száma": "1"
                                },
                                {
                                    "Szállás ID-ja": "6",
                                    "Szoba száma": "15",
                                    "Átlag vendégek száma": "2"
                                },
                                {
                                    "Szállás ID-ja": "6",
                                    "Szoba száma": "16",
                                    "Átlag vendégek száma": "2"
                                },
                                {
                                    "Szállás ID-ja": "6",
                                    "Szoba száma": "17",
                                    "Átlag vendégek száma": "3"
                                },
                                {
                                    "Szállás ID-ja": "6",
                                    "Szoba száma": "18",
                                    "Átlag vendégek száma": "3"
                                },
                                {
                                    "Szállás ID-ja": "6",
                                    "Szoba száma": "19",
                                    "Átlag vendégek száma": "4"
                                },
                                {
                                    "Szállás ID-ja": "6",
                                    "Szoba száma": "2",
                                    "Átlag vendégek száma": "2"
                                },
                                {
                                    "Szállás ID-ja": "6",
                                    "Szoba száma": "20",
                                    "Átlag vendégek száma": "2"
                                },
                                {
                                    "Szállás ID-ja": "6",
                                    "Szoba száma": "21",
                                    "Átlag vendégek száma": "2"
                                },
                                {
                                    "Szállás ID-ja": "6",
                                    "Szoba száma": "22",
                                    "Átlag vendégek száma": "2"
                                },
                                {
                                    "Szállás ID-ja": "6",
                                    "Szoba száma": "23",
                                    "Átlag vendégek száma": "1"
                                },
                                {
                                    "Szállás ID-ja": "6",
                                    "Szoba száma": "24",
                                    "Átlag vendégek száma": "2"
                                },
                                {
                                    "Szállás ID-ja": "6",
                                    "Szoba száma": "25",
                                    "Átlag vendégek száma": "3"
                                },
                                {
                                    "Szállás ID-ja": "6",
                                    "Szoba száma": "26",
                                    "Átlag vendégek száma": "2"
                                },
                                {
                                    "Szállás ID-ja": "6",
                                    "Szoba száma": "27",
                                    "Átlag vendégek száma": "1"
                                },
                                {
                                    "Szállás ID-ja": "6",
                                    "Szoba száma": "28",
                                    "Átlag vendégek száma": "2"
                                },
                                {
                                    "Szállás ID-ja": "6",
                                    "Szoba száma": "29",
                                    "Átlag vendégek száma": "2"
                                },
                                {
                                    "Szállás ID-ja": "6",
                                    "Szoba száma": "3",
                                    "Átlag vendégek száma": "1"
                                },
                                {
                                    "Szállás ID-ja": "6",
                                    "Szoba száma": "30",
                                    "Átlag vendégek száma": "2"
                                },
                                {
                                    "Szállás ID-ja": "6",
                                    "Szoba száma": "31",
                                    "Átlag vendégek száma": "2"
                                },
                                {
                                    "Szállás ID-ja": "6",
                                    "Szoba száma": "32",
                                    "Átlag vendégek száma": "1"
                                },
                                {
                                    "Szállás ID-ja": "6",
                                    "Szoba száma": "33",
                                    "Átlag vendégek száma": "2"
                                },
                                {
                                    "Szállás ID-ja": "6",
                                    "Szoba száma": "34",
                                    "Átlag vendégek száma": "2"
                                },
                                {
                                    "Szállás ID-ja": "6",
                                    "Szoba száma": "35",
                                    "Átlag vendégek száma": "1"
                                },
                                {
                                    "Szállás ID-ja": "6",
                                    "Szoba száma": "4",
                                    "Átlag vendégek száma": "2"
                                },
                                {
                                    "Szállás ID-ja": "6",
                                    "Szoba száma": "5",
                                    "Átlag vendégek száma": "2"
                                },
                                {
                                    "Szállás ID-ja": "6",
                                    "Szoba száma": "6",
                                    "Átlag vendégek száma": "3"
                                },
                                {
                                    "Szállás ID-ja": "6",
                                    "Szoba száma": "7",
                                    "Átlag vendégek száma": "1"
                                },
                                {
                                    "Szállás ID-ja": "6",
                                    "Szoba száma": "8",
                                    "Átlag vendégek száma": "1"
                                },
                                {
                                    "Szállás ID-ja": "6",
                                    "Szoba száma": "9",
                                    "Átlag vendégek száma": "2"
                                },
                                {
                                    "Szállás ID-ja": "7",
                                    "Szoba száma": "1",
                                    "Átlag vendégek száma": "2"
                                },
                                {
                                    "Szállás ID-ja": "7",
                                    "Szoba száma": "2",
                                    "Átlag vendégek száma": "2"
                                },
                                {
                                    "Szállás ID-ja": "7",
                                    "Szoba száma": "3",
                                    "Átlag vendégek száma": "2"
                                },
                                {
                                    "Szállás ID-ja": "7",
                                    "Szoba száma": "4",
                                    "Átlag vendégek száma": "2"
                                },
                                {
                                    "Szállás ID-ja": "7",
                                    "Szoba száma": "5",
                                    "Átlag vendégek száma": "2"
                                },
                                {
                                    "Szállás ID-ja": "7",
                                    "Szoba száma": "6",
                                    "Átlag vendégek száma": "2"
                                },
                                {
                                    "Szállás ID-ja": "8",
                                    "Szoba száma": "1",
                                    "Átlag vendégek száma": "1"
                                },
                                {
                                    "Szállás ID-ja": "8",
                                    "Szoba száma": "10",
                                    "Átlag vendégek száma": "2"
                                },
                                {
                                    "Szállás ID-ja": "8",
                                    "Szoba száma": "11",
                                    "Átlag vendégek száma": "2"
                                },
                                {
                                    "Szállás ID-ja": "8",
                                    "Szoba száma": "12",
                                    "Átlag vendégek száma": "1"
                                },
                                {
                                    "Szállás ID-ja": "8",
                                    "Szoba száma": "13",
                                    "Átlag vendégek száma": "2"
                                },
                                {
                                    "Szállás ID-ja": "8",
                                    "Szoba száma": "14",
                                    "Átlag vendégek száma": "2"
                                },
                                {
                                    "Szállás ID-ja": "8",
                                    "Szoba száma": "15",
                                    "Átlag vendégek száma": "2"
                                },
                                {
                                    "Szállás ID-ja": "8",
                                    "Szoba száma": "16",
                                    "Átlag vendégek száma": "1"
                                },
                                {
                                    "Szállás ID-ja": "8",
                                    "Szoba száma": "17",
                                    "Átlag vendégek száma": "2"
                                },
                                {
                                    "Szállás ID-ja": "8",
                                    "Szoba száma": "18",
                                    "Átlag vendégek száma": "1"
                                },
                                {
                                    "Szállás ID-ja": "8",
                                    "Szoba száma": "19",
                                    "Átlag vendégek száma": "2"
                                },
                                {
                                    "Szállás ID-ja": "8",
                                    "Szoba száma": "2",
                                    "Átlag vendégek száma": "3"
                                },
                                {
                                    "Szállás ID-ja": "8",
                                    "Szoba száma": "20",
                                    "Átlag vendégek száma": "1"
                                },
                                {
                                    "Szállás ID-ja": "8",
                                    "Szoba száma": "21",
                                    "Átlag vendégek száma": "2"
                                },
                                {
                                    "Szállás ID-ja": "8",
                                    "Szoba száma": "22",
                                    "Átlag vendégek száma": "3"
                                },
                                {
                                    "Szállás ID-ja": "8",
                                    "Szoba száma": "23",
                                    "Átlag vendégek száma": "4"
                                },
                                {
                                    "Szállás ID-ja": "8",
                                    "Szoba száma": "24",
                                    "Átlag vendégek száma": "2"
                                },
                                {
                                    "Szállás ID-ja": "8",
                                    "Szoba száma": "25",
                                    "Átlag vendégek száma": "2"
                                },
                                {
                                    "Szállás ID-ja": "8",
                                    "Szoba száma": "26",
                                    "Átlag vendégek száma": "2"
                                },
                                {
                                    "Szállás ID-ja": "8",
                                    "Szoba száma": "27",
                                    "Átlag vendégek száma": "3"
                                },
                                {
                                    "Szállás ID-ja": "8",
                                    "Szoba száma": "28",
                                    "Átlag vendégek száma": "2"
                                },
                                {
                                    "Szállás ID-ja": "8",
                                    "Szoba száma": "29",
                                    "Átlag vendégek száma": "1"
                                },
                                {
                                    "Szállás ID-ja": "8",
                                    "Szoba száma": "3",
                                    "Átlag vendégek száma": "3"
                                },
                                {
                                    "Szállás ID-ja": "8",
                                    "Szoba száma": "30",
                                    "Átlag vendégek száma": "2"
                                },
                                {
                                    "Szállás ID-ja": "8",
                                    "Szoba száma": "31",
                                    "Átlag vendégek száma": "2"
                                },
                                {
                                    "Szállás ID-ja": "8",
                                    "Szoba száma": "32",
                                    "Átlag vendégek száma": "3"
                                },
                                {
                                    "Szállás ID-ja": "8",
                                    "Szoba száma": "33",
                                    "Átlag vendégek száma": "2"
                                },
                                {
                                    "Szállás ID-ja": "8",
                                    "Szoba száma": "34",
                                    "Átlag vendégek száma": "2"
                                },
                                {
                                    "Szállás ID-ja": "8",
                                    "Szoba száma": "35",
                                    "Átlag vendégek száma": "3"
                                },
                                {
                                    "Szállás ID-ja": "8",
                                    "Szoba száma": "36",
                                    "Átlag vendégek száma": "1"
                                },
                                {
                                    "Szállás ID-ja": "8",
                                    "Szoba száma": "37",
                                    "Átlag vendégek száma": "2"
                                },
                                {
                                    "Szállás ID-ja": "8",
                                    "Szoba száma": "38",
                                    "Átlag vendégek száma": "2"
                                },
                                {
                                    "Szállás ID-ja": "8",
                                    "Szoba száma": "39",
                                    "Átlag vendégek száma": "2"
                                },
                                {
                                    "Szállás ID-ja": "8",
                                    "Szoba száma": "4",
                                    "Átlag vendégek száma": "1"
                                },
                                {
                                    "Szállás ID-ja": "8",
                                    "Szoba száma": "5",
                                    "Átlag vendégek száma": "1"
                                },
                                {
                                    "Szállás ID-ja": "8",
                                    "Szoba száma": "6",
                                    "Átlag vendégek száma": "2"
                                },
                                {
                                    "Szállás ID-ja": "8",
                                    "Szoba száma": "7",
                                    "Átlag vendégek száma": "2"
                                },
                                {
                                    "Szállás ID-ja": "8",
                                    "Szoba száma": "8",
                                    "Átlag vendégek száma": "1"
                                },
                                {
                                    "Szállás ID-ja": "8",
                                    "Szoba száma": "9",
                                    "Átlag vendégek száma": "2"
                                },
                                {
                                    "Szállás ID-ja": "9",
                                    "Szoba száma": "1",
                                    "Átlag vendégek száma": "1"
                                },
                                {
                                    "Szállás ID-ja": "9",
                                    "Szoba száma": "2",
                                    "Átlag vendégek száma": "1"
                                },
                                {
                                    "Szállás ID-ja": "9",
                                    "Szoba száma": "3",
                                    "Átlag vendégek száma": "2"
                                },
                                {
                                    "Szállás ID-ja": "9",
                                    "Szoba száma": "4",
                                    "Átlag vendégek száma": "2"
                                },
                                {
                                    "Szállás ID-ja": "9",
                                    "Szoba száma": "5",
                                    "Átlag vendégek száma": "2"
                                },
                                {
                                    "Szállás ID-ja": "10",
                                    "Szoba száma": "1",
                                    "Átlag vendégek száma": "2"
                                },
                                {
                                    "Szállás ID-ja": "10",
                                    "Szoba száma": "10",
                                    "Átlag vendégek száma": "3"
                                },
                                {
                                    "Szállás ID-ja": "10",
                                    "Szoba száma": "11",
                                    "Átlag vendégek száma": "2"
                                },
                                {
                                    "Szállás ID-ja": "10",
                                    "Szoba száma": "12",
                                    "Átlag vendégek száma": "2"
                                },
                                {
                                    "Szállás ID-ja": "10",
                                    "Szoba száma": "13",
                                    "Átlag vendégek száma": "2"
                                },
                                {
                                    "Szállás ID-ja": "10",
                                    "Szoba száma": "14",
                                    "Átlag vendégek száma": "1"
                                },
                                {
                                    "Szállás ID-ja": "10",
                                    "Szoba száma": "15",
                                    "Átlag vendégek száma": "1"
                                },
                                {
                                    "Szállás ID-ja": "10",
                                    "Szoba száma": "16",
                                    "Átlag vendégek száma": "2"
                                },
                                {
                                    "Szállás ID-ja": "10",
                                    "Szoba száma": "17",
                                    "Átlag vendégek száma": "1"
                                },
                                {
                                    "Szállás ID-ja": "10",
                                    "Szoba száma": "18",
                                    "Átlag vendégek száma": "2"
                                },
                                {
                                    "Szállás ID-ja": "10",
                                    "Szoba száma": "19",
                                    "Átlag vendégek száma": "2"
                                },
                                {
                                    "Szállás ID-ja": "10",
                                    "Szoba száma": "2",
                                    "Átlag vendégek száma": "1"
                                },
                                {
                                    "Szállás ID-ja": "10",
                                    "Szoba száma": "20",
                                    "Átlag vendégek száma": "2"
                                },
                                {
                                    "Szállás ID-ja": "10",
                                    "Szoba száma": "21",
                                    "Átlag vendégek száma": "2"
                                },
                                {
                                    "Szállás ID-ja": "10",
                                    "Szoba száma": "22",
                                    "Átlag vendégek száma": "3"
                                },
                                {
                                    "Szállás ID-ja": "10",
                                    "Szoba száma": "23",
                                    "Átlag vendégek száma": "1"
                                },
                                {
                                    "Szállás ID-ja": "10",
                                    "Szoba száma": "24",
                                    "Átlag vendégek száma": "3"
                                },
                                {
                                    "Szállás ID-ja": "10",
                                    "Szoba száma": "3",
                                    "Átlag vendégek száma": "2"
                                },
                                {
                                    "Szállás ID-ja": "10",
                                    "Szoba száma": "4",
                                    "Átlag vendégek száma": "2"
                                },
                                {
                                    "Szállás ID-ja": "10",
                                    "Szoba száma": "5",
                                    "Átlag vendégek száma": "2"
                                },
                                {
                                    "Szállás ID-ja": "10",
                                    "Szoba száma": "6",
                                    "Átlag vendégek száma": "2"
                                },
                                {
                                    "Szállás ID-ja": "10",
                                    "Szoba száma": "7",
                                    "Átlag vendégek száma": "2"
                                },
                                {
                                    "Szállás ID-ja": "10",
                                    "Szoba száma": "8",
                                    "Átlag vendégek száma": "2"
                                },
                                {
                                    "Szállás ID-ja": "10",
                                    "Szoba száma": "9",
                                    "Átlag vendégek száma": "3"
                                },
                                {
                                    "Szállás ID-ja": "11",
                                    "Szoba száma": "1",
                                    "Átlag vendégek száma": "3"
                                },
                                {
                                    "Szállás ID-ja": "11",
                                    "Szoba száma": "2",
                                    "Átlag vendégek száma": "2"
                                },
                                {
                                    "Szállás ID-ja": "11",
                                    "Szoba száma": "3",
                                    "Átlag vendégek száma": "2"
                                },
                                {
                                    "Szállás ID-ja": "11",
                                    "Szoba száma": "4",
                                    "Átlag vendégek száma": "1"
                                },
                                {
                                    "Szállás ID-ja": "11",
                                    "Szoba száma": "5",
                                    "Átlag vendégek száma": "2"
                                },
                                {
                                    "Szállás ID-ja": "12",
                                    "Szoba száma": "1",
                                    "Átlag vendégek száma": "1"
                                },
                                {
                                    "Szállás ID-ja": "12",
                                    "Szoba száma": "10",
                                    "Átlag vendégek száma": "1"
                                },
                                {
                                    "Szállás ID-ja": "12",
                                    "Szoba száma": "11",
                                    "Átlag vendégek száma": "1"
                                },
                                {
                                    "Szállás ID-ja": "12",
                                    "Szoba száma": "12",
                                    "Átlag vendégek száma": "3"
                                },
                                {
                                    "Szállás ID-ja": "12",
                                    "Szoba száma": "13",
                                    "Átlag vendégek száma": "3"
                                },
                                {
                                    "Szállás ID-ja": "12",
                                    "Szoba száma": "14",
                                    "Átlag vendégek száma": "3"
                                },
                                {
                                    "Szállás ID-ja": "12",
                                    "Szoba száma": "15",
                                    "Átlag vendégek száma": "3"
                                },
                                {
                                    "Szállás ID-ja": "12",
                                    "Szoba száma": "16",
                                    "Átlag vendégek száma": "3"
                                },
                                {
                                    "Szállás ID-ja": "12",
                                    "Szoba száma": "17",
                                    "Átlag vendégek száma": "3"
                                },
                                {
                                    "Szállás ID-ja": "12",
                                    "Szoba száma": "18",
                                    "Átlag vendégek száma": "1"
                                },
                                {
                                    "Szállás ID-ja": "12",
                                    "Szoba száma": "19",
                                    "Átlag vendégek száma": "2"
                                },
                                {
                                    "Szállás ID-ja": "12",
                                    "Szoba száma": "2",
                                    "Átlag vendégek száma": "2"
                                },
                                {
                                    "Szállás ID-ja": "12",
                                    "Szoba száma": "20",
                                    "Átlag vendégek száma": "1"
                                },
                                {
                                    "Szállás ID-ja": "12",
                                    "Szoba száma": "21",
                                    "Átlag vendégek száma": "3"
                                },
                                {
                                    "Szállás ID-ja": "12",
                                    "Szoba száma": "22",
                                    "Átlag vendégek száma": "3"
                                },
                                {
                                    "Szállás ID-ja": "12",
                                    "Szoba száma": "23",
                                    "Átlag vendégek száma": "2"
                                },
                                {
                                    "Szállás ID-ja": "12",
                                    "Szoba száma": "24",
                                    "Átlag vendégek száma": "2"
                                },
                                {
                                    "Szállás ID-ja": "12",
                                    "Szoba száma": "25",
                                    "Átlag vendégek száma": "2"
                                },
                                {
                                    "Szállás ID-ja": "12",
                                    "Szoba száma": "26",
                                    "Átlag vendégek száma": "1"
                                },
                                {
                                    "Szállás ID-ja": "12",
                                    "Szoba száma": "27",
                                    "Átlag vendégek száma": "2"
                                },
                                {
                                    "Szállás ID-ja": "12",
                                    "Szoba száma": "28",
                                    "Átlag vendégek száma": "2"
                                },
                                {
                                    "Szállás ID-ja": "12",
                                    "Szoba száma": "29",
                                    "Átlag vendégek száma": "4"
                                },
                                {
                                    "Szállás ID-ja": "12",
                                    "Szoba száma": "3",
                                    "Átlag vendégek száma": "2"
                                },
                                {
                                    "Szállás ID-ja": "12",
                                    "Szoba száma": "30",
                                    "Átlag vendégek száma": "3"
                                },
                                {
                                    "Szállás ID-ja": "12",
                                    "Szoba száma": "31",
                                    "Átlag vendégek száma": "1"
                                },
                                {
                                    "Szállás ID-ja": "12",
                                    "Szoba száma": "32",
                                    "Átlag vendégek száma": "2"
                                },
                                {
                                    "Szállás ID-ja": "12",
                                    "Szoba száma": "33",
                                    "Átlag vendégek száma": "2"
                                },
                                {
                                    "Szállás ID-ja": "12",
                                    "Szoba száma": "34",
                                    "Átlag vendégek száma": "2"
                                },
                                {
                                    "Szállás ID-ja": "12",
                                    "Szoba száma": "4",
                                    "Átlag vendégek száma": "3"
                                },
                                {
                                    "Szállás ID-ja": "12",
                                    "Szoba száma": "5",
                                    "Átlag vendégek száma": "2"
                                },
                                {
                                    "Szállás ID-ja": "12",
                                    "Szoba száma": "6",
                                    "Átlag vendégek száma": "1"
                                },
                                {
                                    "Szállás ID-ja": "12",
                                    "Szoba száma": "7",
                                    "Átlag vendégek száma": "1"
                                },
                                {
                                    "Szállás ID-ja": "12",
                                    "Szoba száma": "8",
                                    "Átlag vendégek száma": "1"
                                },
                                {
                                    "Szállás ID-ja": "12",
                                    "Szoba száma": "9",
                                    "Átlag vendégek száma": "1"
                                }
                            ]
                        },
                        "text/html": [
                            "<table>",
                            "<tr><th>Szállás ID-ja</th><th>Szoba száma</th><th>Átlag vendégek száma</th></tr>",
                            "<tr><td>1</td><td>1</td><td>2</td></tr>",
                            "<tr><td>1</td><td>10</td><td>2</td></tr>",
                            "<tr><td>1</td><td>11</td><td>2</td></tr>",
                            "<tr><td>1</td><td>12</td><td>2</td></tr>",
                            "<tr><td>1</td><td>2</td><td>3</td></tr>",
                            "<tr><td>1</td><td>3</td><td>2</td></tr>",
                            "<tr><td>1</td><td>4</td><td>1</td></tr>",
                            "<tr><td>1</td><td>5</td><td>1</td></tr>",
                            "<tr><td>1</td><td>6</td><td>2</td></tr>",
                            "<tr><td>1</td><td>7</td><td>1</td></tr>",
                            "<tr><td>1</td><td>8</td><td>2</td></tr>",
                            "<tr><td>1</td><td>9</td><td>3</td></tr>",
                            "<tr><td>2</td><td>1</td><td>2</td></tr>",
                            "<tr><td>2</td><td>2</td><td>3</td></tr>",
                            "<tr><td>2</td><td>3</td><td>2</td></tr>",
                            "<tr><td>2</td><td>4</td><td>3</td></tr>",
                            "<tr><td>3</td><td>1</td><td>2</td></tr>",
                            "<tr><td>3</td><td>2</td><td>3</td></tr>",
                            "<tr><td>3</td><td>3</td><td>2</td></tr>",
                            "<tr><td>3</td><td>4</td><td>2</td></tr>",
                            "<tr><td>3</td><td>5</td><td>2</td></tr>",
                            "<tr><td>3</td><td>6</td><td>3</td></tr>",
                            "<tr><td>3</td><td>7</td><td>1</td></tr>",
                            "<tr><td>3</td><td>8</td><td>3</td></tr>",
                            "<tr><td>4</td><td>1</td><td>3</td></tr>",
                            "<tr><td>4</td><td>10</td><td>2</td></tr>",
                            "<tr><td>4</td><td>11</td><td>1</td></tr>",
                            "<tr><td>4</td><td>12</td><td>3</td></tr>",
                            "<tr><td>4</td><td>13</td><td>1</td></tr>",
                            "<tr><td>4</td><td>14</td><td>2</td></tr>",
                            "<tr><td>4</td><td>15</td><td>2</td></tr>",
                            "<tr><td>4</td><td>2</td><td>2</td></tr>",
                            "<tr><td>4</td><td>3</td><td>3</td></tr>",
                            "<tr><td>4</td><td>4</td><td>2</td></tr>",
                            "<tr><td>4</td><td>5</td><td>1</td></tr>",
                            "<tr><td>4</td><td>6</td><td>2</td></tr>",
                            "<tr><td>4</td><td>7</td><td>4</td></tr>",
                            "<tr><td>4</td><td>8</td><td>2</td></tr>",
                            "<tr><td>4</td><td>9</td><td>2</td></tr>",
                            "<tr><td>5</td><td>1</td><td>2</td></tr>",
                            "<tr><td>5</td><td>10</td><td>2</td></tr>",
                            "<tr><td>5</td><td>2</td><td>3</td></tr>",
                            "<tr><td>5</td><td>3</td><td>2</td></tr>",
                            "<tr><td>5</td><td>4</td><td>2</td></tr>",
                            "<tr><td>5</td><td>5</td><td>3</td></tr>",
                            "<tr><td>5</td><td>6</td><td>1</td></tr>",
                            "<tr><td>5</td><td>7</td><td>2</td></tr>",
                            "<tr><td>5</td><td>8</td><td>1</td></tr>",
                            "<tr><td>5</td><td>9</td><td>2</td></tr>",
                            "<tr><td>6</td><td>1</td><td>1</td></tr>",
                            "<tr><td>6</td><td>10</td><td>2</td></tr>",
                            "<tr><td>6</td><td>11</td><td>2</td></tr>",
                            "<tr><td>6</td><td>12</td><td>2</td></tr>",
                            "<tr><td>6</td><td>13</td><td>1</td></tr>",
                            "<tr><td>6</td><td>14</td><td>1</td></tr>",
                            "<tr><td>6</td><td>15</td><td>2</td></tr>",
                            "<tr><td>6</td><td>16</td><td>2</td></tr>",
                            "<tr><td>6</td><td>17</td><td>3</td></tr>",
                            "<tr><td>6</td><td>18</td><td>3</td></tr>",
                            "<tr><td>6</td><td>19</td><td>4</td></tr>",
                            "<tr><td>6</td><td>2</td><td>2</td></tr>",
                            "<tr><td>6</td><td>20</td><td>2</td></tr>",
                            "<tr><td>6</td><td>21</td><td>2</td></tr>",
                            "<tr><td>6</td><td>22</td><td>2</td></tr>",
                            "<tr><td>6</td><td>23</td><td>1</td></tr>",
                            "<tr><td>6</td><td>24</td><td>2</td></tr>",
                            "<tr><td>6</td><td>25</td><td>3</td></tr>",
                            "<tr><td>6</td><td>26</td><td>2</td></tr>",
                            "<tr><td>6</td><td>27</td><td>1</td></tr>",
                            "<tr><td>6</td><td>28</td><td>2</td></tr>",
                            "<tr><td>6</td><td>29</td><td>2</td></tr>",
                            "<tr><td>6</td><td>3</td><td>1</td></tr>",
                            "<tr><td>6</td><td>30</td><td>2</td></tr>",
                            "<tr><td>6</td><td>31</td><td>2</td></tr>",
                            "<tr><td>6</td><td>32</td><td>1</td></tr>",
                            "<tr><td>6</td><td>33</td><td>2</td></tr>",
                            "<tr><td>6</td><td>34</td><td>2</td></tr>",
                            "<tr><td>6</td><td>35</td><td>1</td></tr>",
                            "<tr><td>6</td><td>4</td><td>2</td></tr>",
                            "<tr><td>6</td><td>5</td><td>2</td></tr>",
                            "<tr><td>6</td><td>6</td><td>3</td></tr>",
                            "<tr><td>6</td><td>7</td><td>1</td></tr>",
                            "<tr><td>6</td><td>8</td><td>1</td></tr>",
                            "<tr><td>6</td><td>9</td><td>2</td></tr>",
                            "<tr><td>7</td><td>1</td><td>2</td></tr>",
                            "<tr><td>7</td><td>2</td><td>2</td></tr>",
                            "<tr><td>7</td><td>3</td><td>2</td></tr>",
                            "<tr><td>7</td><td>4</td><td>2</td></tr>",
                            "<tr><td>7</td><td>5</td><td>2</td></tr>",
                            "<tr><td>7</td><td>6</td><td>2</td></tr>",
                            "<tr><td>8</td><td>1</td><td>1</td></tr>",
                            "<tr><td>8</td><td>10</td><td>2</td></tr>",
                            "<tr><td>8</td><td>11</td><td>2</td></tr>",
                            "<tr><td>8</td><td>12</td><td>1</td></tr>",
                            "<tr><td>8</td><td>13</td><td>2</td></tr>",
                            "<tr><td>8</td><td>14</td><td>2</td></tr>",
                            "<tr><td>8</td><td>15</td><td>2</td></tr>",
                            "<tr><td>8</td><td>16</td><td>1</td></tr>",
                            "<tr><td>8</td><td>17</td><td>2</td></tr>",
                            "<tr><td>8</td><td>18</td><td>1</td></tr>",
                            "<tr><td>8</td><td>19</td><td>2</td></tr>",
                            "<tr><td>8</td><td>2</td><td>3</td></tr>",
                            "<tr><td>8</td><td>20</td><td>1</td></tr>",
                            "<tr><td>8</td><td>21</td><td>2</td></tr>",
                            "<tr><td>8</td><td>22</td><td>3</td></tr>",
                            "<tr><td>8</td><td>23</td><td>4</td></tr>",
                            "<tr><td>8</td><td>24</td><td>2</td></tr>",
                            "<tr><td>8</td><td>25</td><td>2</td></tr>",
                            "<tr><td>8</td><td>26</td><td>2</td></tr>",
                            "<tr><td>8</td><td>27</td><td>3</td></tr>",
                            "<tr><td>8</td><td>28</td><td>2</td></tr>",
                            "<tr><td>8</td><td>29</td><td>1</td></tr>",
                            "<tr><td>8</td><td>3</td><td>3</td></tr>",
                            "<tr><td>8</td><td>30</td><td>2</td></tr>",
                            "<tr><td>8</td><td>31</td><td>2</td></tr>",
                            "<tr><td>8</td><td>32</td><td>3</td></tr>",
                            "<tr><td>8</td><td>33</td><td>2</td></tr>",
                            "<tr><td>8</td><td>34</td><td>2</td></tr>",
                            "<tr><td>8</td><td>35</td><td>3</td></tr>",
                            "<tr><td>8</td><td>36</td><td>1</td></tr>",
                            "<tr><td>8</td><td>37</td><td>2</td></tr>",
                            "<tr><td>8</td><td>38</td><td>2</td></tr>",
                            "<tr><td>8</td><td>39</td><td>2</td></tr>",
                            "<tr><td>8</td><td>4</td><td>1</td></tr>",
                            "<tr><td>8</td><td>5</td><td>1</td></tr>",
                            "<tr><td>8</td><td>6</td><td>2</td></tr>",
                            "<tr><td>8</td><td>7</td><td>2</td></tr>",
                            "<tr><td>8</td><td>8</td><td>1</td></tr>",
                            "<tr><td>8</td><td>9</td><td>2</td></tr>",
                            "<tr><td>9</td><td>1</td><td>1</td></tr>",
                            "<tr><td>9</td><td>2</td><td>1</td></tr>",
                            "<tr><td>9</td><td>3</td><td>2</td></tr>",
                            "<tr><td>9</td><td>4</td><td>2</td></tr>",
                            "<tr><td>9</td><td>5</td><td>2</td></tr>",
                            "<tr><td>10</td><td>1</td><td>2</td></tr>",
                            "<tr><td>10</td><td>10</td><td>3</td></tr>",
                            "<tr><td>10</td><td>11</td><td>2</td></tr>",
                            "<tr><td>10</td><td>12</td><td>2</td></tr>",
                            "<tr><td>10</td><td>13</td><td>2</td></tr>",
                            "<tr><td>10</td><td>14</td><td>1</td></tr>",
                            "<tr><td>10</td><td>15</td><td>1</td></tr>",
                            "<tr><td>10</td><td>16</td><td>2</td></tr>",
                            "<tr><td>10</td><td>17</td><td>1</td></tr>",
                            "<tr><td>10</td><td>18</td><td>2</td></tr>",
                            "<tr><td>10</td><td>19</td><td>2</td></tr>",
                            "<tr><td>10</td><td>2</td><td>1</td></tr>",
                            "<tr><td>10</td><td>20</td><td>2</td></tr>",
                            "<tr><td>10</td><td>21</td><td>2</td></tr>",
                            "<tr><td>10</td><td>22</td><td>3</td></tr>",
                            "<tr><td>10</td><td>23</td><td>1</td></tr>",
                            "<tr><td>10</td><td>24</td><td>3</td></tr>",
                            "<tr><td>10</td><td>3</td><td>2</td></tr>",
                            "<tr><td>10</td><td>4</td><td>2</td></tr>",
                            "<tr><td>10</td><td>5</td><td>2</td></tr>",
                            "<tr><td>10</td><td>6</td><td>2</td></tr>",
                            "<tr><td>10</td><td>7</td><td>2</td></tr>",
                            "<tr><td>10</td><td>8</td><td>2</td></tr>",
                            "<tr><td>10</td><td>9</td><td>3</td></tr>",
                            "<tr><td>11</td><td>1</td><td>3</td></tr>",
                            "<tr><td>11</td><td>2</td><td>2</td></tr>",
                            "<tr><td>11</td><td>3</td><td>2</td></tr>",
                            "<tr><td>11</td><td>4</td><td>1</td></tr>",
                            "<tr><td>11</td><td>5</td><td>2</td></tr>",
                            "<tr><td>12</td><td>1</td><td>1</td></tr>",
                            "<tr><td>12</td><td>10</td><td>1</td></tr>",
                            "<tr><td>12</td><td>11</td><td>1</td></tr>",
                            "<tr><td>12</td><td>12</td><td>3</td></tr>",
                            "<tr><td>12</td><td>13</td><td>3</td></tr>",
                            "<tr><td>12</td><td>14</td><td>3</td></tr>",
                            "<tr><td>12</td><td>15</td><td>3</td></tr>",
                            "<tr><td>12</td><td>16</td><td>3</td></tr>",
                            "<tr><td>12</td><td>17</td><td>3</td></tr>",
                            "<tr><td>12</td><td>18</td><td>1</td></tr>",
                            "<tr><td>12</td><td>19</td><td>2</td></tr>",
                            "<tr><td>12</td><td>2</td><td>2</td></tr>",
                            "<tr><td>12</td><td>20</td><td>1</td></tr>",
                            "<tr><td>12</td><td>21</td><td>3</td></tr>",
                            "<tr><td>12</td><td>22</td><td>3</td></tr>",
                            "<tr><td>12</td><td>23</td><td>2</td></tr>",
                            "<tr><td>12</td><td>24</td><td>2</td></tr>",
                            "<tr><td>12</td><td>25</td><td>2</td></tr>",
                            "<tr><td>12</td><td>26</td><td>1</td></tr>",
                            "<tr><td>12</td><td>27</td><td>2</td></tr>",
                            "<tr><td>12</td><td>28</td><td>2</td></tr>",
                            "<tr><td>12</td><td>29</td><td>4</td></tr>",
                            "<tr><td>12</td><td>3</td><td>2</td></tr>",
                            "<tr><td>12</td><td>30</td><td>3</td></tr>",
                            "<tr><td>12</td><td>31</td><td>1</td></tr>",
                            "<tr><td>12</td><td>32</td><td>2</td></tr>",
                            "<tr><td>12</td><td>33</td><td>2</td></tr>",
                            "<tr><td>12</td><td>34</td><td>2</td></tr>",
                            "<tr><td>12</td><td>4</td><td>3</td></tr>",
                            "<tr><td>12</td><td>5</td><td>2</td></tr>",
                            "<tr><td>12</td><td>6</td><td>1</td></tr>",
                            "<tr><td>12</td><td>7</td><td>1</td></tr>",
                            "<tr><td>12</td><td>8</td><td>1</td></tr>",
                            "<tr><td>12</td><td>9</td><td>1</td></tr>",
                            "</table>"
                        ]
                    }
                }
            ],
            "execution_count": 29
        },
        {
            "cell_type": "markdown",
            "source": [
                "## **4\\. Feladat**\n",
                "\n",
                "**Jelenítsük meg, hogy hány foglalás történt szobánként, naponta (METTOL), valamint szobánként, azon belül naponta** \n",
                "\n",
                "- Szempontonként külön-külön számoljuk a foglalásokat\n",
                "- A foglalások száma minden esetben legalább 2 legyen"
            ],
            "metadata": {
                "azdata_cell_guid": "39e17d06-385b-4c5c-9187-69ce8a8f6522"
            },
            "attachments": {}
        },
        {
            "cell_type": "code",
            "source": [
                "SELECT f.SZOBA_FK, f.METTOL, count(*) AS 'Foglalások száma'\r\n",
                "FROM Foglalas f\r\n",
                "GROUP BY CUBE(f.METTOL, f.SZOBA_FK)\r\n",
                "HAVING COUNT(*) >= 2"
            ],
            "metadata": {
                "azdata_cell_guid": "7b09c107-2c40-4fcc-a05e-7aada8018406",
                "language": "sql"
            },
            "outputs": [
                {
                    "output_type": "display_data",
                    "data": {
                        "text/html": "(424 rows affected)"
                    },
                    "metadata": {}
                },
                {
                    "output_type": "display_data",
                    "data": {
                        "text/html": "Total execution time: 00:00:00.030"
                    },
                    "metadata": {}
                },
                {
                    "output_type": "execute_result",
                    "metadata": {},
                    "execution_count": 8,
                    "data": {
                        "application/vnd.dataresource+json": {
                            "schema": {
                                "fields": [
                                    {
                                        "name": "SZOBA_FK"
                                    },
                                    {
                                        "name": "METTOL"
                                    },
                                    {
                                        "name": "Foglalások száma"
                                    }
                                ]
                            },
                            "data": [
                                {
                                    "SZOBA_FK": "1",
                                    "METTOL": "NULL",
                                    "Foglalások száma": "8"
                                },
                                {
                                    "SZOBA_FK": "2",
                                    "METTOL": "NULL",
                                    "Foglalások száma": "4"
                                },
                                {
                                    "SZOBA_FK": "3",
                                    "METTOL": "NULL",
                                    "Foglalások száma": "8"
                                },
                                {
                                    "SZOBA_FK": "4",
                                    "METTOL": "NULL",
                                    "Foglalások száma": "6"
                                },
                                {
                                    "SZOBA_FK": "5",
                                    "METTOL": "NULL",
                                    "Foglalások száma": "4"
                                },
                                {
                                    "SZOBA_FK": "6",
                                    "METTOL": "NULL",
                                    "Foglalások száma": "6"
                                },
                                {
                                    "SZOBA_FK": "7",
                                    "METTOL": "NULL",
                                    "Foglalások száma": "6"
                                },
                                {
                                    "SZOBA_FK": "8",
                                    "METTOL": "NULL",
                                    "Foglalások száma": "5"
                                },
                                {
                                    "SZOBA_FK": "9",
                                    "METTOL": "NULL",
                                    "Foglalások száma": "6"
                                },
                                {
                                    "SZOBA_FK": "10",
                                    "METTOL": "NULL",
                                    "Foglalások száma": "4"
                                },
                                {
                                    "SZOBA_FK": "11",
                                    "METTOL": "NULL",
                                    "Foglalások száma": "4"
                                },
                                {
                                    "SZOBA_FK": "12",
                                    "METTOL": "NULL",
                                    "Foglalások száma": "9"
                                },
                                {
                                    "SZOBA_FK": "13",
                                    "METTOL": "NULL",
                                    "Foglalások száma": "4"
                                },
                                {
                                    "SZOBA_FK": "14",
                                    "METTOL": "NULL",
                                    "Foglalások száma": "3"
                                },
                                {
                                    "SZOBA_FK": "15",
                                    "METTOL": "NULL",
                                    "Foglalások száma": "6"
                                },
                                {
                                    "SZOBA_FK": "16",
                                    "METTOL": "NULL",
                                    "Foglalások száma": "5"
                                },
                                {
                                    "SZOBA_FK": "17",
                                    "METTOL": "NULL",
                                    "Foglalások száma": "6"
                                },
                                {
                                    "SZOBA_FK": "18",
                                    "METTOL": "NULL",
                                    "Foglalások száma": "6"
                                },
                                {
                                    "SZOBA_FK": "19",
                                    "METTOL": "NULL",
                                    "Foglalások száma": "6"
                                },
                                {
                                    "SZOBA_FK": "20",
                                    "METTOL": "2016-10-01",
                                    "Foglalások száma": "2"
                                },
                                {
                                    "SZOBA_FK": "20",
                                    "METTOL": "NULL",
                                    "Foglalások száma": "5"
                                },
                                {
                                    "SZOBA_FK": "21",
                                    "METTOL": "NULL",
                                    "Foglalások száma": "4"
                                },
                                {
                                    "SZOBA_FK": "22",
                                    "METTOL": "NULL",
                                    "Foglalások száma": "6"
                                },
                                {
                                    "SZOBA_FK": "23",
                                    "METTOL": "NULL",
                                    "Foglalások száma": "3"
                                },
                                {
                                    "SZOBA_FK": "24",
                                    "METTOL": "NULL",
                                    "Foglalások száma": "3"
                                },
                                {
                                    "SZOBA_FK": "25",
                                    "METTOL": "NULL",
                                    "Foglalások száma": "2"
                                },
                                {
                                    "SZOBA_FK": "26",
                                    "METTOL": "NULL",
                                    "Foglalások száma": "2"
                                },
                                {
                                    "SZOBA_FK": "27",
                                    "METTOL": "NULL",
                                    "Foglalások száma": "7"
                                },
                                {
                                    "SZOBA_FK": "28",
                                    "METTOL": "NULL",
                                    "Foglalások száma": "6"
                                },
                                {
                                    "SZOBA_FK": "29",
                                    "METTOL": "NULL",
                                    "Foglalások száma": "6"
                                },
                                {
                                    "SZOBA_FK": "30",
                                    "METTOL": "NULL",
                                    "Foglalások száma": "3"
                                },
                                {
                                    "SZOBA_FK": "31",
                                    "METTOL": "NULL",
                                    "Foglalások száma": "3"
                                },
                                {
                                    "SZOBA_FK": "33",
                                    "METTOL": "NULL",
                                    "Foglalások száma": "6"
                                },
                                {
                                    "SZOBA_FK": "34",
                                    "METTOL": "NULL",
                                    "Foglalások száma": "4"
                                },
                                {
                                    "SZOBA_FK": "35",
                                    "METTOL": "NULL",
                                    "Foglalások száma": "9"
                                },
                                {
                                    "SZOBA_FK": "36",
                                    "METTOL": "NULL",
                                    "Foglalások száma": "6"
                                },
                                {
                                    "SZOBA_FK": "37",
                                    "METTOL": "NULL",
                                    "Foglalások száma": "3"
                                },
                                {
                                    "SZOBA_FK": "38",
                                    "METTOL": "NULL",
                                    "Foglalások száma": "8"
                                },
                                {
                                    "SZOBA_FK": "39",
                                    "METTOL": "NULL",
                                    "Foglalások száma": "7"
                                },
                                {
                                    "SZOBA_FK": "40",
                                    "METTOL": "2016-06-07",
                                    "Foglalások száma": "2"
                                },
                                {
                                    "SZOBA_FK": "40",
                                    "METTOL": "NULL",
                                    "Foglalások száma": "4"
                                },
                                {
                                    "SZOBA_FK": "41",
                                    "METTOL": "NULL",
                                    "Foglalások száma": "2"
                                },
                                {
                                    "SZOBA_FK": "42",
                                    "METTOL": "NULL",
                                    "Foglalások száma": "6"
                                },
                                {
                                    "SZOBA_FK": "43",
                                    "METTOL": "NULL",
                                    "Foglalások száma": "8"
                                },
                                {
                                    "SZOBA_FK": "44",
                                    "METTOL": "NULL",
                                    "Foglalások száma": "6"
                                },
                                {
                                    "SZOBA_FK": "45",
                                    "METTOL": "2016-08-20",
                                    "Foglalások száma": "2"
                                },
                                {
                                    "SZOBA_FK": "45",
                                    "METTOL": "NULL",
                                    "Foglalások száma": "5"
                                },
                                {
                                    "SZOBA_FK": "46",
                                    "METTOL": "NULL",
                                    "Foglalások száma": "4"
                                },
                                {
                                    "SZOBA_FK": "47",
                                    "METTOL": "NULL",
                                    "Foglalások száma": "2"
                                },
                                {
                                    "SZOBA_FK": "48",
                                    "METTOL": "NULL",
                                    "Foglalások száma": "9"
                                },
                                {
                                    "SZOBA_FK": "49",
                                    "METTOL": "NULL",
                                    "Foglalások száma": "7"
                                },
                                {
                                    "SZOBA_FK": "50",
                                    "METTOL": "NULL",
                                    "Foglalások száma": "4"
                                },
                                {
                                    "SZOBA_FK": "51",
                                    "METTOL": "NULL",
                                    "Foglalások száma": "5"
                                },
                                {
                                    "SZOBA_FK": "52",
                                    "METTOL": "NULL",
                                    "Foglalások száma": "5"
                                },
                                {
                                    "SZOBA_FK": "53",
                                    "METTOL": "NULL",
                                    "Foglalások száma": "2"
                                },
                                {
                                    "SZOBA_FK": "54",
                                    "METTOL": "NULL",
                                    "Foglalások száma": "6"
                                },
                                {
                                    "SZOBA_FK": "55",
                                    "METTOL": "NULL",
                                    "Foglalások száma": "8"
                                },
                                {
                                    "SZOBA_FK": "56",
                                    "METTOL": "NULL",
                                    "Foglalások száma": "2"
                                },
                                {
                                    "SZOBA_FK": "57",
                                    "METTOL": "NULL",
                                    "Foglalások száma": "4"
                                },
                                {
                                    "SZOBA_FK": "58",
                                    "METTOL": "NULL",
                                    "Foglalások száma": "13"
                                },
                                {
                                    "SZOBA_FK": "59",
                                    "METTOL": "NULL",
                                    "Foglalások száma": "7"
                                },
                                {
                                    "SZOBA_FK": "61",
                                    "METTOL": "NULL",
                                    "Foglalások száma": "5"
                                },
                                {
                                    "SZOBA_FK": "62",
                                    "METTOL": "NULL",
                                    "Foglalások száma": "5"
                                },
                                {
                                    "SZOBA_FK": "63",
                                    "METTOL": "NULL",
                                    "Foglalások száma": "4"
                                },
                                {
                                    "SZOBA_FK": "64",
                                    "METTOL": "NULL",
                                    "Foglalások száma": "6"
                                },
                                {
                                    "SZOBA_FK": "66",
                                    "METTOL": "NULL",
                                    "Foglalások száma": "4"
                                },
                                {
                                    "SZOBA_FK": "67",
                                    "METTOL": "NULL",
                                    "Foglalások száma": "6"
                                },
                                {
                                    "SZOBA_FK": "68",
                                    "METTOL": "NULL",
                                    "Foglalások száma": "3"
                                },
                                {
                                    "SZOBA_FK": "69",
                                    "METTOL": "NULL",
                                    "Foglalások száma": "4"
                                },
                                {
                                    "SZOBA_FK": "70",
                                    "METTOL": "NULL",
                                    "Foglalások száma": "11"
                                },
                                {
                                    "SZOBA_FK": "71",
                                    "METTOL": "NULL",
                                    "Foglalások száma": "3"
                                },
                                {
                                    "SZOBA_FK": "72",
                                    "METTOL": "NULL",
                                    "Foglalások száma": "4"
                                },
                                {
                                    "SZOBA_FK": "73",
                                    "METTOL": "NULL",
                                    "Foglalások száma": "4"
                                },
                                {
                                    "SZOBA_FK": "74",
                                    "METTOL": "NULL",
                                    "Foglalások száma": "9"
                                },
                                {
                                    "SZOBA_FK": "75",
                                    "METTOL": "NULL",
                                    "Foglalások száma": "3"
                                },
                                {
                                    "SZOBA_FK": "76",
                                    "METTOL": "NULL",
                                    "Foglalások száma": "3"
                                },
                                {
                                    "SZOBA_FK": "77",
                                    "METTOL": "NULL",
                                    "Foglalások száma": "6"
                                },
                                {
                                    "SZOBA_FK": "78",
                                    "METTOL": "NULL",
                                    "Foglalások száma": "6"
                                },
                                {
                                    "SZOBA_FK": "79",
                                    "METTOL": "NULL",
                                    "Foglalások száma": "5"
                                },
                                {
                                    "SZOBA_FK": "80",
                                    "METTOL": "NULL",
                                    "Foglalások száma": "7"
                                },
                                {
                                    "SZOBA_FK": "81",
                                    "METTOL": "NULL",
                                    "Foglalások száma": "5"
                                },
                                {
                                    "SZOBA_FK": "82",
                                    "METTOL": "NULL",
                                    "Foglalások száma": "6"
                                },
                                {
                                    "SZOBA_FK": "83",
                                    "METTOL": "NULL",
                                    "Foglalások száma": "8"
                                },
                                {
                                    "SZOBA_FK": "84",
                                    "METTOL": "NULL",
                                    "Foglalások száma": "4"
                                },
                                {
                                    "SZOBA_FK": "85",
                                    "METTOL": "NULL",
                                    "Foglalások száma": "4"
                                },
                                {
                                    "SZOBA_FK": "86",
                                    "METTOL": "NULL",
                                    "Foglalások száma": "5"
                                },
                                {
                                    "SZOBA_FK": "87",
                                    "METTOL": "NULL",
                                    "Foglalások száma": "5"
                                },
                                {
                                    "SZOBA_FK": "88",
                                    "METTOL": "NULL",
                                    "Foglalások száma": "8"
                                },
                                {
                                    "SZOBA_FK": "89",
                                    "METTOL": "NULL",
                                    "Foglalások száma": "8"
                                },
                                {
                                    "SZOBA_FK": "90",
                                    "METTOL": "NULL",
                                    "Foglalások száma": "4"
                                },
                                {
                                    "SZOBA_FK": "91",
                                    "METTOL": "NULL",
                                    "Foglalások száma": "4"
                                },
                                {
                                    "SZOBA_FK": "92",
                                    "METTOL": "NULL",
                                    "Foglalások száma": "6"
                                },
                                {
                                    "SZOBA_FK": "93",
                                    "METTOL": "NULL",
                                    "Foglalások száma": "5"
                                },
                                {
                                    "SZOBA_FK": "94",
                                    "METTOL": "NULL",
                                    "Foglalások száma": "10"
                                },
                                {
                                    "SZOBA_FK": "95",
                                    "METTOL": "NULL",
                                    "Foglalások száma": "4"
                                },
                                {
                                    "SZOBA_FK": "96",
                                    "METTOL": "NULL",
                                    "Foglalások száma": "7"
                                },
                                {
                                    "SZOBA_FK": "97",
                                    "METTOL": "2016-07-27",
                                    "Foglalások száma": "2"
                                },
                                {
                                    "SZOBA_FK": "97",
                                    "METTOL": "NULL",
                                    "Foglalások száma": "7"
                                },
                                {
                                    "SZOBA_FK": "98",
                                    "METTOL": "NULL",
                                    "Foglalások száma": "4"
                                },
                                {
                                    "SZOBA_FK": "99",
                                    "METTOL": "NULL",
                                    "Foglalások száma": "5"
                                },
                                {
                                    "SZOBA_FK": "100",
                                    "METTOL": "NULL",
                                    "Foglalások száma": "4"
                                },
                                {
                                    "SZOBA_FK": "101",
                                    "METTOL": "NULL",
                                    "Foglalások száma": "3"
                                },
                                {
                                    "SZOBA_FK": "102",
                                    "METTOL": "NULL",
                                    "Foglalások száma": "2"
                                },
                                {
                                    "SZOBA_FK": "103",
                                    "METTOL": "NULL",
                                    "Foglalások száma": "4"
                                },
                                {
                                    "SZOBA_FK": "104",
                                    "METTOL": "NULL",
                                    "Foglalások száma": "4"
                                },
                                {
                                    "SZOBA_FK": "105",
                                    "METTOL": "NULL",
                                    "Foglalások száma": "2"
                                },
                                {
                                    "SZOBA_FK": "106",
                                    "METTOL": "NULL",
                                    "Foglalások száma": "6"
                                },
                                {
                                    "SZOBA_FK": "107",
                                    "METTOL": "NULL",
                                    "Foglalások száma": "5"
                                },
                                {
                                    "SZOBA_FK": "108",
                                    "METTOL": "NULL",
                                    "Foglalások száma": "2"
                                },
                                {
                                    "SZOBA_FK": "109",
                                    "METTOL": "NULL",
                                    "Foglalások száma": "7"
                                },
                                {
                                    "SZOBA_FK": "110",
                                    "METTOL": "NULL",
                                    "Foglalások száma": "8"
                                },
                                {
                                    "SZOBA_FK": "111",
                                    "METTOL": "NULL",
                                    "Foglalások száma": "5"
                                },
                                {
                                    "SZOBA_FK": "112",
                                    "METTOL": "NULL",
                                    "Foglalások száma": "5"
                                },
                                {
                                    "SZOBA_FK": "113",
                                    "METTOL": "NULL",
                                    "Foglalások száma": "5"
                                },
                                {
                                    "SZOBA_FK": "114",
                                    "METTOL": "NULL",
                                    "Foglalások száma": "4"
                                },
                                {
                                    "SZOBA_FK": "115",
                                    "METTOL": "NULL",
                                    "Foglalások száma": "7"
                                },
                                {
                                    "SZOBA_FK": "116",
                                    "METTOL": "NULL",
                                    "Foglalások száma": "2"
                                },
                                {
                                    "SZOBA_FK": "117",
                                    "METTOL": "NULL",
                                    "Foglalások száma": "8"
                                },
                                {
                                    "SZOBA_FK": "118",
                                    "METTOL": "NULL",
                                    "Foglalások száma": "7"
                                },
                                {
                                    "SZOBA_FK": "119",
                                    "METTOL": "NULL",
                                    "Foglalások száma": "5"
                                },
                                {
                                    "SZOBA_FK": "120",
                                    "METTOL": "NULL",
                                    "Foglalások száma": "6"
                                },
                                {
                                    "SZOBA_FK": "121",
                                    "METTOL": "NULL",
                                    "Foglalások száma": "8"
                                },
                                {
                                    "SZOBA_FK": "122",
                                    "METTOL": "NULL",
                                    "Foglalások száma": "9"
                                },
                                {
                                    "SZOBA_FK": "123",
                                    "METTOL": "NULL",
                                    "Foglalások száma": "5"
                                },
                                {
                                    "SZOBA_FK": "124",
                                    "METTOL": "NULL",
                                    "Foglalások száma": "6"
                                },
                                {
                                    "SZOBA_FK": "126",
                                    "METTOL": "NULL",
                                    "Foglalások száma": "6"
                                },
                                {
                                    "SZOBA_FK": "127",
                                    "METTOL": "NULL",
                                    "Foglalások száma": "7"
                                },
                                {
                                    "SZOBA_FK": "128",
                                    "METTOL": "NULL",
                                    "Foglalások száma": "5"
                                },
                                {
                                    "SZOBA_FK": "129",
                                    "METTOL": "NULL",
                                    "Foglalások száma": "4"
                                },
                                {
                                    "SZOBA_FK": "130",
                                    "METTOL": "NULL",
                                    "Foglalások száma": "6"
                                },
                                {
                                    "SZOBA_FK": "131",
                                    "METTOL": "NULL",
                                    "Foglalások száma": "5"
                                },
                                {
                                    "SZOBA_FK": "132",
                                    "METTOL": "NULL",
                                    "Foglalások száma": "6"
                                },
                                {
                                    "SZOBA_FK": "133",
                                    "METTOL": "NULL",
                                    "Foglalások száma": "6"
                                },
                                {
                                    "SZOBA_FK": "134",
                                    "METTOL": "NULL",
                                    "Foglalások száma": "6"
                                },
                                {
                                    "SZOBA_FK": "135",
                                    "METTOL": "NULL",
                                    "Foglalások száma": "3"
                                },
                                {
                                    "SZOBA_FK": "136",
                                    "METTOL": "NULL",
                                    "Foglalások száma": "3"
                                },
                                {
                                    "SZOBA_FK": "137",
                                    "METTOL": "NULL",
                                    "Foglalások száma": "6"
                                },
                                {
                                    "SZOBA_FK": "138",
                                    "METTOL": "NULL",
                                    "Foglalások száma": "7"
                                },
                                {
                                    "SZOBA_FK": "139",
                                    "METTOL": "NULL",
                                    "Foglalások száma": "7"
                                },
                                {
                                    "SZOBA_FK": "140",
                                    "METTOL": "NULL",
                                    "Foglalások száma": "8"
                                },
                                {
                                    "SZOBA_FK": "141",
                                    "METTOL": "NULL",
                                    "Foglalások száma": "6"
                                },
                                {
                                    "SZOBA_FK": "142",
                                    "METTOL": "NULL",
                                    "Foglalások száma": "2"
                                },
                                {
                                    "SZOBA_FK": "143",
                                    "METTOL": "NULL",
                                    "Foglalások száma": "7"
                                },
                                {
                                    "SZOBA_FK": "144",
                                    "METTOL": "NULL",
                                    "Foglalások száma": "5"
                                },
                                {
                                    "SZOBA_FK": "145",
                                    "METTOL": "NULL",
                                    "Foglalások száma": "6"
                                },
                                {
                                    "SZOBA_FK": "146",
                                    "METTOL": "NULL",
                                    "Foglalások száma": "6"
                                },
                                {
                                    "SZOBA_FK": "148",
                                    "METTOL": "2016-08-23",
                                    "Foglalások száma": "2"
                                },
                                {
                                    "SZOBA_FK": "148",
                                    "METTOL": "NULL",
                                    "Foglalások száma": "6"
                                },
                                {
                                    "SZOBA_FK": "149",
                                    "METTOL": "NULL",
                                    "Foglalások száma": "7"
                                },
                                {
                                    "SZOBA_FK": "150",
                                    "METTOL": "2016-10-01",
                                    "Foglalások száma": "2"
                                },
                                {
                                    "SZOBA_FK": "150",
                                    "METTOL": "NULL",
                                    "Foglalások száma": "6"
                                },
                                {
                                    "SZOBA_FK": "151",
                                    "METTOL": "NULL",
                                    "Foglalások száma": "3"
                                },
                                {
                                    "SZOBA_FK": "152",
                                    "METTOL": "NULL",
                                    "Foglalások száma": "4"
                                },
                                {
                                    "SZOBA_FK": "153",
                                    "METTOL": "NULL",
                                    "Foglalások száma": "5"
                                },
                                {
                                    "SZOBA_FK": "154",
                                    "METTOL": "NULL",
                                    "Foglalások száma": "5"
                                },
                                {
                                    "SZOBA_FK": "155",
                                    "METTOL": "NULL",
                                    "Foglalások száma": "5"
                                },
                                {
                                    "SZOBA_FK": "156",
                                    "METTOL": "NULL",
                                    "Foglalások száma": "7"
                                },
                                {
                                    "SZOBA_FK": "157",
                                    "METTOL": "NULL",
                                    "Foglalások száma": "5"
                                },
                                {
                                    "SZOBA_FK": "158",
                                    "METTOL": "NULL",
                                    "Foglalások száma": "3"
                                },
                                {
                                    "SZOBA_FK": "160",
                                    "METTOL": "2016-06-07",
                                    "Foglalások száma": "2"
                                },
                                {
                                    "SZOBA_FK": "160",
                                    "METTOL": "NULL",
                                    "Foglalások száma": "5"
                                },
                                {
                                    "SZOBA_FK": "161",
                                    "METTOL": "NULL",
                                    "Foglalások száma": "6"
                                },
                                {
                                    "SZOBA_FK": "162",
                                    "METTOL": "NULL",
                                    "Foglalások száma": "3"
                                },
                                {
                                    "SZOBA_FK": "163",
                                    "METTOL": "NULL",
                                    "Foglalások száma": "7"
                                },
                                {
                                    "SZOBA_FK": "164",
                                    "METTOL": "NULL",
                                    "Foglalások száma": "5"
                                },
                                {
                                    "SZOBA_FK": "165",
                                    "METTOL": "2016-06-03",
                                    "Foglalások száma": "3"
                                },
                                {
                                    "SZOBA_FK": "165",
                                    "METTOL": "NULL",
                                    "Foglalások száma": "7"
                                },
                                {
                                    "SZOBA_FK": "166",
                                    "METTOL": "NULL",
                                    "Foglalások száma": "3"
                                },
                                {
                                    "SZOBA_FK": "167",
                                    "METTOL": "NULL",
                                    "Foglalások száma": "2"
                                },
                                {
                                    "SZOBA_FK": "168",
                                    "METTOL": "NULL",
                                    "Foglalások száma": "5"
                                },
                                {
                                    "SZOBA_FK": "169",
                                    "METTOL": "NULL",
                                    "Foglalások száma": "6"
                                },
                                {
                                    "SZOBA_FK": "170",
                                    "METTOL": "NULL",
                                    "Foglalások száma": "5"
                                },
                                {
                                    "SZOBA_FK": "171",
                                    "METTOL": "NULL",
                                    "Foglalások száma": "5"
                                },
                                {
                                    "SZOBA_FK": "172",
                                    "METTOL": "NULL",
                                    "Foglalások száma": "9"
                                },
                                {
                                    "SZOBA_FK": "173",
                                    "METTOL": "NULL",
                                    "Foglalások száma": "4"
                                },
                                {
                                    "SZOBA_FK": "174",
                                    "METTOL": "NULL",
                                    "Foglalások száma": "4"
                                },
                                {
                                    "SZOBA_FK": "175",
                                    "METTOL": "NULL",
                                    "Foglalások száma": "5"
                                },
                                {
                                    "SZOBA_FK": "176",
                                    "METTOL": "NULL",
                                    "Foglalások száma": "6"
                                },
                                {
                                    "SZOBA_FK": "177",
                                    "METTOL": "NULL",
                                    "Foglalások száma": "4"
                                },
                                {
                                    "SZOBA_FK": "178",
                                    "METTOL": "NULL",
                                    "Foglalások száma": "4"
                                },
                                {
                                    "SZOBA_FK": "179",
                                    "METTOL": "NULL",
                                    "Foglalások száma": "3"
                                },
                                {
                                    "SZOBA_FK": "180",
                                    "METTOL": "NULL",
                                    "Foglalások száma": "3"
                                },
                                {
                                    "SZOBA_FK": "181",
                                    "METTOL": "NULL",
                                    "Foglalások száma": "6"
                                },
                                {
                                    "SZOBA_FK": "182",
                                    "METTOL": "2016-10-30",
                                    "Foglalások száma": "2"
                                },
                                {
                                    "SZOBA_FK": "182",
                                    "METTOL": "NULL",
                                    "Foglalások száma": "12"
                                },
                                {
                                    "SZOBA_FK": "183",
                                    "METTOL": "NULL",
                                    "Foglalások száma": "4"
                                },
                                {
                                    "SZOBA_FK": "184",
                                    "METTOL": "NULL",
                                    "Foglalások száma": "4"
                                },
                                {
                                    "SZOBA_FK": "185",
                                    "METTOL": "NULL",
                                    "Foglalások száma": "12"
                                },
                                {
                                    "SZOBA_FK": "186",
                                    "METTOL": "NULL",
                                    "Foglalások száma": "4"
                                },
                                {
                                    "SZOBA_FK": "187",
                                    "METTOL": "NULL",
                                    "Foglalások száma": "7"
                                },
                                {
                                    "SZOBA_FK": "188",
                                    "METTOL": "NULL",
                                    "Foglalások száma": "6"
                                },
                                {
                                    "SZOBA_FK": "189",
                                    "METTOL": "NULL",
                                    "Foglalások száma": "5"
                                },
                                {
                                    "SZOBA_FK": "190",
                                    "METTOL": "NULL",
                                    "Foglalások száma": "5"
                                },
                                {
                                    "SZOBA_FK": "191",
                                    "METTOL": "NULL",
                                    "Foglalások száma": "5"
                                },
                                {
                                    "SZOBA_FK": "192",
                                    "METTOL": "NULL",
                                    "Foglalások száma": "2"
                                },
                                {
                                    "SZOBA_FK": "193",
                                    "METTOL": "NULL",
                                    "Foglalások száma": "7"
                                },
                                {
                                    "SZOBA_FK": "195",
                                    "METTOL": "NULL",
                                    "Foglalások száma": "6"
                                },
                                {
                                    "SZOBA_FK": "196",
                                    "METTOL": "NULL",
                                    "Foglalások száma": "4"
                                },
                                {
                                    "SZOBA_FK": "197",
                                    "METTOL": "NULL",
                                    "Foglalások száma": "6"
                                },
                                {
                                    "SZOBA_FK": "198",
                                    "METTOL": "NULL",
                                    "Foglalások száma": "8"
                                },
                                {
                                    "SZOBA_FK": "NULL",
                                    "METTOL": "NULL",
                                    "Foglalások száma": "1027"
                                },
                                {
                                    "SZOBA_FK": "NULL",
                                    "METTOL": "2016-11-16",
                                    "Foglalások száma": "4"
                                },
                                {
                                    "SZOBA_FK": "NULL",
                                    "METTOL": "2017-01-24",
                                    "Foglalások száma": "2"
                                },
                                {
                                    "SZOBA_FK": "NULL",
                                    "METTOL": "2017-01-01",
                                    "Foglalások száma": "4"
                                },
                                {
                                    "SZOBA_FK": "NULL",
                                    "METTOL": "2017-02-16",
                                    "Foglalások száma": "9"
                                },
                                {
                                    "SZOBA_FK": "NULL",
                                    "METTOL": "2016-12-15",
                                    "Foglalások száma": "3"
                                },
                                {
                                    "SZOBA_FK": "NULL",
                                    "METTOL": "2016-04-21",
                                    "Foglalások száma": "2"
                                },
                                {
                                    "SZOBA_FK": "NULL",
                                    "METTOL": "2016-10-30",
                                    "Foglalások száma": "14"
                                },
                                {
                                    "SZOBA_FK": "NULL",
                                    "METTOL": "2016-08-31",
                                    "Foglalások száma": "2"
                                },
                                {
                                    "SZOBA_FK": "NULL",
                                    "METTOL": "2016-06-06",
                                    "Foglalások száma": "14"
                                },
                                {
                                    "SZOBA_FK": "NULL",
                                    "METTOL": "2016-07-16",
                                    "Foglalások száma": "2"
                                },
                                {
                                    "SZOBA_FK": "NULL",
                                    "METTOL": "2016-07-22",
                                    "Foglalások száma": "4"
                                },
                                {
                                    "SZOBA_FK": "NULL",
                                    "METTOL": "2016-10-24",
                                    "Foglalások száma": "3"
                                },
                                {
                                    "SZOBA_FK": "NULL",
                                    "METTOL": "2016-09-17",
                                    "Foglalások száma": "4"
                                },
                                {
                                    "SZOBA_FK": "NULL",
                                    "METTOL": "2016-04-27",
                                    "Foglalások száma": "3"
                                },
                                {
                                    "SZOBA_FK": "NULL",
                                    "METTOL": "2017-01-15",
                                    "Foglalások száma": "2"
                                },
                                {
                                    "SZOBA_FK": "NULL",
                                    "METTOL": "2016-11-25",
                                    "Foglalások száma": "6"
                                },
                                {
                                    "SZOBA_FK": "NULL",
                                    "METTOL": "2016-05-17",
                                    "Foglalások száma": "3"
                                },
                                {
                                    "SZOBA_FK": "NULL",
                                    "METTOL": "2016-07-30",
                                    "Foglalások száma": "4"
                                },
                                {
                                    "SZOBA_FK": "NULL",
                                    "METTOL": "2016-11-05",
                                    "Foglalások száma": "8"
                                },
                                {
                                    "SZOBA_FK": "NULL",
                                    "METTOL": "2016-08-25",
                                    "Foglalások száma": "3"
                                },
                                {
                                    "SZOBA_FK": "NULL",
                                    "METTOL": "2016-12-26",
                                    "Foglalások száma": "3"
                                },
                                {
                                    "SZOBA_FK": "NULL",
                                    "METTOL": "2016-09-23",
                                    "Foglalások száma": "4"
                                },
                                {
                                    "SZOBA_FK": "NULL",
                                    "METTOL": "2016-08-05",
                                    "Foglalások száma": "3"
                                },
                                {
                                    "SZOBA_FK": "NULL",
                                    "METTOL": "2016-10-07",
                                    "Foglalások száma": "2"
                                },
                                {
                                    "SZOBA_FK": "NULL",
                                    "METTOL": "2016-06-23",
                                    "Foglalások száma": "4"
                                },
                                {
                                    "SZOBA_FK": "NULL",
                                    "METTOL": "2017-02-27",
                                    "Foglalások száma": "2"
                                },
                                {
                                    "SZOBA_FK": "NULL",
                                    "METTOL": "2016-10-01",
                                    "Foglalások száma": "18"
                                },
                                {
                                    "SZOBA_FK": "NULL",
                                    "METTOL": "2016-11-19",
                                    "Foglalások száma": "8"
                                },
                                {
                                    "SZOBA_FK": "NULL",
                                    "METTOL": "2016-06-03",
                                    "Foglalások száma": "9"
                                },
                                {
                                    "SZOBA_FK": "NULL",
                                    "METTOL": "2016-10-21",
                                    "Foglalások száma": "4"
                                },
                                {
                                    "SZOBA_FK": "NULL",
                                    "METTOL": "2016-12-06",
                                    "Foglalások száma": "5"
                                },
                                {
                                    "SZOBA_FK": "NULL",
                                    "METTOL": "2016-12-29",
                                    "Foglalások száma": "5"
                                },
                                {
                                    "SZOBA_FK": "NULL",
                                    "METTOL": "2017-02-13",
                                    "Foglalások száma": "5"
                                },
                                {
                                    "SZOBA_FK": "NULL",
                                    "METTOL": "2016-04-10",
                                    "Foglalások száma": "9"
                                },
                                {
                                    "SZOBA_FK": "NULL",
                                    "METTOL": "2016-06-09",
                                    "Foglalások száma": "3"
                                },
                                {
                                    "SZOBA_FK": "NULL",
                                    "METTOL": "2016-07-13",
                                    "Foglalások száma": "5"
                                },
                                {
                                    "SZOBA_FK": "NULL",
                                    "METTOL": "2017-02-04",
                                    "Foglalások száma": "6"
                                },
                                {
                                    "SZOBA_FK": "NULL",
                                    "METTOL": "2016-10-27",
                                    "Foglalások száma": "4"
                                },
                                {
                                    "SZOBA_FK": "NULL",
                                    "METTOL": "2016-07-19",
                                    "Foglalások száma": "3"
                                },
                                {
                                    "SZOBA_FK": "NULL",
                                    "METTOL": "2016-10-10",
                                    "Foglalások száma": "2"
                                },
                                {
                                    "SZOBA_FK": "NULL",
                                    "METTOL": "2017-01-12",
                                    "Foglalások száma": "2"
                                },
                                {
                                    "SZOBA_FK": "NULL",
                                    "METTOL": "2016-09-14",
                                    "Foglalások száma": "2"
                                },
                                {
                                    "SZOBA_FK": "NULL",
                                    "METTOL": "2016-09-20",
                                    "Foglalások száma": "2"
                                },
                                {
                                    "SZOBA_FK": "NULL",
                                    "METTOL": "2016-08-28",
                                    "Foglalások száma": "5"
                                },
                                {
                                    "SZOBA_FK": "NULL",
                                    "METTOL": "2016-07-10",
                                    "Foglalások száma": "2"
                                },
                                {
                                    "SZOBA_FK": "NULL",
                                    "METTOL": "2017-02-10",
                                    "Foglalások száma": "2"
                                },
                                {
                                    "SZOBA_FK": "NULL",
                                    "METTOL": "2016-08-02",
                                    "Foglalások száma": "2"
                                },
                                {
                                    "SZOBA_FK": "NULL",
                                    "METTOL": "2017-01-18",
                                    "Foglalások száma": "2"
                                },
                                {
                                    "SZOBA_FK": "NULL",
                                    "METTOL": "2016-04-24",
                                    "Foglalások száma": "3"
                                },
                                {
                                    "SZOBA_FK": "NULL",
                                    "METTOL": "2016-06-20",
                                    "Foglalások száma": "2"
                                },
                                {
                                    "SZOBA_FK": "NULL",
                                    "METTOL": "2017-02-24",
                                    "Foglalások száma": "5"
                                },
                                {
                                    "SZOBA_FK": "NULL",
                                    "METTOL": "2016-10-04",
                                    "Foglalások száma": "3"
                                },
                                {
                                    "SZOBA_FK": "NULL",
                                    "METTOL": "2016-11-22",
                                    "Foglalások száma": "6"
                                },
                                {
                                    "SZOBA_FK": "NULL",
                                    "METTOL": "2016-05-14",
                                    "Foglalások száma": "4"
                                },
                                {
                                    "SZOBA_FK": "NULL",
                                    "METTOL": "2016-05-08",
                                    "Foglalások száma": "5"
                                },
                                {
                                    "SZOBA_FK": "NULL",
                                    "METTOL": "2016-08-14",
                                    "Foglalások száma": "3"
                                },
                                {
                                    "SZOBA_FK": "NULL",
                                    "METTOL": "2016-09-29",
                                    "Foglalások száma": "2"
                                },
                                {
                                    "SZOBA_FK": "NULL",
                                    "METTOL": "2016-06-27",
                                    "Foglalások száma": "3"
                                },
                                {
                                    "SZOBA_FK": "NULL",
                                    "METTOL": "2016-10-22",
                                    "Foglalások száma": "4"
                                },
                                {
                                    "SZOBA_FK": "NULL",
                                    "METTOL": "2016-06-04",
                                    "Foglalások száma": "6"
                                },
                                {
                                    "SZOBA_FK": "NULL",
                                    "METTOL": "2016-05-12",
                                    "Foglalások száma": "3"
                                },
                                {
                                    "SZOBA_FK": "NULL",
                                    "METTOL": "2016-12-07",
                                    "Foglalások száma": "3"
                                },
                                {
                                    "SZOBA_FK": "NULL",
                                    "METTOL": "2016-04-19",
                                    "Foglalások száma": "4"
                                },
                                {
                                    "SZOBA_FK": "NULL",
                                    "METTOL": "2017-01-22",
                                    "Foglalások száma": "7"
                                },
                                {
                                    "SZOBA_FK": "NULL",
                                    "METTOL": "2016-07-14",
                                    "Foglalások száma": "6"
                                },
                                {
                                    "SZOBA_FK": "NULL",
                                    "METTOL": "2016-10-16",
                                    "Foglalások száma": "3"
                                },
                                {
                                    "SZOBA_FK": "NULL",
                                    "METTOL": "2016-10-28",
                                    "Foglalások száma": "6"
                                },
                                {
                                    "SZOBA_FK": "NULL",
                                    "METTOL": "2016-08-29",
                                    "Foglalások száma": "6"
                                },
                                {
                                    "SZOBA_FK": "NULL",
                                    "METTOL": "2016-09-12",
                                    "Foglalások száma": "3"
                                },
                                {
                                    "SZOBA_FK": "NULL",
                                    "METTOL": "2016-05-29",
                                    "Foglalások száma": "3"
                                },
                                {
                                    "SZOBA_FK": "NULL",
                                    "METTOL": "2017-01-30",
                                    "Foglalások száma": "3"
                                },
                                {
                                    "SZOBA_FK": "NULL",
                                    "METTOL": "2017-02-05",
                                    "Foglalások száma": "5"
                                },
                                {
                                    "SZOBA_FK": "NULL",
                                    "METTOL": "2017-01-13",
                                    "Foglalások száma": "2"
                                },
                                {
                                    "SZOBA_FK": "NULL",
                                    "METTOL": "2017-03-03",
                                    "Foglalások száma": "2"
                                },
                                {
                                    "SZOBA_FK": "NULL",
                                    "METTOL": "2016-12-24",
                                    "Foglalások száma": "3"
                                },
                                {
                                    "SZOBA_FK": "NULL",
                                    "METTOL": "2016-07-28",
                                    "Foglalások száma": "7"
                                },
                                {
                                    "SZOBA_FK": "NULL",
                                    "METTOL": "2016-08-03",
                                    "Foglalások száma": "4"
                                },
                                {
                                    "SZOBA_FK": "NULL",
                                    "METTOL": "2016-09-15",
                                    "Foglalások száma": "3"
                                },
                                {
                                    "SZOBA_FK": "NULL",
                                    "METTOL": "2016-08-23",
                                    "Foglalások száma": "5"
                                },
                                {
                                    "SZOBA_FK": "NULL",
                                    "METTOL": "2016-12-01",
                                    "Foglalások száma": "2"
                                },
                                {
                                    "SZOBA_FK": "NULL",
                                    "METTOL": "2017-01-19",
                                    "Foglalások száma": "3"
                                },
                                {
                                    "SZOBA_FK": "NULL",
                                    "METTOL": "2016-10-05",
                                    "Foglalások száma": "2"
                                },
                                {
                                    "SZOBA_FK": "NULL",
                                    "METTOL": "2016-08-17",
                                    "Foglalások száma": "4"
                                },
                                {
                                    "SZOBA_FK": "NULL",
                                    "METTOL": "2016-11-11",
                                    "Foglalások száma": "2"
                                },
                                {
                                    "SZOBA_FK": "NULL",
                                    "METTOL": "2016-11-17",
                                    "Foglalások száma": "2"
                                },
                                {
                                    "SZOBA_FK": "NULL",
                                    "METTOL": "2017-02-25",
                                    "Foglalások száma": "2"
                                },
                                {
                                    "SZOBA_FK": "NULL",
                                    "METTOL": "2016-04-16",
                                    "Foglalások száma": "2"
                                },
                                {
                                    "SZOBA_FK": "NULL",
                                    "METTOL": "2016-05-09",
                                    "Foglalások száma": "7"
                                },
                                {
                                    "SZOBA_FK": "NULL",
                                    "METTOL": "2016-04-22",
                                    "Foglalások száma": "2"
                                },
                                {
                                    "SZOBA_FK": "NULL",
                                    "METTOL": "2016-12-04",
                                    "Foglalások száma": "3"
                                },
                                {
                                    "SZOBA_FK": "NULL",
                                    "METTOL": "2016-06-07",
                                    "Foglalások száma": "11"
                                },
                                {
                                    "SZOBA_FK": "NULL",
                                    "METTOL": "2016-07-25",
                                    "Foglalások száma": "2"
                                },
                                {
                                    "SZOBA_FK": "NULL",
                                    "METTOL": "2016-10-19",
                                    "Foglalások száma": "4"
                                },
                                {
                                    "SZOBA_FK": "NULL",
                                    "METTOL": "2016-07-17",
                                    "Foglalások száma": "3"
                                },
                                {
                                    "SZOBA_FK": "NULL",
                                    "METTOL": "2016-12-18",
                                    "Foglalások száma": "2"
                                },
                                {
                                    "SZOBA_FK": "NULL",
                                    "METTOL": "2016-09-09",
                                    "Foglalások száma": "2"
                                },
                                {
                                    "SZOBA_FK": "NULL",
                                    "METTOL": "2016-06-01",
                                    "Foglalások száma": "2"
                                },
                                {
                                    "SZOBA_FK": "NULL",
                                    "METTOL": "2016-07-08",
                                    "Foglalások száma": "3"
                                },
                                {
                                    "SZOBA_FK": "NULL",
                                    "METTOL": "2016-11-28",
                                    "Foglalások száma": "3"
                                },
                                {
                                    "SZOBA_FK": "NULL",
                                    "METTOL": "2017-02-08",
                                    "Foglalások száma": "5"
                                },
                                {
                                    "SZOBA_FK": "NULL",
                                    "METTOL": "2016-10-08",
                                    "Foglalások száma": "7"
                                },
                                {
                                    "SZOBA_FK": "NULL",
                                    "METTOL": "2017-01-16",
                                    "Foglalások száma": "8"
                                },
                                {
                                    "SZOBA_FK": "NULL",
                                    "METTOL": "2016-08-26",
                                    "Foglalások száma": "2"
                                },
                                {
                                    "SZOBA_FK": "NULL",
                                    "METTOL": "2016-11-08",
                                    "Foglalások száma": "4"
                                },
                                {
                                    "SZOBA_FK": "NULL",
                                    "METTOL": "2016-07-31",
                                    "Foglalások száma": "2"
                                },
                                {
                                    "SZOBA_FK": "NULL",
                                    "METTOL": "2016-09-18",
                                    "Foglalások száma": "4"
                                },
                                {
                                    "SZOBA_FK": "NULL",
                                    "METTOL": "2016-08-20",
                                    "Foglalások száma": "5"
                                },
                                {
                                    "SZOBA_FK": "NULL",
                                    "METTOL": "2016-08-06",
                                    "Foglalások száma": "3"
                                },
                                {
                                    "SZOBA_FK": "NULL",
                                    "METTOL": "2016-09-26",
                                    "Foglalások száma": "2"
                                },
                                {
                                    "SZOBA_FK": "NULL",
                                    "METTOL": "2017-01-10",
                                    "Foglalások száma": "2"
                                },
                                {
                                    "SZOBA_FK": "NULL",
                                    "METTOL": "2016-06-24",
                                    "Foglalások száma": "2"
                                },
                                {
                                    "SZOBA_FK": "NULL",
                                    "METTOL": "2016-05-10",
                                    "Foglalások száma": "2"
                                },
                                {
                                    "SZOBA_FK": "NULL",
                                    "METTOL": "2016-07-20",
                                    "Foglalások száma": "10"
                                },
                                {
                                    "SZOBA_FK": "NULL",
                                    "METTOL": "2016-06-02",
                                    "Foglalások száma": "4"
                                },
                                {
                                    "SZOBA_FK": "NULL",
                                    "METTOL": "2017-02-20",
                                    "Foglalások száma": "4"
                                },
                                {
                                    "SZOBA_FK": "NULL",
                                    "METTOL": "2016-04-17",
                                    "Foglalások száma": "2"
                                },
                                {
                                    "SZOBA_FK": "NULL",
                                    "METTOL": "2017-02-14",
                                    "Foglalások száma": "3"
                                },
                                {
                                    "SZOBA_FK": "NULL",
                                    "METTOL": "2016-07-26",
                                    "Foglalások száma": "2"
                                },
                                {
                                    "SZOBA_FK": "NULL",
                                    "METTOL": "2016-05-27",
                                    "Foglalások száma": "3"
                                },
                                {
                                    "SZOBA_FK": "NULL",
                                    "METTOL": "2016-09-10",
                                    "Foglalások száma": "2"
                                },
                                {
                                    "SZOBA_FK": "NULL",
                                    "METTOL": "2016-12-05",
                                    "Foglalások száma": "4"
                                },
                                {
                                    "SZOBA_FK": "NULL",
                                    "METTOL": "2016-07-12",
                                    "Foglalások száma": "3"
                                },
                                {
                                    "SZOBA_FK": "NULL",
                                    "METTOL": "2016-10-20",
                                    "Foglalások száma": "4"
                                },
                                {
                                    "SZOBA_FK": "NULL",
                                    "METTOL": "2017-01-28",
                                    "Foglalások száma": "3"
                                },
                                {
                                    "SZOBA_FK": "NULL",
                                    "METTOL": "2017-02-03",
                                    "Foglalások száma": "3"
                                },
                                {
                                    "SZOBA_FK": "NULL",
                                    "METTOL": "2016-08-01",
                                    "Foglalások száma": "4"
                                },
                                {
                                    "SZOBA_FK": "NULL",
                                    "METTOL": "2016-05-21",
                                    "Foglalások száma": "5"
                                },
                                {
                                    "SZOBA_FK": "NULL",
                                    "METTOL": "2016-07-09",
                                    "Foglalások száma": "2"
                                },
                                {
                                    "SZOBA_FK": "NULL",
                                    "METTOL": "2016-11-03",
                                    "Foglalások száma": "7"
                                },
                                {
                                    "SZOBA_FK": "NULL",
                                    "METTOL": "2016-12-22",
                                    "Foglalások száma": "3"
                                },
                                {
                                    "SZOBA_FK": "NULL",
                                    "METTOL": "2017-01-17",
                                    "Foglalások száma": "5"
                                },
                                {
                                    "SZOBA_FK": "NULL",
                                    "METTOL": "2016-08-21",
                                    "Foglalások száma": "2"
                                },
                                {
                                    "SZOBA_FK": "NULL",
                                    "METTOL": "2016-06-13",
                                    "Foglalások száma": "5"
                                },
                                {
                                    "SZOBA_FK": "NULL",
                                    "METTOL": "2016-11-29",
                                    "Foglalások száma": "4"
                                },
                                {
                                    "SZOBA_FK": "NULL",
                                    "METTOL": "2016-07-03",
                                    "Foglalások száma": "5"
                                },
                                {
                                    "SZOBA_FK": "NULL",
                                    "METTOL": "2016-11-09",
                                    "Foglalások száma": "3"
                                },
                                {
                                    "SZOBA_FK": "NULL",
                                    "METTOL": "2016-11-23",
                                    "Foglalások száma": "8"
                                },
                                {
                                    "SZOBA_FK": "NULL",
                                    "METTOL": "2016-05-01",
                                    "Foglalások száma": "5"
                                },
                                {
                                    "SZOBA_FK": "NULL",
                                    "METTOL": "2017-01-05",
                                    "Foglalások száma": "3"
                                },
                                {
                                    "SZOBA_FK": "NULL",
                                    "METTOL": "2016-08-09",
                                    "Foglalások száma": "2"
                                },
                                {
                                    "SZOBA_FK": "NULL",
                                    "METTOL": "2016-08-15",
                                    "Foglalások száma": "2"
                                },
                                {
                                    "SZOBA_FK": "NULL",
                                    "METTOL": "2016-10-03",
                                    "Foglalások száma": "3"
                                },
                                {
                                    "SZOBA_FK": "NULL",
                                    "METTOL": "2017-02-23",
                                    "Foglalások száma": "6"
                                },
                                {
                                    "SZOBA_FK": "NULL",
                                    "METTOL": "2016-10-23",
                                    "Foglalások száma": "7"
                                },
                                {
                                    "SZOBA_FK": "NULL",
                                    "METTOL": "2017-01-02",
                                    "Foglalások száma": "2"
                                },
                                {
                                    "SZOBA_FK": "NULL",
                                    "METTOL": "2016-11-15",
                                    "Foglalások száma": "3"
                                },
                                {
                                    "SZOBA_FK": "NULL",
                                    "METTOL": "2017-02-17",
                                    "Foglalások száma": "2"
                                },
                                {
                                    "SZOBA_FK": "NULL",
                                    "METTOL": "2016-10-17",
                                    "Foglalások száma": "3"
                                },
                                {
                                    "SZOBA_FK": "NULL",
                                    "METTOL": "2016-09-13",
                                    "Foglalások száma": "4"
                                },
                                {
                                    "SZOBA_FK": "NULL",
                                    "METTOL": "2016-07-23",
                                    "Foglalások száma": "2"
                                },
                                {
                                    "SZOBA_FK": "NULL",
                                    "METTOL": "2016-04-08",
                                    "Foglalások száma": "2"
                                },
                                {
                                    "SZOBA_FK": "NULL",
                                    "METTOL": "2016-04-14",
                                    "Foglalások száma": "2"
                                },
                                {
                                    "SZOBA_FK": "NULL",
                                    "METTOL": "2016-05-30",
                                    "Foglalások száma": "11"
                                },
                                {
                                    "SZOBA_FK": "NULL",
                                    "METTOL": "2016-04-28",
                                    "Foglalások száma": "2"
                                },
                                {
                                    "SZOBA_FK": "NULL",
                                    "METTOL": "2016-06-16",
                                    "Foglalások száma": "8"
                                },
                                {
                                    "SZOBA_FK": "NULL",
                                    "METTOL": "2016-05-24",
                                    "Foglalások száma": "4"
                                },
                                {
                                    "SZOBA_FK": "NULL",
                                    "METTOL": "2017-02-06",
                                    "Foglalások száma": "3"
                                },
                                {
                                    "SZOBA_FK": "NULL",
                                    "METTOL": "2016-07-29",
                                    "Foglalások száma": "2"
                                },
                                {
                                    "SZOBA_FK": "NULL",
                                    "METTOL": "2016-06-10",
                                    "Foglalások száma": "10"
                                },
                                {
                                    "SZOBA_FK": "NULL",
                                    "METTOL": "2016-12-02",
                                    "Foglalások száma": "3"
                                },
                                {
                                    "SZOBA_FK": "NULL",
                                    "METTOL": "2016-05-18",
                                    "Foglalások száma": "4"
                                },
                                {
                                    "SZOBA_FK": "NULL",
                                    "METTOL": "2016-08-24",
                                    "Foglalások száma": "10"
                                },
                                {
                                    "SZOBA_FK": "NULL",
                                    "METTOL": "2016-07-06",
                                    "Foglalások száma": "3"
                                },
                                {
                                    "SZOBA_FK": "NULL",
                                    "METTOL": "2016-11-06",
                                    "Foglalások száma": "3"
                                },
                                {
                                    "SZOBA_FK": "NULL",
                                    "METTOL": "2016-12-25",
                                    "Foglalások száma": "9"
                                },
                                {
                                    "SZOBA_FK": "NULL",
                                    "METTOL": "2016-08-18",
                                    "Foglalások száma": "2"
                                },
                                {
                                    "SZOBA_FK": "NULL",
                                    "METTOL": "2016-06-30",
                                    "Foglalások száma": "3"
                                },
                                {
                                    "SZOBA_FK": "NULL",
                                    "METTOL": "2016-11-12",
                                    "Foglalások száma": "2"
                                },
                                {
                                    "SZOBA_FK": "NULL",
                                    "METTOL": "2016-06-22",
                                    "Foglalások száma": "4"
                                },
                                {
                                    "SZOBA_FK": "NULL",
                                    "METTOL": "2017-02-26",
                                    "Foglalások száma": "4"
                                },
                                {
                                    "SZOBA_FK": "NULL",
                                    "METTOL": "2016-08-12",
                                    "Foglalások száma": "6"
                                },
                                {
                                    "SZOBA_FK": "NULL",
                                    "METTOL": "2016-09-30",
                                    "Foglalások száma": "8"
                                },
                                {
                                    "SZOBA_FK": "NULL",
                                    "METTOL": "2017-01-03",
                                    "Foglalások száma": "3"
                                },
                                {
                                    "SZOBA_FK": "NULL",
                                    "METTOL": "2017-02-18",
                                    "Foglalások száma": "4"
                                },
                                {
                                    "SZOBA_FK": "NULL",
                                    "METTOL": "2017-02-01",
                                    "Foglalások száma": "2"
                                },
                                {
                                    "SZOBA_FK": "NULL",
                                    "METTOL": "2016-06-08",
                                    "Foglalások száma": "4"
                                },
                                {
                                    "SZOBA_FK": "NULL",
                                    "METTOL": "2016-12-17",
                                    "Foglalások száma": "10"
                                },
                                {
                                    "SZOBA_FK": "NULL",
                                    "METTOL": "2016-07-24",
                                    "Foglalások száma": "5"
                                },
                                {
                                    "SZOBA_FK": "NULL",
                                    "METTOL": "2016-05-25",
                                    "Foglalások száma": "2"
                                },
                                {
                                    "SZOBA_FK": "NULL",
                                    "METTOL": "2016-10-26",
                                    "Foglalások száma": "12"
                                },
                                {
                                    "SZOBA_FK": "NULL",
                                    "METTOL": "2016-09-02",
                                    "Foglalások száma": "3"
                                },
                                {
                                    "SZOBA_FK": "NULL",
                                    "METTOL": "2016-09-08",
                                    "Foglalások száma": "3"
                                },
                                {
                                    "SZOBA_FK": "NULL",
                                    "METTOL": "2016-07-18",
                                    "Foglalások száma": "7"
                                },
                                {
                                    "SZOBA_FK": "NULL",
                                    "METTOL": "2016-11-27",
                                    "Foglalások száma": "3"
                                },
                                {
                                    "SZOBA_FK": "NULL",
                                    "METTOL": "2016-04-06",
                                    "Foglalások száma": "5"
                                },
                                {
                                    "SZOBA_FK": "NULL",
                                    "METTOL": "2017-03-01",
                                    "Foglalások száma": "2"
                                },
                                {
                                    "SZOBA_FK": "NULL",
                                    "METTOL": "2016-06-17",
                                    "Foglalások száma": "2"
                                },
                                {
                                    "SZOBA_FK": "NULL",
                                    "METTOL": "2016-11-01",
                                    "Foglalások száma": "3"
                                },
                                {
                                    "SZOBA_FK": "NULL",
                                    "METTOL": "2016-11-07",
                                    "Foglalások száma": "6"
                                },
                                {
                                    "SZOBA_FK": "NULL",
                                    "METTOL": "2016-10-09",
                                    "Foglalások száma": "11"
                                },
                                {
                                    "SZOBA_FK": "NULL",
                                    "METTOL": "2016-10-15",
                                    "Foglalások száma": "6"
                                },
                                {
                                    "SZOBA_FK": "NULL",
                                    "METTOL": "2017-02-09",
                                    "Foglalások száma": "2"
                                },
                                {
                                    "SZOBA_FK": "NULL",
                                    "METTOL": "2016-09-19",
                                    "Foglalások száma": "4"
                                },
                                {
                                    "SZOBA_FK": "NULL",
                                    "METTOL": "2016-04-23",
                                    "Foglalások száma": "2"
                                },
                                {
                                    "SZOBA_FK": "NULL",
                                    "METTOL": "2016-06-11",
                                    "Foglalások száma": "2"
                                },
                                {
                                    "SZOBA_FK": "NULL",
                                    "METTOL": "2016-11-21",
                                    "Foglalások száma": "2"
                                },
                                {
                                    "SZOBA_FK": "NULL",
                                    "METTOL": "2017-01-09",
                                    "Foglalások száma": "5"
                                },
                                {
                                    "SZOBA_FK": "NULL",
                                    "METTOL": "2016-07-01",
                                    "Foglalások száma": "5"
                                },
                                {
                                    "SZOBA_FK": "NULL",
                                    "METTOL": "2017-02-21",
                                    "Foglalások száma": "3"
                                },
                                {
                                    "SZOBA_FK": "NULL",
                                    "METTOL": "2016-08-13",
                                    "Foglalások száma": "2"
                                },
                                {
                                    "SZOBA_FK": "NULL",
                                    "METTOL": "2016-07-21",
                                    "Foglalások száma": "2"
                                },
                                {
                                    "SZOBA_FK": "NULL",
                                    "METTOL": "2016-06-05",
                                    "Foglalások száma": "2"
                                },
                                {
                                    "SZOBA_FK": "NULL",
                                    "METTOL": "2016-05-13",
                                    "Foglalások száma": "2"
                                },
                                {
                                    "SZOBA_FK": "NULL",
                                    "METTOL": "2017-01-23",
                                    "Foglalások száma": "4"
                                },
                                {
                                    "SZOBA_FK": "NULL",
                                    "METTOL": "2016-05-28",
                                    "Foglalások száma": "8"
                                },
                                {
                                    "SZOBA_FK": "NULL",
                                    "METTOL": "2016-10-29",
                                    "Foglalások száma": "5"
                                },
                                {
                                    "SZOBA_FK": "NULL",
                                    "METTOL": "2016-07-15",
                                    "Foglalások száma": "2"
                                },
                                {
                                    "SZOBA_FK": "NULL",
                                    "METTOL": "2016-07-27",
                                    "Foglalások száma": "11"
                                },
                                {
                                    "SZOBA_FK": "NULL",
                                    "METTOL": "2017-01-29",
                                    "Foglalások száma": "2"
                                },
                                {
                                    "SZOBA_FK": "NULL",
                                    "METTOL": "2016-12-14",
                                    "Foglalások száma": "2"
                                },
                                {
                                    "SZOBA_FK": "NULL",
                                    "METTOL": "2016-09-05",
                                    "Foglalások száma": "7"
                                },
                                {
                                    "SZOBA_FK": "NULL",
                                    "METTOL": "2016-05-22",
                                    "Foglalások száma": "2"
                                },
                                {
                                    "SZOBA_FK": "NULL",
                                    "METTOL": "2016-08-04",
                                    "Foglalások száma": "2"
                                },
                                {
                                    "SZOBA_FK": "NULL",
                                    "METTOL": "2016-04-26",
                                    "Foglalások száma": "2"
                                },
                                {
                                    "SZOBA_FK": "NULL",
                                    "METTOL": "2016-07-04",
                                    "Foglalások száma": "5"
                                },
                                {
                                    "SZOBA_FK": "NULL",
                                    "METTOL": "2016-09-16",
                                    "Foglalások száma": "3"
                                },
                                {
                                    "SZOBA_FK": "NULL",
                                    "METTOL": "2017-02-12",
                                    "Foglalások száma": "9"
                                },
                                {
                                    "SZOBA_FK": "NULL",
                                    "METTOL": "2016-11-10",
                                    "Foglalások száma": "4"
                                },
                                {
                                    "SZOBA_FK": "NULL",
                                    "METTOL": "2016-10-06",
                                    "Foglalások száma": "2"
                                },
                                {
                                    "SZOBA_FK": "NULL",
                                    "METTOL": "2016-08-16",
                                    "Foglalások száma": "12"
                                },
                                {
                                    "SZOBA_FK": "NULL",
                                    "METTOL": "2016-05-02",
                                    "Foglalások száma": "2"
                                },
                                {
                                    "SZOBA_FK": "NULL",
                                    "METTOL": "2016-09-28",
                                    "Foglalások száma": "3"
                                },
                                {
                                    "SZOBA_FK": "NULL",
                                    "METTOL": "2017-01-06",
                                    "Foglalások száma": "2"
                                }
                            ]
                        },
                        "text/html": [
                            "<table>",
                            "<tr><th>SZOBA_FK</th><th>METTOL</th><th>Foglalások száma</th></tr>",
                            "<tr><td>1</td><td>NULL</td><td>8</td></tr>",
                            "<tr><td>2</td><td>NULL</td><td>4</td></tr>",
                            "<tr><td>3</td><td>NULL</td><td>8</td></tr>",
                            "<tr><td>4</td><td>NULL</td><td>6</td></tr>",
                            "<tr><td>5</td><td>NULL</td><td>4</td></tr>",
                            "<tr><td>6</td><td>NULL</td><td>6</td></tr>",
                            "<tr><td>7</td><td>NULL</td><td>6</td></tr>",
                            "<tr><td>8</td><td>NULL</td><td>5</td></tr>",
                            "<tr><td>9</td><td>NULL</td><td>6</td></tr>",
                            "<tr><td>10</td><td>NULL</td><td>4</td></tr>",
                            "<tr><td>11</td><td>NULL</td><td>4</td></tr>",
                            "<tr><td>12</td><td>NULL</td><td>9</td></tr>",
                            "<tr><td>13</td><td>NULL</td><td>4</td></tr>",
                            "<tr><td>14</td><td>NULL</td><td>3</td></tr>",
                            "<tr><td>15</td><td>NULL</td><td>6</td></tr>",
                            "<tr><td>16</td><td>NULL</td><td>5</td></tr>",
                            "<tr><td>17</td><td>NULL</td><td>6</td></tr>",
                            "<tr><td>18</td><td>NULL</td><td>6</td></tr>",
                            "<tr><td>19</td><td>NULL</td><td>6</td></tr>",
                            "<tr><td>20</td><td>2016-10-01</td><td>2</td></tr>",
                            "<tr><td>20</td><td>NULL</td><td>5</td></tr>",
                            "<tr><td>21</td><td>NULL</td><td>4</td></tr>",
                            "<tr><td>22</td><td>NULL</td><td>6</td></tr>",
                            "<tr><td>23</td><td>NULL</td><td>3</td></tr>",
                            "<tr><td>24</td><td>NULL</td><td>3</td></tr>",
                            "<tr><td>25</td><td>NULL</td><td>2</td></tr>",
                            "<tr><td>26</td><td>NULL</td><td>2</td></tr>",
                            "<tr><td>27</td><td>NULL</td><td>7</td></tr>",
                            "<tr><td>28</td><td>NULL</td><td>6</td></tr>",
                            "<tr><td>29</td><td>NULL</td><td>6</td></tr>",
                            "<tr><td>30</td><td>NULL</td><td>3</td></tr>",
                            "<tr><td>31</td><td>NULL</td><td>3</td></tr>",
                            "<tr><td>33</td><td>NULL</td><td>6</td></tr>",
                            "<tr><td>34</td><td>NULL</td><td>4</td></tr>",
                            "<tr><td>35</td><td>NULL</td><td>9</td></tr>",
                            "<tr><td>36</td><td>NULL</td><td>6</td></tr>",
                            "<tr><td>37</td><td>NULL</td><td>3</td></tr>",
                            "<tr><td>38</td><td>NULL</td><td>8</td></tr>",
                            "<tr><td>39</td><td>NULL</td><td>7</td></tr>",
                            "<tr><td>40</td><td>2016-06-07</td><td>2</td></tr>",
                            "<tr><td>40</td><td>NULL</td><td>4</td></tr>",
                            "<tr><td>41</td><td>NULL</td><td>2</td></tr>",
                            "<tr><td>42</td><td>NULL</td><td>6</td></tr>",
                            "<tr><td>43</td><td>NULL</td><td>8</td></tr>",
                            "<tr><td>44</td><td>NULL</td><td>6</td></tr>",
                            "<tr><td>45</td><td>2016-08-20</td><td>2</td></tr>",
                            "<tr><td>45</td><td>NULL</td><td>5</td></tr>",
                            "<tr><td>46</td><td>NULL</td><td>4</td></tr>",
                            "<tr><td>47</td><td>NULL</td><td>2</td></tr>",
                            "<tr><td>48</td><td>NULL</td><td>9</td></tr>",
                            "<tr><td>49</td><td>NULL</td><td>7</td></tr>",
                            "<tr><td>50</td><td>NULL</td><td>4</td></tr>",
                            "<tr><td>51</td><td>NULL</td><td>5</td></tr>",
                            "<tr><td>52</td><td>NULL</td><td>5</td></tr>",
                            "<tr><td>53</td><td>NULL</td><td>2</td></tr>",
                            "<tr><td>54</td><td>NULL</td><td>6</td></tr>",
                            "<tr><td>55</td><td>NULL</td><td>8</td></tr>",
                            "<tr><td>56</td><td>NULL</td><td>2</td></tr>",
                            "<tr><td>57</td><td>NULL</td><td>4</td></tr>",
                            "<tr><td>58</td><td>NULL</td><td>13</td></tr>",
                            "<tr><td>59</td><td>NULL</td><td>7</td></tr>",
                            "<tr><td>61</td><td>NULL</td><td>5</td></tr>",
                            "<tr><td>62</td><td>NULL</td><td>5</td></tr>",
                            "<tr><td>63</td><td>NULL</td><td>4</td></tr>",
                            "<tr><td>64</td><td>NULL</td><td>6</td></tr>",
                            "<tr><td>66</td><td>NULL</td><td>4</td></tr>",
                            "<tr><td>67</td><td>NULL</td><td>6</td></tr>",
                            "<tr><td>68</td><td>NULL</td><td>3</td></tr>",
                            "<tr><td>69</td><td>NULL</td><td>4</td></tr>",
                            "<tr><td>70</td><td>NULL</td><td>11</td></tr>",
                            "<tr><td>71</td><td>NULL</td><td>3</td></tr>",
                            "<tr><td>72</td><td>NULL</td><td>4</td></tr>",
                            "<tr><td>73</td><td>NULL</td><td>4</td></tr>",
                            "<tr><td>74</td><td>NULL</td><td>9</td></tr>",
                            "<tr><td>75</td><td>NULL</td><td>3</td></tr>",
                            "<tr><td>76</td><td>NULL</td><td>3</td></tr>",
                            "<tr><td>77</td><td>NULL</td><td>6</td></tr>",
                            "<tr><td>78</td><td>NULL</td><td>6</td></tr>",
                            "<tr><td>79</td><td>NULL</td><td>5</td></tr>",
                            "<tr><td>80</td><td>NULL</td><td>7</td></tr>",
                            "<tr><td>81</td><td>NULL</td><td>5</td></tr>",
                            "<tr><td>82</td><td>NULL</td><td>6</td></tr>",
                            "<tr><td>83</td><td>NULL</td><td>8</td></tr>",
                            "<tr><td>84</td><td>NULL</td><td>4</td></tr>",
                            "<tr><td>85</td><td>NULL</td><td>4</td></tr>",
                            "<tr><td>86</td><td>NULL</td><td>5</td></tr>",
                            "<tr><td>87</td><td>NULL</td><td>5</td></tr>",
                            "<tr><td>88</td><td>NULL</td><td>8</td></tr>",
                            "<tr><td>89</td><td>NULL</td><td>8</td></tr>",
                            "<tr><td>90</td><td>NULL</td><td>4</td></tr>",
                            "<tr><td>91</td><td>NULL</td><td>4</td></tr>",
                            "<tr><td>92</td><td>NULL</td><td>6</td></tr>",
                            "<tr><td>93</td><td>NULL</td><td>5</td></tr>",
                            "<tr><td>94</td><td>NULL</td><td>10</td></tr>",
                            "<tr><td>95</td><td>NULL</td><td>4</td></tr>",
                            "<tr><td>96</td><td>NULL</td><td>7</td></tr>",
                            "<tr><td>97</td><td>2016-07-27</td><td>2</td></tr>",
                            "<tr><td>97</td><td>NULL</td><td>7</td></tr>",
                            "<tr><td>98</td><td>NULL</td><td>4</td></tr>",
                            "<tr><td>99</td><td>NULL</td><td>5</td></tr>",
                            "<tr><td>100</td><td>NULL</td><td>4</td></tr>",
                            "<tr><td>101</td><td>NULL</td><td>3</td></tr>",
                            "<tr><td>102</td><td>NULL</td><td>2</td></tr>",
                            "<tr><td>103</td><td>NULL</td><td>4</td></tr>",
                            "<tr><td>104</td><td>NULL</td><td>4</td></tr>",
                            "<tr><td>105</td><td>NULL</td><td>2</td></tr>",
                            "<tr><td>106</td><td>NULL</td><td>6</td></tr>",
                            "<tr><td>107</td><td>NULL</td><td>5</td></tr>",
                            "<tr><td>108</td><td>NULL</td><td>2</td></tr>",
                            "<tr><td>109</td><td>NULL</td><td>7</td></tr>",
                            "<tr><td>110</td><td>NULL</td><td>8</td></tr>",
                            "<tr><td>111</td><td>NULL</td><td>5</td></tr>",
                            "<tr><td>112</td><td>NULL</td><td>5</td></tr>",
                            "<tr><td>113</td><td>NULL</td><td>5</td></tr>",
                            "<tr><td>114</td><td>NULL</td><td>4</td></tr>",
                            "<tr><td>115</td><td>NULL</td><td>7</td></tr>",
                            "<tr><td>116</td><td>NULL</td><td>2</td></tr>",
                            "<tr><td>117</td><td>NULL</td><td>8</td></tr>",
                            "<tr><td>118</td><td>NULL</td><td>7</td></tr>",
                            "<tr><td>119</td><td>NULL</td><td>5</td></tr>",
                            "<tr><td>120</td><td>NULL</td><td>6</td></tr>",
                            "<tr><td>121</td><td>NULL</td><td>8</td></tr>",
                            "<tr><td>122</td><td>NULL</td><td>9</td></tr>",
                            "<tr><td>123</td><td>NULL</td><td>5</td></tr>",
                            "<tr><td>124</td><td>NULL</td><td>6</td></tr>",
                            "<tr><td>126</td><td>NULL</td><td>6</td></tr>",
                            "<tr><td>127</td><td>NULL</td><td>7</td></tr>",
                            "<tr><td>128</td><td>NULL</td><td>5</td></tr>",
                            "<tr><td>129</td><td>NULL</td><td>4</td></tr>",
                            "<tr><td>130</td><td>NULL</td><td>6</td></tr>",
                            "<tr><td>131</td><td>NULL</td><td>5</td></tr>",
                            "<tr><td>132</td><td>NULL</td><td>6</td></tr>",
                            "<tr><td>133</td><td>NULL</td><td>6</td></tr>",
                            "<tr><td>134</td><td>NULL</td><td>6</td></tr>",
                            "<tr><td>135</td><td>NULL</td><td>3</td></tr>",
                            "<tr><td>136</td><td>NULL</td><td>3</td></tr>",
                            "<tr><td>137</td><td>NULL</td><td>6</td></tr>",
                            "<tr><td>138</td><td>NULL</td><td>7</td></tr>",
                            "<tr><td>139</td><td>NULL</td><td>7</td></tr>",
                            "<tr><td>140</td><td>NULL</td><td>8</td></tr>",
                            "<tr><td>141</td><td>NULL</td><td>6</td></tr>",
                            "<tr><td>142</td><td>NULL</td><td>2</td></tr>",
                            "<tr><td>143</td><td>NULL</td><td>7</td></tr>",
                            "<tr><td>144</td><td>NULL</td><td>5</td></tr>",
                            "<tr><td>145</td><td>NULL</td><td>6</td></tr>",
                            "<tr><td>146</td><td>NULL</td><td>6</td></tr>",
                            "<tr><td>148</td><td>2016-08-23</td><td>2</td></tr>",
                            "<tr><td>148</td><td>NULL</td><td>6</td></tr>",
                            "<tr><td>149</td><td>NULL</td><td>7</td></tr>",
                            "<tr><td>150</td><td>2016-10-01</td><td>2</td></tr>",
                            "<tr><td>150</td><td>NULL</td><td>6</td></tr>",
                            "<tr><td>151</td><td>NULL</td><td>3</td></tr>",
                            "<tr><td>152</td><td>NULL</td><td>4</td></tr>",
                            "<tr><td>153</td><td>NULL</td><td>5</td></tr>",
                            "<tr><td>154</td><td>NULL</td><td>5</td></tr>",
                            "<tr><td>155</td><td>NULL</td><td>5</td></tr>",
                            "<tr><td>156</td><td>NULL</td><td>7</td></tr>",
                            "<tr><td>157</td><td>NULL</td><td>5</td></tr>",
                            "<tr><td>158</td><td>NULL</td><td>3</td></tr>",
                            "<tr><td>160</td><td>2016-06-07</td><td>2</td></tr>",
                            "<tr><td>160</td><td>NULL</td><td>5</td></tr>",
                            "<tr><td>161</td><td>NULL</td><td>6</td></tr>",
                            "<tr><td>162</td><td>NULL</td><td>3</td></tr>",
                            "<tr><td>163</td><td>NULL</td><td>7</td></tr>",
                            "<tr><td>164</td><td>NULL</td><td>5</td></tr>",
                            "<tr><td>165</td><td>2016-06-03</td><td>3</td></tr>",
                            "<tr><td>165</td><td>NULL</td><td>7</td></tr>",
                            "<tr><td>166</td><td>NULL</td><td>3</td></tr>",
                            "<tr><td>167</td><td>NULL</td><td>2</td></tr>",
                            "<tr><td>168</td><td>NULL</td><td>5</td></tr>",
                            "<tr><td>169</td><td>NULL</td><td>6</td></tr>",
                            "<tr><td>170</td><td>NULL</td><td>5</td></tr>",
                            "<tr><td>171</td><td>NULL</td><td>5</td></tr>",
                            "<tr><td>172</td><td>NULL</td><td>9</td></tr>",
                            "<tr><td>173</td><td>NULL</td><td>4</td></tr>",
                            "<tr><td>174</td><td>NULL</td><td>4</td></tr>",
                            "<tr><td>175</td><td>NULL</td><td>5</td></tr>",
                            "<tr><td>176</td><td>NULL</td><td>6</td></tr>",
                            "<tr><td>177</td><td>NULL</td><td>4</td></tr>",
                            "<tr><td>178</td><td>NULL</td><td>4</td></tr>",
                            "<tr><td>179</td><td>NULL</td><td>3</td></tr>",
                            "<tr><td>180</td><td>NULL</td><td>3</td></tr>",
                            "<tr><td>181</td><td>NULL</td><td>6</td></tr>",
                            "<tr><td>182</td><td>2016-10-30</td><td>2</td></tr>",
                            "<tr><td>182</td><td>NULL</td><td>12</td></tr>",
                            "<tr><td>183</td><td>NULL</td><td>4</td></tr>",
                            "<tr><td>184</td><td>NULL</td><td>4</td></tr>",
                            "<tr><td>185</td><td>NULL</td><td>12</td></tr>",
                            "<tr><td>186</td><td>NULL</td><td>4</td></tr>",
                            "<tr><td>187</td><td>NULL</td><td>7</td></tr>",
                            "<tr><td>188</td><td>NULL</td><td>6</td></tr>",
                            "<tr><td>189</td><td>NULL</td><td>5</td></tr>",
                            "<tr><td>190</td><td>NULL</td><td>5</td></tr>",
                            "<tr><td>191</td><td>NULL</td><td>5</td></tr>",
                            "<tr><td>192</td><td>NULL</td><td>2</td></tr>",
                            "<tr><td>193</td><td>NULL</td><td>7</td></tr>",
                            "<tr><td>195</td><td>NULL</td><td>6</td></tr>",
                            "<tr><td>196</td><td>NULL</td><td>4</td></tr>",
                            "<tr><td>197</td><td>NULL</td><td>6</td></tr>",
                            "<tr><td>198</td><td>NULL</td><td>8</td></tr>",
                            "<tr><td>NULL</td><td>NULL</td><td>1027</td></tr>",
                            "<tr><td>NULL</td><td>2016-11-16</td><td>4</td></tr>",
                            "<tr><td>NULL</td><td>2017-01-24</td><td>2</td></tr>",
                            "<tr><td>NULL</td><td>2017-01-01</td><td>4</td></tr>",
                            "<tr><td>NULL</td><td>2017-02-16</td><td>9</td></tr>",
                            "<tr><td>NULL</td><td>2016-12-15</td><td>3</td></tr>",
                            "<tr><td>NULL</td><td>2016-04-21</td><td>2</td></tr>",
                            "<tr><td>NULL</td><td>2016-10-30</td><td>14</td></tr>",
                            "<tr><td>NULL</td><td>2016-08-31</td><td>2</td></tr>",
                            "<tr><td>NULL</td><td>2016-06-06</td><td>14</td></tr>",
                            "<tr><td>NULL</td><td>2016-07-16</td><td>2</td></tr>",
                            "<tr><td>NULL</td><td>2016-07-22</td><td>4</td></tr>",
                            "<tr><td>NULL</td><td>2016-10-24</td><td>3</td></tr>",
                            "<tr><td>NULL</td><td>2016-09-17</td><td>4</td></tr>",
                            "<tr><td>NULL</td><td>2016-04-27</td><td>3</td></tr>",
                            "<tr><td>NULL</td><td>2017-01-15</td><td>2</td></tr>",
                            "<tr><td>NULL</td><td>2016-11-25</td><td>6</td></tr>",
                            "<tr><td>NULL</td><td>2016-05-17</td><td>3</td></tr>",
                            "<tr><td>NULL</td><td>2016-07-30</td><td>4</td></tr>",
                            "<tr><td>NULL</td><td>2016-11-05</td><td>8</td></tr>",
                            "<tr><td>NULL</td><td>2016-08-25</td><td>3</td></tr>",
                            "<tr><td>NULL</td><td>2016-12-26</td><td>3</td></tr>",
                            "<tr><td>NULL</td><td>2016-09-23</td><td>4</td></tr>",
                            "<tr><td>NULL</td><td>2016-08-05</td><td>3</td></tr>",
                            "<tr><td>NULL</td><td>2016-10-07</td><td>2</td></tr>",
                            "<tr><td>NULL</td><td>2016-06-23</td><td>4</td></tr>",
                            "<tr><td>NULL</td><td>2017-02-27</td><td>2</td></tr>",
                            "<tr><td>NULL</td><td>2016-10-01</td><td>18</td></tr>",
                            "<tr><td>NULL</td><td>2016-11-19</td><td>8</td></tr>",
                            "<tr><td>NULL</td><td>2016-06-03</td><td>9</td></tr>",
                            "<tr><td>NULL</td><td>2016-10-21</td><td>4</td></tr>",
                            "<tr><td>NULL</td><td>2016-12-06</td><td>5</td></tr>",
                            "<tr><td>NULL</td><td>2016-12-29</td><td>5</td></tr>",
                            "<tr><td>NULL</td><td>2017-02-13</td><td>5</td></tr>",
                            "<tr><td>NULL</td><td>2016-04-10</td><td>9</td></tr>",
                            "<tr><td>NULL</td><td>2016-06-09</td><td>3</td></tr>",
                            "<tr><td>NULL</td><td>2016-07-13</td><td>5</td></tr>",
                            "<tr><td>NULL</td><td>2017-02-04</td><td>6</td></tr>",
                            "<tr><td>NULL</td><td>2016-10-27</td><td>4</td></tr>",
                            "<tr><td>NULL</td><td>2016-07-19</td><td>3</td></tr>",
                            "<tr><td>NULL</td><td>2016-10-10</td><td>2</td></tr>",
                            "<tr><td>NULL</td><td>2017-01-12</td><td>2</td></tr>",
                            "<tr><td>NULL</td><td>2016-09-14</td><td>2</td></tr>",
                            "<tr><td>NULL</td><td>2016-09-20</td><td>2</td></tr>",
                            "<tr><td>NULL</td><td>2016-08-28</td><td>5</td></tr>",
                            "<tr><td>NULL</td><td>2016-07-10</td><td>2</td></tr>",
                            "<tr><td>NULL</td><td>2017-02-10</td><td>2</td></tr>",
                            "<tr><td>NULL</td><td>2016-08-02</td><td>2</td></tr>",
                            "<tr><td>NULL</td><td>2017-01-18</td><td>2</td></tr>",
                            "<tr><td>NULL</td><td>2016-04-24</td><td>3</td></tr>",
                            "<tr><td>NULL</td><td>2016-06-20</td><td>2</td></tr>",
                            "<tr><td>NULL</td><td>2017-02-24</td><td>5</td></tr>",
                            "<tr><td>NULL</td><td>2016-10-04</td><td>3</td></tr>",
                            "<tr><td>NULL</td><td>2016-11-22</td><td>6</td></tr>",
                            "<tr><td>NULL</td><td>2016-05-14</td><td>4</td></tr>",
                            "<tr><td>NULL</td><td>2016-05-08</td><td>5</td></tr>",
                            "<tr><td>NULL</td><td>2016-08-14</td><td>3</td></tr>",
                            "<tr><td>NULL</td><td>2016-09-29</td><td>2</td></tr>",
                            "<tr><td>NULL</td><td>2016-06-27</td><td>3</td></tr>",
                            "<tr><td>NULL</td><td>2016-10-22</td><td>4</td></tr>",
                            "<tr><td>NULL</td><td>2016-06-04</td><td>6</td></tr>",
                            "<tr><td>NULL</td><td>2016-05-12</td><td>3</td></tr>",
                            "<tr><td>NULL</td><td>2016-12-07</td><td>3</td></tr>",
                            "<tr><td>NULL</td><td>2016-04-19</td><td>4</td></tr>",
                            "<tr><td>NULL</td><td>2017-01-22</td><td>7</td></tr>",
                            "<tr><td>NULL</td><td>2016-07-14</td><td>6</td></tr>",
                            "<tr><td>NULL</td><td>2016-10-16</td><td>3</td></tr>",
                            "<tr><td>NULL</td><td>2016-10-28</td><td>6</td></tr>",
                            "<tr><td>NULL</td><td>2016-08-29</td><td>6</td></tr>",
                            "<tr><td>NULL</td><td>2016-09-12</td><td>3</td></tr>",
                            "<tr><td>NULL</td><td>2016-05-29</td><td>3</td></tr>",
                            "<tr><td>NULL</td><td>2017-01-30</td><td>3</td></tr>",
                            "<tr><td>NULL</td><td>2017-02-05</td><td>5</td></tr>",
                            "<tr><td>NULL</td><td>2017-01-13</td><td>2</td></tr>",
                            "<tr><td>NULL</td><td>2017-03-03</td><td>2</td></tr>",
                            "<tr><td>NULL</td><td>2016-12-24</td><td>3</td></tr>",
                            "<tr><td>NULL</td><td>2016-07-28</td><td>7</td></tr>",
                            "<tr><td>NULL</td><td>2016-08-03</td><td>4</td></tr>",
                            "<tr><td>NULL</td><td>2016-09-15</td><td>3</td></tr>",
                            "<tr><td>NULL</td><td>2016-08-23</td><td>5</td></tr>",
                            "<tr><td>NULL</td><td>2016-12-01</td><td>2</td></tr>",
                            "<tr><td>NULL</td><td>2017-01-19</td><td>3</td></tr>",
                            "<tr><td>NULL</td><td>2016-10-05</td><td>2</td></tr>",
                            "<tr><td>NULL</td><td>2016-08-17</td><td>4</td></tr>",
                            "<tr><td>NULL</td><td>2016-11-11</td><td>2</td></tr>",
                            "<tr><td>NULL</td><td>2016-11-17</td><td>2</td></tr>",
                            "<tr><td>NULL</td><td>2017-02-25</td><td>2</td></tr>",
                            "<tr><td>NULL</td><td>2016-04-16</td><td>2</td></tr>",
                            "<tr><td>NULL</td><td>2016-05-09</td><td>7</td></tr>",
                            "<tr><td>NULL</td><td>2016-04-22</td><td>2</td></tr>",
                            "<tr><td>NULL</td><td>2016-12-04</td><td>3</td></tr>",
                            "<tr><td>NULL</td><td>2016-06-07</td><td>11</td></tr>",
                            "<tr><td>NULL</td><td>2016-07-25</td><td>2</td></tr>",
                            "<tr><td>NULL</td><td>2016-10-19</td><td>4</td></tr>",
                            "<tr><td>NULL</td><td>2016-07-17</td><td>3</td></tr>",
                            "<tr><td>NULL</td><td>2016-12-18</td><td>2</td></tr>",
                            "<tr><td>NULL</td><td>2016-09-09</td><td>2</td></tr>",
                            "<tr><td>NULL</td><td>2016-06-01</td><td>2</td></tr>",
                            "<tr><td>NULL</td><td>2016-07-08</td><td>3</td></tr>",
                            "<tr><td>NULL</td><td>2016-11-28</td><td>3</td></tr>",
                            "<tr><td>NULL</td><td>2017-02-08</td><td>5</td></tr>",
                            "<tr><td>NULL</td><td>2016-10-08</td><td>7</td></tr>",
                            "<tr><td>NULL</td><td>2017-01-16</td><td>8</td></tr>",
                            "<tr><td>NULL</td><td>2016-08-26</td><td>2</td></tr>",
                            "<tr><td>NULL</td><td>2016-11-08</td><td>4</td></tr>",
                            "<tr><td>NULL</td><td>2016-07-31</td><td>2</td></tr>",
                            "<tr><td>NULL</td><td>2016-09-18</td><td>4</td></tr>",
                            "<tr><td>NULL</td><td>2016-08-20</td><td>5</td></tr>",
                            "<tr><td>NULL</td><td>2016-08-06</td><td>3</td></tr>",
                            "<tr><td>NULL</td><td>2016-09-26</td><td>2</td></tr>",
                            "<tr><td>NULL</td><td>2017-01-10</td><td>2</td></tr>",
                            "<tr><td>NULL</td><td>2016-06-24</td><td>2</td></tr>",
                            "<tr><td>NULL</td><td>2016-05-10</td><td>2</td></tr>",
                            "<tr><td>NULL</td><td>2016-07-20</td><td>10</td></tr>",
                            "<tr><td>NULL</td><td>2016-06-02</td><td>4</td></tr>",
                            "<tr><td>NULL</td><td>2017-02-20</td><td>4</td></tr>",
                            "<tr><td>NULL</td><td>2016-04-17</td><td>2</td></tr>",
                            "<tr><td>NULL</td><td>2017-02-14</td><td>3</td></tr>",
                            "<tr><td>NULL</td><td>2016-07-26</td><td>2</td></tr>",
                            "<tr><td>NULL</td><td>2016-05-27</td><td>3</td></tr>",
                            "<tr><td>NULL</td><td>2016-09-10</td><td>2</td></tr>",
                            "<tr><td>NULL</td><td>2016-12-05</td><td>4</td></tr>",
                            "<tr><td>NULL</td><td>2016-07-12</td><td>3</td></tr>",
                            "<tr><td>NULL</td><td>2016-10-20</td><td>4</td></tr>",
                            "<tr><td>NULL</td><td>2017-01-28</td><td>3</td></tr>",
                            "<tr><td>NULL</td><td>2017-02-03</td><td>3</td></tr>",
                            "<tr><td>NULL</td><td>2016-08-01</td><td>4</td></tr>",
                            "<tr><td>NULL</td><td>2016-05-21</td><td>5</td></tr>",
                            "<tr><td>NULL</td><td>2016-07-09</td><td>2</td></tr>",
                            "<tr><td>NULL</td><td>2016-11-03</td><td>7</td></tr>",
                            "<tr><td>NULL</td><td>2016-12-22</td><td>3</td></tr>",
                            "<tr><td>NULL</td><td>2017-01-17</td><td>5</td></tr>",
                            "<tr><td>NULL</td><td>2016-08-21</td><td>2</td></tr>",
                            "<tr><td>NULL</td><td>2016-06-13</td><td>5</td></tr>",
                            "<tr><td>NULL</td><td>2016-11-29</td><td>4</td></tr>",
                            "<tr><td>NULL</td><td>2016-07-03</td><td>5</td></tr>",
                            "<tr><td>NULL</td><td>2016-11-09</td><td>3</td></tr>",
                            "<tr><td>NULL</td><td>2016-11-23</td><td>8</td></tr>",
                            "<tr><td>NULL</td><td>2016-05-01</td><td>5</td></tr>",
                            "<tr><td>NULL</td><td>2017-01-05</td><td>3</td></tr>",
                            "<tr><td>NULL</td><td>2016-08-09</td><td>2</td></tr>",
                            "<tr><td>NULL</td><td>2016-08-15</td><td>2</td></tr>",
                            "<tr><td>NULL</td><td>2016-10-03</td><td>3</td></tr>",
                            "<tr><td>NULL</td><td>2017-02-23</td><td>6</td></tr>",
                            "<tr><td>NULL</td><td>2016-10-23</td><td>7</td></tr>",
                            "<tr><td>NULL</td><td>2017-01-02</td><td>2</td></tr>",
                            "<tr><td>NULL</td><td>2016-11-15</td><td>3</td></tr>",
                            "<tr><td>NULL</td><td>2017-02-17</td><td>2</td></tr>",
                            "<tr><td>NULL</td><td>2016-10-17</td><td>3</td></tr>",
                            "<tr><td>NULL</td><td>2016-09-13</td><td>4</td></tr>",
                            "<tr><td>NULL</td><td>2016-07-23</td><td>2</td></tr>",
                            "<tr><td>NULL</td><td>2016-04-08</td><td>2</td></tr>",
                            "<tr><td>NULL</td><td>2016-04-14</td><td>2</td></tr>",
                            "<tr><td>NULL</td><td>2016-05-30</td><td>11</td></tr>",
                            "<tr><td>NULL</td><td>2016-04-28</td><td>2</td></tr>",
                            "<tr><td>NULL</td><td>2016-06-16</td><td>8</td></tr>",
                            "<tr><td>NULL</td><td>2016-05-24</td><td>4</td></tr>",
                            "<tr><td>NULL</td><td>2017-02-06</td><td>3</td></tr>",
                            "<tr><td>NULL</td><td>2016-07-29</td><td>2</td></tr>",
                            "<tr><td>NULL</td><td>2016-06-10</td><td>10</td></tr>",
                            "<tr><td>NULL</td><td>2016-12-02</td><td>3</td></tr>",
                            "<tr><td>NULL</td><td>2016-05-18</td><td>4</td></tr>",
                            "<tr><td>NULL</td><td>2016-08-24</td><td>10</td></tr>",
                            "<tr><td>NULL</td><td>2016-07-06</td><td>3</td></tr>",
                            "<tr><td>NULL</td><td>2016-11-06</td><td>3</td></tr>",
                            "<tr><td>NULL</td><td>2016-12-25</td><td>9</td></tr>",
                            "<tr><td>NULL</td><td>2016-08-18</td><td>2</td></tr>",
                            "<tr><td>NULL</td><td>2016-06-30</td><td>3</td></tr>",
                            "<tr><td>NULL</td><td>2016-11-12</td><td>2</td></tr>",
                            "<tr><td>NULL</td><td>2016-06-22</td><td>4</td></tr>",
                            "<tr><td>NULL</td><td>2017-02-26</td><td>4</td></tr>",
                            "<tr><td>NULL</td><td>2016-08-12</td><td>6</td></tr>",
                            "<tr><td>NULL</td><td>2016-09-30</td><td>8</td></tr>",
                            "<tr><td>NULL</td><td>2017-01-03</td><td>3</td></tr>",
                            "<tr><td>NULL</td><td>2017-02-18</td><td>4</td></tr>",
                            "<tr><td>NULL</td><td>2017-02-01</td><td>2</td></tr>",
                            "<tr><td>NULL</td><td>2016-06-08</td><td>4</td></tr>",
                            "<tr><td>NULL</td><td>2016-12-17</td><td>10</td></tr>",
                            "<tr><td>NULL</td><td>2016-07-24</td><td>5</td></tr>",
                            "<tr><td>NULL</td><td>2016-05-25</td><td>2</td></tr>",
                            "<tr><td>NULL</td><td>2016-10-26</td><td>12</td></tr>",
                            "<tr><td>NULL</td><td>2016-09-02</td><td>3</td></tr>",
                            "<tr><td>NULL</td><td>2016-09-08</td><td>3</td></tr>",
                            "<tr><td>NULL</td><td>2016-07-18</td><td>7</td></tr>",
                            "<tr><td>NULL</td><td>2016-11-27</td><td>3</td></tr>",
                            "<tr><td>NULL</td><td>2016-04-06</td><td>5</td></tr>",
                            "<tr><td>NULL</td><td>2017-03-01</td><td>2</td></tr>",
                            "<tr><td>NULL</td><td>2016-06-17</td><td>2</td></tr>",
                            "<tr><td>NULL</td><td>2016-11-01</td><td>3</td></tr>",
                            "<tr><td>NULL</td><td>2016-11-07</td><td>6</td></tr>",
                            "<tr><td>NULL</td><td>2016-10-09</td><td>11</td></tr>",
                            "<tr><td>NULL</td><td>2016-10-15</td><td>6</td></tr>",
                            "<tr><td>NULL</td><td>2017-02-09</td><td>2</td></tr>",
                            "<tr><td>NULL</td><td>2016-09-19</td><td>4</td></tr>",
                            "<tr><td>NULL</td><td>2016-04-23</td><td>2</td></tr>",
                            "<tr><td>NULL</td><td>2016-06-11</td><td>2</td></tr>",
                            "<tr><td>NULL</td><td>2016-11-21</td><td>2</td></tr>",
                            "<tr><td>NULL</td><td>2017-01-09</td><td>5</td></tr>",
                            "<tr><td>NULL</td><td>2016-07-01</td><td>5</td></tr>",
                            "<tr><td>NULL</td><td>2017-02-21</td><td>3</td></tr>",
                            "<tr><td>NULL</td><td>2016-08-13</td><td>2</td></tr>",
                            "<tr><td>NULL</td><td>2016-07-21</td><td>2</td></tr>",
                            "<tr><td>NULL</td><td>2016-06-05</td><td>2</td></tr>",
                            "<tr><td>NULL</td><td>2016-05-13</td><td>2</td></tr>",
                            "<tr><td>NULL</td><td>2017-01-23</td><td>4</td></tr>",
                            "<tr><td>NULL</td><td>2016-05-28</td><td>8</td></tr>",
                            "<tr><td>NULL</td><td>2016-10-29</td><td>5</td></tr>",
                            "<tr><td>NULL</td><td>2016-07-15</td><td>2</td></tr>",
                            "<tr><td>NULL</td><td>2016-07-27</td><td>11</td></tr>",
                            "<tr><td>NULL</td><td>2017-01-29</td><td>2</td></tr>",
                            "<tr><td>NULL</td><td>2016-12-14</td><td>2</td></tr>",
                            "<tr><td>NULL</td><td>2016-09-05</td><td>7</td></tr>",
                            "<tr><td>NULL</td><td>2016-05-22</td><td>2</td></tr>",
                            "<tr><td>NULL</td><td>2016-08-04</td><td>2</td></tr>",
                            "<tr><td>NULL</td><td>2016-04-26</td><td>2</td></tr>",
                            "<tr><td>NULL</td><td>2016-07-04</td><td>5</td></tr>",
                            "<tr><td>NULL</td><td>2016-09-16</td><td>3</td></tr>",
                            "<tr><td>NULL</td><td>2017-02-12</td><td>9</td></tr>",
                            "<tr><td>NULL</td><td>2016-11-10</td><td>4</td></tr>",
                            "<tr><td>NULL</td><td>2016-10-06</td><td>2</td></tr>",
                            "<tr><td>NULL</td><td>2016-08-16</td><td>12</td></tr>",
                            "<tr><td>NULL</td><td>2016-05-02</td><td>2</td></tr>",
                            "<tr><td>NULL</td><td>2016-09-28</td><td>3</td></tr>",
                            "<tr><td>NULL</td><td>2017-01-06</td><td>2</td></tr>",
                            "</table>"
                        ]
                    }
                }
            ],
            "execution_count": 8
        },
        {
            "cell_type": "markdown",
            "source": [
                "## **5\\. Feladat**\n",
                "\n",
                "**A Szoba tábla Ferohely oszlopára végezzük el a következő számításokat:**\n",
                "\n",
                "- Különböző értékek száma\n",
                "- Minimum, maximum, átlag\n",
                "- Null és Not null értékek százalékos aránya"
            ],
            "metadata": {
                "azdata_cell_guid": "cdace511-35aa-47bb-988e-24d752b1eb13"
            },
            "attachments": {}
        },
        {
            "cell_type": "code",
            "source": [
                "SELECT COUNT(DISTINCT FEROHELY) AS \"Különböző értékek száma\",\r\n",
                "       MIN(FEROHELY) AS \"Minimum\",\r\n",
                "       MAX(FEROHELY) AS \"Maximum\",\r\n",
                "       AVG(FEROHELY) AS \"Átlag\",\r\n",
                "       (COUNT(*) - COUNT(FEROHELY)) * 100.0 / COUNT(*) AS \"Null értékek százalékos aránya\",\r\n",
                "       COUNT(FEROHELY) * 100.0 / COUNT(*) AS \"Not null értékek százalékos aránya\"\r\n",
                "FROM Szoba"
            ],
            "metadata": {
                "azdata_cell_guid": "4af66324-509e-487f-b8ba-af6f2b2e822b",
                "language": "sql"
            },
            "outputs": [
                {
                    "output_type": "display_data",
                    "data": {
                        "text/html": "(1 row affected)"
                    },
                    "metadata": {}
                },
                {
                    "output_type": "display_data",
                    "data": {
                        "text/html": "Total execution time: 00:00:00.015"
                    },
                    "metadata": {}
                },
                {
                    "output_type": "execute_result",
                    "metadata": {},
                    "execution_count": 11,
                    "data": {
                        "application/vnd.dataresource+json": {
                            "schema": {
                                "fields": [
                                    {
                                        "name": "Különböző értékek száma"
                                    },
                                    {
                                        "name": "Minimum"
                                    },
                                    {
                                        "name": "Maximum"
                                    },
                                    {
                                        "name": "Átlag"
                                    },
                                    {
                                        "name": "Null értékek százalékos aránya"
                                    },
                                    {
                                        "name": "Not null értékek százalékos aránya"
                                    }
                                ]
                            },
                            "data": [
                                {
                                    "Különböző értékek száma": "4",
                                    "Minimum": "1",
                                    "Maximum": "4",
                                    "Átlag": "2",
                                    "Null értékek százalékos aránya": "0.000000000000",
                                    "Not null értékek százalékos aránya": "100.000000000000"
                                }
                            ]
                        },
                        "text/html": [
                            "<table>",
                            "<tr><th>Különböző értékek száma</th><th>Minimum</th><th>Maximum</th><th>Átlag</th><th>Null értékek százalékos aránya</th><th>Not null értékek százalékos aránya</th></tr>",
                            "<tr><td>4</td><td>1</td><td>4</td><td>2</td><td>0.000000000000</td><td>100.000000000000</td></tr>",
                            "</table>"
                        ]
                    }
                }
            ],
            "execution_count": 11
        },
        {
            "cell_type": "markdown",
            "source": [
                "## **6\\. Feladat**\n",
                "\n",
                "**Valósítsa meg REDIS-ben a következő táblákat:**\n",
                "\n",
                "- <span style=\"box-sizing: border-box; font-size: 0.9375rem;\">IRO(ID, nev, nemzetiseg)</span>\n",
                "- KONYV(ID, cim, mufaj, IRO\\_ID)\n",
                "\n",
                "Vigyen fel táblánként legalább 2-2 sornyi adatot!"
            ],
            "metadata": {
                "azdata_cell_guid": "a8cf7548-f2a3-42b6-b666-16b2caa59535"
            },
            "attachments": {}
        },
        {
            "cell_type": "code",
            "source": [
                "> HSET IRO:1 ID 1 nev 'Gárdonyi Géza' nemzetiseg 'magyar'\r\n",
                "(integer) 3\r\n",
                "\r\n",
                "> HSET IRO:2 ID 2 nev 'Jókai Mór' nemzetiseg 'magyar'\r\n",
                "(integer) 3\r\n",
                "\r\n",
                "> HSET KONYV:1 ID 1 cim 'Egri csillagok' mufaj 'regény' IRO_ID 1\r\n",
                "(integer) 4\r\n",
                "\r\n",
                "> HSET KONYV:2 ID 2 cim 'Kőszívű ember fiai' mufaj 'mese' IRO_ID 2\r\n",
                "(integer) 4"
            ],
            "metadata": {
                "azdata_cell_guid": "db1c8e6c-a357-47ad-a2ac-591482878c00",
                "language": "sql",
                "tags": []
            },
            "outputs": [],
            "execution_count": null
        },
        {
            "cell_type": "markdown",
            "source": [
                "![](data:image/png;base64,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)"
            ],
            "metadata": {
                "azdata_cell_guid": "b87dbe14-6c72-4338-8add-b60fb6fbdf28"
            },
            "attachments": {}
        },
        {
            "cell_type": "markdown",
            "source": [
                "![](data:image/png;base64,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)"
            ],
            "metadata": {
                "azdata_cell_guid": "aff64687-a3e8-48ee-a7e6-6f70e10edbb1"
            },
            "attachments": {}
        },
        {
            "cell_type": "markdown",
            "source": [
                "## **7\\. Feladat**\n",
                "\n",
                "**Cassandra CQL Shellben hozza létre a következő táblát:**\n",
                "\n",
                "STUDENT(ID, Nev, Teljesitett\\_felevek, Eredmenyek, Nyelvtudas)\n",
                "\n",
                "- Az ID legyen az elsődleges kulcs\n",
                "- A Teljesitett félévek legyen LIST, tartalma egész számok, pl: 1, 2, 3\n",
                "- Az Eredmenyek legyen MAP, tartalma, hogy melyik félévben mennyi volt az átlag, pl: 1: 3,00, 2: 4.55, 3: 4,10\n",
                "- A Nyelvtudas legyen SET, tartalma a nyelvek megnevezése\n",
                "\n",
                "Vigyen fel legalább 2 rekordot!"
            ],
            "metadata": {
                "azdata_cell_guid": "456bdb19-6eff-4b33-8533-9dfea43e18d4"
            },
            "attachments": {}
        },
        {
            "cell_type": "code",
            "source": [
                "-- Tábla létrehozása\r\n",
                "CREATE TABLE STUDENT (\r\n",
                "  ID int PRIMARY KEY,\r\n",
                "  Nev text,\r\n",
                "  Teljesitett_felevek list<int>,\r\n",
                "  Eredmenyek map<int, decimal>,\r\n",
                "  Nyelvtudas set<text>\r\n",
                ");\r\n",
                "\r\n",
                "-- 2 Rekordok felvitele\r\n",
                "INSERT INTO STUDENT (ID, Nev, Teljesitett_felevek, Eredmenyek, Nyelvtudas)\r\n",
                "VALUES (1, 'Gárdonyi Géza', [1, 2], {1: 5.00, 2: 4.2}, {'angol', 'német'});\r\n",
                "\r\n",
                "INSERT INTO STUDENT (ID, Nev, Teljesitett_felevek, Eredmenyek, Nyelvtudas)\r\n",
                "VALUES (2, 'Jókai Mór', [1, 2, 3, 4], {1: 4.90, 2: 4.00, 3: 3.00, 4: 5.00}, {'angol', 'spanyol'});"
            ],
            "metadata": {
                "azdata_cell_guid": "d291a5b0-96e0-4042-a8b2-df3d549c7899",
                "language": "sql",
                "tags": []
            },
            "outputs": [],
            "execution_count": null
        },
        {
            "cell_type": "markdown",
            "source": [
                "![](data:image/png;base64,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)"
            ],
            "metadata": {
                "azdata_cell_guid": "56ba1267-e598-46e9-a184-277b8de5847b"
            },
            "attachments": {}
        },
        {
            "cell_type": "markdown",
            "source": [
                "## **8\\. Feladat**\n",
                "\n",
                "**A Neo4j Sandbox-ban vagy a Desktopban jelenítsük meg azon személyeket, akik egy filmben szerepeltek Tom Hanks-sel.**\n",
                "\n",
                "- Egy szereplő neve csak egyszer jelenjen meg\n",
                "- Tom Hanks ne legyen benne a listában"
            ],
            "metadata": {
                "azdata_cell_guid": "8482465c-c64a-4859-ac29-dd1cf0cb6913"
            },
            "attachments": {}
        },
        {
            "cell_type": "code",
            "source": [
                "MATCH (p:Person {name:\"Tom Hanks\"})-[:ACTED_IN]->(movie)<-[:ACTED_IN]-(coActor:Person)\r\n",
                "WHERE p <> coActor\r\n",
                "RETURN DISTINCT coActor.name"
            ],
            "metadata": {
                "azdata_cell_guid": "ca58e8db-3ce6-446e-b149-963d178a09f4",
                "language": "sql"
            },
            "outputs": [],
            "execution_count": null
        },
        {
            "cell_type": "markdown",
            "source": [
                "![](data:image/png;base64,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)"
            ],
            "metadata": {
                "azdata_cell_guid": "800f0135-bce9-47e6-820e-a9626e3c2843"
            },
            "attachments": {}
        }
    ]
}