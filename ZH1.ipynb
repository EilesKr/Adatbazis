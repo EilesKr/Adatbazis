{
    "metadata": {
        "kernelspec": {
            "name": "SQL",
            "display_name": "SQL",
            "language": "sql"
        },
        "language_info": {
            "name": "sql",
            "version": ""
        }
    },
    "nbformat_minor": 2,
    "nbformat": 4,
    "cells": [
        {
            "cell_type": "markdown",
            "source": [
                "Listázzuk azon vendégek nevét és email-címét, akik az 1990-es év második felében születtek! \n",
                "\n",
                "a. Rendezzük a listát a születés hónapja szerint növekvő sorrendbe!"
            ],
            "metadata": {
                "azdata_cell_guid": "02276432-29c3-4483-b561-b567efbbc270"
            },
            "attachments": {}
        },
        {
            "cell_type": "code",
            "source": [
                "SELECT nev,\r\n",
                "       EMAIL\r\n",
                "FROM Vendeg\r\n",
                "WHERE SZUL_DAT BETWEEN '1990.07.01' AND '1990.12.31'\r\n",
                "ORDER BY MONTH(SZUL_DAT) ASC"
            ],
            "metadata": {
                "azdata_cell_guid": "11afb5d5-85e4-4ec6-9e5e-6cb685fc6299",
                "language": "sql",
                "tags": []
            },
            "outputs": [
                {
                    "output_type": "display_data",
                    "data": {
                        "text/html": "(4 rows affected)"
                    },
                    "metadata": {}
                },
                {
                    "output_type": "display_data",
                    "data": {
                        "text/html": "Total execution time: 00:00:00.004"
                    },
                    "metadata": {}
                },
                {
                    "output_type": "execute_result",
                    "metadata": {},
                    "execution_count": 6,
                    "data": {
                        "application/vnd.dataresource+json": {
                            "schema": {
                                "fields": [
                                    {
                                        "name": "nev"
                                    },
                                    {
                                        "name": "EMAIL"
                                    }
                                ]
                            },
                            "data": [
                                {
                                    "nev": "Bodor Szabolcs",
                                    "EMAIL": "szabolcs.bodor@mail.hu"
                                },
                                {
                                    "nev": "Bosnyák Ilona",
                                    "EMAIL": "ilona3@gmail.com"
                                },
                                {
                                    "nev": "Szabó Julianna",
                                    "EMAIL": "julianna4@gmail.com"
                                },
                                {
                                    "nev": "Berta Dávid",
                                    "EMAIL": "david4@gmail.com"
                                }
                            ]
                        },
                        "text/html": [
                            "<table>",
                            "<tr><th>nev</th><th>EMAIL</th></tr>",
                            "<tr><td>Bodor Szabolcs</td><td>szabolcs.bodor@mail.hu</td></tr>",
                            "<tr><td>Bosnyák Ilona</td><td>ilona3@gmail.com</td></tr>",
                            "<tr><td>Szabó Julianna</td><td>julianna4@gmail.com</td></tr>",
                            "<tr><td>Berta Dávid</td><td>david4@gmail.com</td></tr>",
                            "</table>"
                        ]
                    }
                }
            ],
            "execution_count": 6
        },
        {
            "cell_type": "markdown",
            "source": [
                "Készítsen lekérdezést, amely kiszámolja, hogy az egyes szálláshely típusok átlagosan hány csillagosak!\n",
                "\n",
                "a. Az átlag értékét kerekítsük egészre\n",
                "\n",
                "b. Ne vegyük figyelembe azokat az eredményeket, ahol panzióról van szó, és az átlagos csillagszám nem éri el a 3-at"
            ],
            "metadata": {
                "azdata_cell_guid": "c4a74593-ab68-408a-b344-e82082e79e01"
            },
            "attachments": {}
        },
        {
            "cell_type": "code",
            "source": [
                "SELECT tipus,\r\n",
                "        CASE\r\n",
                "        WHEN TIPUS <> 'panzió' then ROUND(AVG(CSILLAGOK_SZAMA), 0)\r\n",
                "        WHEN TIPUS = 'panzió' AND CSILLAGOK_SZAMA < 3 then ROUND(AVG(CSILLAGOK_SZAMA), 0)\r\n",
                "       END\r\n",
                "FROM szallashely\r\n",
                "GROUP By tipus"
            ],
            "metadata": {
                "azdata_cell_guid": "5bccd304-5bdc-4329-b558-8ddb2dfff034",
                "language": "sql",
                "tags": []
            },
            "outputs": [
                {
                    "output_type": "error",
                    "evalue": "Msg 8120, Level 16, State 1, Line 4\r\nColumn 'szallashely.CSILLAGOK_SZAMA' is invalid in the select list because it is not contained in either an aggregate function or the GROUP BY clause.",
                    "ename": "",
                    "traceback": []
                },
                {
                    "output_type": "display_data",
                    "data": {
                        "text/html": "Total execution time: 00:00:00.002"
                    },
                    "metadata": {}
                }
            ],
            "execution_count": 37
        },
        {
            "cell_type": "markdown",
            "source": [
                "Listázzuk azon szobák adatait, amelyeket még nem adtak ki (ha vannak olyanok).\n",
                "\n",
                "a. Jelenítsük meg a szobához tartozó szálláshely nevét is!\n",
                "\n",
                "b. Egy új oszlopban jelenítsük meg, hogy a szálláshely típusa panzió\\_e (Igen/Nem)"
            ],
            "metadata": {
                "azdata_cell_guid": "4429b25c-610f-472e-8e4b-de3edfd8555b"
            },
            "attachments": {}
        },
        {
            "cell_type": "code",
            "source": [
                "SELECT sz.SZOBA_ID,\r\n",
                "        sz.SZALLAS_FK,\r\n",
                "        sz.SZOBA_SZAMA,\r\n",
                "        sz.FEROHELY,\r\n",
                "        sz.POTAGY,\r\n",
                "        sz.KLIMAS,\r\n",
                "        sza.SZALLAS_NEV,\r\n",
                "        IIF(sza.TIPUS = 'panzió','Igen','Nem')\r\n",
                "FROM Foglalas f RIGHT JOIN Szoba sz ON f.SZOBA_FK = sz.SZOBA_ID\r\n",
                "                JOIN Szallashely sza ON sz.SZALLAS_FK = sza.SZALLAS_ID\r\n",
                "WHERE f.SZOBA_FK IS NULL"
            ],
            "metadata": {
                "azdata_cell_guid": "12ebd764-d5e2-4791-b320-00d1ba158675",
                "language": "sql"
            },
            "outputs": [
                {
                    "output_type": "display_data",
                    "data": {
                        "text/html": "(97 rows affected)"
                    },
                    "metadata": {}
                },
                {
                    "output_type": "display_data",
                    "data": {
                        "text/html": "Total execution time: 00:00:00.038"
                    },
                    "metadata": {}
                },
                {
                    "output_type": "execute_result",
                    "metadata": {},
                    "execution_count": 34,
                    "data": {
                        "application/vnd.dataresource+json": {
                            "schema": {
                                "fields": [
                                    {
                                        "name": "SZOBA_ID"
                                    },
                                    {
                                        "name": "SZALLAS_FK"
                                    },
                                    {
                                        "name": "SZOBA_SZAMA"
                                    },
                                    {
                                        "name": "FEROHELY"
                                    },
                                    {
                                        "name": "POTAGY"
                                    },
                                    {
                                        "name": "KLIMAS"
                                    },
                                    {
                                        "name": "SZALLAS_NEV"
                                    },
                                    {
                                        "name": "(No column name)"
                                    }
                                ]
                            },
                            "data": [
                                {
                                    "SZOBA_ID": "159",
                                    "SZALLAS_FK": "10",
                                    "SZOBA_SZAMA": "25",
                                    "FEROHELY": "3",
                                    "POTAGY": "1",
                                    "KLIMAS": "n",
                                    "SZALLAS_NEV": "Lagúna Hotel",
                                    "(No column name)": "Nem"
                                },
                                {
                                    "SZOBA_ID": "199",
                                    "SZALLAS_FK": "12",
                                    "SZOBA_SZAMA": "35",
                                    "FEROHELY": "3",
                                    "POTAGY": "2",
                                    "KLIMAS": "i",
                                    "SZALLAS_NEV": "Gold Hotel",
                                    "(No column name)": "Nem"
                                },
                                {
                                    "SZOBA_ID": "200",
                                    "SZALLAS_FK": "12",
                                    "SZOBA_SZAMA": "36",
                                    "FEROHELY": "2",
                                    "POTAGY": "0",
                                    "KLIMAS": "i",
                                    "SZALLAS_NEV": "Gold Hotel",
                                    "(No column name)": "Nem"
                                },
                                {
                                    "SZOBA_ID": "201",
                                    "SZALLAS_FK": "12",
                                    "SZOBA_SZAMA": "37",
                                    "FEROHELY": "3",
                                    "POTAGY": "1",
                                    "KLIMAS": "n",
                                    "SZALLAS_NEV": "Gold Hotel",
                                    "(No column name)": "Nem"
                                },
                                {
                                    "SZOBA_ID": "202",
                                    "SZALLAS_FK": "12",
                                    "SZOBA_SZAMA": "38",
                                    "FEROHELY": "3",
                                    "POTAGY": "1",
                                    "KLIMAS": "i",
                                    "SZALLAS_NEV": "Gold Hotel",
                                    "(No column name)": "Nem"
                                },
                                {
                                    "SZOBA_ID": "203",
                                    "SZALLAS_FK": "12",
                                    "SZOBA_SZAMA": "39",
                                    "FEROHELY": "3",
                                    "POTAGY": "0",
                                    "KLIMAS": "i",
                                    "SZALLAS_NEV": "Gold Hotel",
                                    "(No column name)": "Nem"
                                },
                                {
                                    "SZOBA_ID": "204",
                                    "SZALLAS_FK": "12",
                                    "SZOBA_SZAMA": "40",
                                    "FEROHELY": "3",
                                    "POTAGY": "1",
                                    "KLIMAS": "i",
                                    "SZALLAS_NEV": "Gold Hotel",
                                    "(No column name)": "Nem"
                                },
                                {
                                    "SZOBA_ID": "205",
                                    "SZALLAS_FK": "12",
                                    "SZOBA_SZAMA": "41",
                                    "FEROHELY": "3",
                                    "POTAGY": "0",
                                    "KLIMAS": "i",
                                    "SZALLAS_NEV": "Gold Hotel",
                                    "(No column name)": "Nem"
                                },
                                {
                                    "SZOBA_ID": "206",
                                    "SZALLAS_FK": "12",
                                    "SZOBA_SZAMA": "42",
                                    "FEROHELY": "2",
                                    "POTAGY": "1",
                                    "KLIMAS": "i",
                                    "SZALLAS_NEV": "Gold Hotel",
                                    "(No column name)": "Nem"
                                },
                                {
                                    "SZOBA_ID": "207",
                                    "SZALLAS_FK": "12",
                                    "SZOBA_SZAMA": "43",
                                    "FEROHELY": "2",
                                    "POTAGY": "1",
                                    "KLIMAS": "i",
                                    "SZALLAS_NEV": "Gold Hotel",
                                    "(No column name)": "Nem"
                                },
                                {
                                    "SZOBA_ID": "208",
                                    "SZALLAS_FK": "12",
                                    "SZOBA_SZAMA": "44",
                                    "FEROHELY": "2",
                                    "POTAGY": "1",
                                    "KLIMAS": "i",
                                    "SZALLAS_NEV": "Gold Hotel",
                                    "(No column name)": "Nem"
                                },
                                {
                                    "SZOBA_ID": "209",
                                    "SZALLAS_FK": "12",
                                    "SZOBA_SZAMA": "45",
                                    "FEROHELY": "3",
                                    "POTAGY": "2",
                                    "KLIMAS": "n",
                                    "SZALLAS_NEV": "Gold Hotel",
                                    "(No column name)": "Nem"
                                },
                                {
                                    "SZOBA_ID": "210",
                                    "SZALLAS_FK": "12",
                                    "SZOBA_SZAMA": "46",
                                    "FEROHELY": "2",
                                    "POTAGY": "0",
                                    "KLIMAS": "i",
                                    "SZALLAS_NEV": "Gold Hotel",
                                    "(No column name)": "Nem"
                                },
                                {
                                    "SZOBA_ID": "211",
                                    "SZALLAS_FK": "12",
                                    "SZOBA_SZAMA": "47",
                                    "FEROHELY": "2",
                                    "POTAGY": "1",
                                    "KLIMAS": "i",
                                    "SZALLAS_NEV": "Gold Hotel",
                                    "(No column name)": "Nem"
                                },
                                {
                                    "SZOBA_ID": "212",
                                    "SZALLAS_FK": "12",
                                    "SZOBA_SZAMA": "48",
                                    "FEROHELY": "3",
                                    "POTAGY": "0",
                                    "KLIMAS": "n",
                                    "SZALLAS_NEV": "Gold Hotel",
                                    "(No column name)": "Nem"
                                },
                                {
                                    "SZOBA_ID": "213",
                                    "SZALLAS_FK": "12",
                                    "SZOBA_SZAMA": "49",
                                    "FEROHELY": "3",
                                    "POTAGY": "0",
                                    "KLIMAS": "i",
                                    "SZALLAS_NEV": "Gold Hotel",
                                    "(No column name)": "Nem"
                                },
                                {
                                    "SZOBA_ID": "214",
                                    "SZALLAS_FK": "12",
                                    "SZOBA_SZAMA": "50",
                                    "FEROHELY": "3",
                                    "POTAGY": "1",
                                    "KLIMAS": "i",
                                    "SZALLAS_NEV": "Gold Hotel",
                                    "(No column name)": "Nem"
                                },
                                {
                                    "SZOBA_ID": "215",
                                    "SZALLAS_FK": "13",
                                    "SZOBA_SZAMA": "1",
                                    "FEROHELY": "2",
                                    "POTAGY": "1",
                                    "KLIMAS": "i",
                                    "SZALLAS_NEV": "Riviéra Panzió",
                                    "(No column name)": "Igen"
                                },
                                {
                                    "SZOBA_ID": "216",
                                    "SZALLAS_FK": "13",
                                    "SZOBA_SZAMA": "2",
                                    "FEROHELY": "3",
                                    "POTAGY": "1",
                                    "KLIMAS": "i",
                                    "SZALLAS_NEV": "Riviéra Panzió",
                                    "(No column name)": "Igen"
                                },
                                {
                                    "SZOBA_ID": "217",
                                    "SZALLAS_FK": "13",
                                    "SZOBA_SZAMA": "3",
                                    "FEROHELY": "2",
                                    "POTAGY": "1",
                                    "KLIMAS": "n",
                                    "SZALLAS_NEV": "Riviéra Panzió",
                                    "(No column name)": "Igen"
                                },
                                {
                                    "SZOBA_ID": "218",
                                    "SZALLAS_FK": "13",
                                    "SZOBA_SZAMA": "4",
                                    "FEROHELY": "3",
                                    "POTAGY": "0",
                                    "KLIMAS": "i",
                                    "SZALLAS_NEV": "Riviéra Panzió",
                                    "(No column name)": "Igen"
                                },
                                {
                                    "SZOBA_ID": "219",
                                    "SZALLAS_FK": "13",
                                    "SZOBA_SZAMA": "5",
                                    "FEROHELY": "2",
                                    "POTAGY": "0",
                                    "KLIMAS": "n",
                                    "SZALLAS_NEV": "Riviéra Panzió",
                                    "(No column name)": "Igen"
                                },
                                {
                                    "SZOBA_ID": "220",
                                    "SZALLAS_FK": "13",
                                    "SZOBA_SZAMA": "6",
                                    "FEROHELY": "3",
                                    "POTAGY": "0",
                                    "KLIMAS": "i",
                                    "SZALLAS_NEV": "Riviéra Panzió",
                                    "(No column name)": "Igen"
                                },
                                {
                                    "SZOBA_ID": "221",
                                    "SZALLAS_FK": "13",
                                    "SZOBA_SZAMA": "7",
                                    "FEROHELY": "3",
                                    "POTAGY": "0",
                                    "KLIMAS": "i",
                                    "SZALLAS_NEV": "Riviéra Panzió",
                                    "(No column name)": "Igen"
                                },
                                {
                                    "SZOBA_ID": "222",
                                    "SZALLAS_FK": "13",
                                    "SZOBA_SZAMA": "8",
                                    "FEROHELY": "2",
                                    "POTAGY": "0",
                                    "KLIMAS": "n",
                                    "SZALLAS_NEV": "Riviéra Panzió",
                                    "(No column name)": "Igen"
                                },
                                {
                                    "SZOBA_ID": "223",
                                    "SZALLAS_FK": "13",
                                    "SZOBA_SZAMA": "9",
                                    "FEROHELY": "2",
                                    "POTAGY": "1",
                                    "KLIMAS": "i",
                                    "SZALLAS_NEV": "Riviéra Panzió",
                                    "(No column name)": "Igen"
                                },
                                {
                                    "SZOBA_ID": "224",
                                    "SZALLAS_FK": "13",
                                    "SZOBA_SZAMA": "10",
                                    "FEROHELY": "2",
                                    "POTAGY": "0",
                                    "KLIMAS": "i",
                                    "SZALLAS_NEV": "Riviéra Panzió",
                                    "(No column name)": "Igen"
                                },
                                {
                                    "SZOBA_ID": "225",
                                    "SZALLAS_FK": "13",
                                    "SZOBA_SZAMA": "11",
                                    "FEROHELY": "2",
                                    "POTAGY": "1",
                                    "KLIMAS": "i",
                                    "SZALLAS_NEV": "Riviéra Panzió",
                                    "(No column name)": "Igen"
                                },
                                {
                                    "SZOBA_ID": "226",
                                    "SZALLAS_FK": "13",
                                    "SZOBA_SZAMA": "12",
                                    "FEROHELY": "3",
                                    "POTAGY": "1",
                                    "KLIMAS": "n",
                                    "SZALLAS_NEV": "Riviéra Panzió",
                                    "(No column name)": "Igen"
                                },
                                {
                                    "SZOBA_ID": "227",
                                    "SZALLAS_FK": "14",
                                    "SZOBA_SZAMA": "1",
                                    "FEROHELY": "2",
                                    "POTAGY": "1",
                                    "KLIMAS": "i",
                                    "SZALLAS_NEV": "Nyárfás Vendégház",
                                    "(No column name)": "Nem"
                                },
                                {
                                    "SZOBA_ID": "228",
                                    "SZALLAS_FK": "14",
                                    "SZOBA_SZAMA": "2",
                                    "FEROHELY": "3",
                                    "POTAGY": "0",
                                    "KLIMAS": "i",
                                    "SZALLAS_NEV": "Nyárfás Vendégház",
                                    "(No column name)": "Nem"
                                },
                                {
                                    "SZOBA_ID": "229",
                                    "SZALLAS_FK": "14",
                                    "SZOBA_SZAMA": "3",
                                    "FEROHELY": "2",
                                    "POTAGY": "0",
                                    "KLIMAS": "i",
                                    "SZALLAS_NEV": "Nyárfás Vendégház",
                                    "(No column name)": "Nem"
                                },
                                {
                                    "SZOBA_ID": "230",
                                    "SZALLAS_FK": "14",
                                    "SZOBA_SZAMA": "4",
                                    "FEROHELY": "3",
                                    "POTAGY": "2",
                                    "KLIMAS": "i",
                                    "SZALLAS_NEV": "Nyárfás Vendégház",
                                    "(No column name)": "Nem"
                                },
                                {
                                    "SZOBA_ID": "231",
                                    "SZALLAS_FK": "15",
                                    "SZOBA_SZAMA": "1",
                                    "FEROHELY": "2",
                                    "POTAGY": "0",
                                    "KLIMAS": "i",
                                    "SZALLAS_NEV": "Tímárház Panzió",
                                    "(No column name)": "Igen"
                                },
                                {
                                    "SZOBA_ID": "232",
                                    "SZALLAS_FK": "15",
                                    "SZOBA_SZAMA": "2",
                                    "FEROHELY": "2",
                                    "POTAGY": "0",
                                    "KLIMAS": "i",
                                    "SZALLAS_NEV": "Tímárház Panzió",
                                    "(No column name)": "Igen"
                                },
                                {
                                    "SZOBA_ID": "233",
                                    "SZALLAS_FK": "15",
                                    "SZOBA_SZAMA": "3",
                                    "FEROHELY": "3",
                                    "POTAGY": "0",
                                    "KLIMAS": "n",
                                    "SZALLAS_NEV": "Tímárház Panzió",
                                    "(No column name)": "Igen"
                                },
                                {
                                    "SZOBA_ID": "234",
                                    "SZALLAS_FK": "15",
                                    "SZOBA_SZAMA": "4",
                                    "FEROHELY": "3",
                                    "POTAGY": "1",
                                    "KLIMAS": "i",
                                    "SZALLAS_NEV": "Tímárház Panzió",
                                    "(No column name)": "Igen"
                                },
                                {
                                    "SZOBA_ID": "235",
                                    "SZALLAS_FK": "15",
                                    "SZOBA_SZAMA": "5",
                                    "FEROHELY": "3",
                                    "POTAGY": "0",
                                    "KLIMAS": "i",
                                    "SZALLAS_NEV": "Tímárház Panzió",
                                    "(No column name)": "Igen"
                                },
                                {
                                    "SZOBA_ID": "236",
                                    "SZALLAS_FK": "15",
                                    "SZOBA_SZAMA": "6",
                                    "FEROHELY": "3",
                                    "POTAGY": "1",
                                    "KLIMAS": "n",
                                    "SZALLAS_NEV": "Tímárház Panzió",
                                    "(No column name)": "Igen"
                                },
                                {
                                    "SZOBA_ID": "237",
                                    "SZALLAS_FK": "15",
                                    "SZOBA_SZAMA": "7",
                                    "FEROHELY": "2",
                                    "POTAGY": "2",
                                    "KLIMAS": "n",
                                    "SZALLAS_NEV": "Tímárház Panzió",
                                    "(No column name)": "Igen"
                                },
                                {
                                    "SZOBA_ID": "238",
                                    "SZALLAS_FK": "15",
                                    "SZOBA_SZAMA": "8",
                                    "FEROHELY": "3",
                                    "POTAGY": "1",
                                    "KLIMAS": "i",
                                    "SZALLAS_NEV": "Tímárház Panzió",
                                    "(No column name)": "Igen"
                                },
                                {
                                    "SZOBA_ID": "239",
                                    "SZALLAS_FK": "15",
                                    "SZOBA_SZAMA": "9",
                                    "FEROHELY": "2",
                                    "POTAGY": "2",
                                    "KLIMAS": "i",
                                    "SZALLAS_NEV": "Tímárház Panzió",
                                    "(No column name)": "Igen"
                                },
                                {
                                    "SZOBA_ID": "240",
                                    "SZALLAS_FK": "15",
                                    "SZOBA_SZAMA": "10",
                                    "FEROHELY": "3",
                                    "POTAGY": "0",
                                    "KLIMAS": "i",
                                    "SZALLAS_NEV": "Tímárház Panzió",
                                    "(No column name)": "Igen"
                                },
                                {
                                    "SZOBA_ID": "241",
                                    "SZALLAS_FK": "15",
                                    "SZOBA_SZAMA": "11",
                                    "FEROHELY": "2",
                                    "POTAGY": "0",
                                    "KLIMAS": "i",
                                    "SZALLAS_NEV": "Tímárház Panzió",
                                    "(No column name)": "Igen"
                                },
                                {
                                    "SZOBA_ID": "242",
                                    "SZALLAS_FK": "15",
                                    "SZOBA_SZAMA": "12",
                                    "FEROHELY": "2",
                                    "POTAGY": "1",
                                    "KLIMAS": "i",
                                    "SZALLAS_NEV": "Tímárház Panzió",
                                    "(No column name)": "Igen"
                                },
                                {
                                    "SZOBA_ID": "243",
                                    "SZALLAS_FK": "16",
                                    "SZOBA_SZAMA": "1",
                                    "FEROHELY": "2",
                                    "POTAGY": "0",
                                    "KLIMAS": "i",
                                    "SZALLAS_NEV": "Bagoly Hotel",
                                    "(No column name)": "Nem"
                                },
                                {
                                    "SZOBA_ID": "244",
                                    "SZALLAS_FK": "16",
                                    "SZOBA_SZAMA": "2",
                                    "FEROHELY": "2",
                                    "POTAGY": "1",
                                    "KLIMAS": "i",
                                    "SZALLAS_NEV": "Bagoly Hotel",
                                    "(No column name)": "Nem"
                                },
                                {
                                    "SZOBA_ID": "245",
                                    "SZALLAS_FK": "16",
                                    "SZOBA_SZAMA": "3",
                                    "FEROHELY": "2",
                                    "POTAGY": "1",
                                    "KLIMAS": "i",
                                    "SZALLAS_NEV": "Bagoly Hotel",
                                    "(No column name)": "Nem"
                                },
                                {
                                    "SZOBA_ID": "246",
                                    "SZALLAS_FK": "16",
                                    "SZOBA_SZAMA": "4",
                                    "FEROHELY": "2",
                                    "POTAGY": "0",
                                    "KLIMAS": "i",
                                    "SZALLAS_NEV": "Bagoly Hotel",
                                    "(No column name)": "Nem"
                                },
                                {
                                    "SZOBA_ID": "247",
                                    "SZALLAS_FK": "16",
                                    "SZOBA_SZAMA": "5",
                                    "FEROHELY": "2",
                                    "POTAGY": "0",
                                    "KLIMAS": "i",
                                    "SZALLAS_NEV": "Bagoly Hotel",
                                    "(No column name)": "Nem"
                                },
                                {
                                    "SZOBA_ID": "248",
                                    "SZALLAS_FK": "16",
                                    "SZOBA_SZAMA": "6",
                                    "FEROHELY": "2",
                                    "POTAGY": "2",
                                    "KLIMAS": "i",
                                    "SZALLAS_NEV": "Bagoly Hotel",
                                    "(No column name)": "Nem"
                                },
                                {
                                    "SZOBA_ID": "249",
                                    "SZALLAS_FK": "16",
                                    "SZOBA_SZAMA": "7",
                                    "FEROHELY": "2",
                                    "POTAGY": "1",
                                    "KLIMAS": "n",
                                    "SZALLAS_NEV": "Bagoly Hotel",
                                    "(No column name)": "Nem"
                                },
                                {
                                    "SZOBA_ID": "250",
                                    "SZALLAS_FK": "16",
                                    "SZOBA_SZAMA": "8",
                                    "FEROHELY": "3",
                                    "POTAGY": "1",
                                    "KLIMAS": "n",
                                    "SZALLAS_NEV": "Bagoly Hotel",
                                    "(No column name)": "Nem"
                                },
                                {
                                    "SZOBA_ID": "251",
                                    "SZALLAS_FK": "16",
                                    "SZOBA_SZAMA": "9",
                                    "FEROHELY": "3",
                                    "POTAGY": "0",
                                    "KLIMAS": "n",
                                    "SZALLAS_NEV": "Bagoly Hotel",
                                    "(No column name)": "Nem"
                                },
                                {
                                    "SZOBA_ID": "252",
                                    "SZALLAS_FK": "16",
                                    "SZOBA_SZAMA": "10",
                                    "FEROHELY": "3",
                                    "POTAGY": "1",
                                    "KLIMAS": "i",
                                    "SZALLAS_NEV": "Bagoly Hotel",
                                    "(No column name)": "Nem"
                                },
                                {
                                    "SZOBA_ID": "253",
                                    "SZALLAS_FK": "16",
                                    "SZOBA_SZAMA": "11",
                                    "FEROHELY": "2",
                                    "POTAGY": "0",
                                    "KLIMAS": "i",
                                    "SZALLAS_NEV": "Bagoly Hotel",
                                    "(No column name)": "Nem"
                                },
                                {
                                    "SZOBA_ID": "254",
                                    "SZALLAS_FK": "16",
                                    "SZOBA_SZAMA": "12",
                                    "FEROHELY": "2",
                                    "POTAGY": "0",
                                    "KLIMAS": "i",
                                    "SZALLAS_NEV": "Bagoly Hotel",
                                    "(No column name)": "Nem"
                                },
                                {
                                    "SZOBA_ID": "255",
                                    "SZALLAS_FK": "16",
                                    "SZOBA_SZAMA": "13",
                                    "FEROHELY": "3",
                                    "POTAGY": "0",
                                    "KLIMAS": "n",
                                    "SZALLAS_NEV": "Bagoly Hotel",
                                    "(No column name)": "Nem"
                                },
                                {
                                    "SZOBA_ID": "256",
                                    "SZALLAS_FK": "16",
                                    "SZOBA_SZAMA": "14",
                                    "FEROHELY": "3",
                                    "POTAGY": "1",
                                    "KLIMAS": "i",
                                    "SZALLAS_NEV": "Bagoly Hotel",
                                    "(No column name)": "Nem"
                                },
                                {
                                    "SZOBA_ID": "257",
                                    "SZALLAS_FK": "16",
                                    "SZOBA_SZAMA": "15",
                                    "FEROHELY": "2",
                                    "POTAGY": "0",
                                    "KLIMAS": "i",
                                    "SZALLAS_NEV": "Bagoly Hotel",
                                    "(No column name)": "Nem"
                                },
                                {
                                    "SZOBA_ID": "258",
                                    "SZALLAS_FK": "16",
                                    "SZOBA_SZAMA": "16",
                                    "FEROHELY": "2",
                                    "POTAGY": "0",
                                    "KLIMAS": "i",
                                    "SZALLAS_NEV": "Bagoly Hotel",
                                    "(No column name)": "Nem"
                                },
                                {
                                    "SZOBA_ID": "259",
                                    "SZALLAS_FK": "16",
                                    "SZOBA_SZAMA": "17",
                                    "FEROHELY": "2",
                                    "POTAGY": "0",
                                    "KLIMAS": "i",
                                    "SZALLAS_NEV": "Bagoly Hotel",
                                    "(No column name)": "Nem"
                                },
                                {
                                    "SZOBA_ID": "260",
                                    "SZALLAS_FK": "16",
                                    "SZOBA_SZAMA": "18",
                                    "FEROHELY": "2",
                                    "POTAGY": "0",
                                    "KLIMAS": "i",
                                    "SZALLAS_NEV": "Bagoly Hotel",
                                    "(No column name)": "Nem"
                                },
                                {
                                    "SZOBA_ID": "261",
                                    "SZALLAS_FK": "16",
                                    "SZOBA_SZAMA": "19",
                                    "FEROHELY": "1",
                                    "POTAGY": "1",
                                    "KLIMAS": "n",
                                    "SZALLAS_NEV": "Bagoly Hotel",
                                    "(No column name)": "Nem"
                                },
                                {
                                    "SZOBA_ID": "262",
                                    "SZALLAS_FK": "16",
                                    "SZOBA_SZAMA": "20",
                                    "FEROHELY": "1",
                                    "POTAGY": "0",
                                    "KLIMAS": "n",
                                    "SZALLAS_NEV": "Bagoly Hotel",
                                    "(No column name)": "Nem"
                                },
                                {
                                    "SZOBA_ID": "263",
                                    "SZALLAS_FK": "17",
                                    "SZOBA_SZAMA": "1",
                                    "FEROHELY": "2",
                                    "POTAGY": "2",
                                    "KLIMAS": "i",
                                    "SZALLAS_NEV": "Szarvas Hotel",
                                    "(No column name)": "Nem"
                                },
                                {
                                    "SZOBA_ID": "264",
                                    "SZALLAS_FK": "17",
                                    "SZOBA_SZAMA": "2",
                                    "FEROHELY": "3",
                                    "POTAGY": "0",
                                    "KLIMAS": "i",
                                    "SZALLAS_NEV": "Szarvas Hotel",
                                    "(No column name)": "Nem"
                                },
                                {
                                    "SZOBA_ID": "265",
                                    "SZALLAS_FK": "17",
                                    "SZOBA_SZAMA": "3",
                                    "FEROHELY": "3",
                                    "POTAGY": "0",
                                    "KLIMAS": "i",
                                    "SZALLAS_NEV": "Szarvas Hotel",
                                    "(No column name)": "Nem"
                                },
                                {
                                    "SZOBA_ID": "266",
                                    "SZALLAS_FK": "17",
                                    "SZOBA_SZAMA": "4",
                                    "FEROHELY": "2",
                                    "POTAGY": "1",
                                    "KLIMAS": "i",
                                    "SZALLAS_NEV": "Szarvas Hotel",
                                    "(No column name)": "Nem"
                                },
                                {
                                    "SZOBA_ID": "267",
                                    "SZALLAS_FK": "17",
                                    "SZOBA_SZAMA": "5",
                                    "FEROHELY": "2",
                                    "POTAGY": "1",
                                    "KLIMAS": "n",
                                    "SZALLAS_NEV": "Szarvas Hotel",
                                    "(No column name)": "Nem"
                                },
                                {
                                    "SZOBA_ID": "268",
                                    "SZALLAS_FK": "17",
                                    "SZOBA_SZAMA": "6",
                                    "FEROHELY": "2",
                                    "POTAGY": "2",
                                    "KLIMAS": "n",
                                    "SZALLAS_NEV": "Szarvas Hotel",
                                    "(No column name)": "Nem"
                                },
                                {
                                    "SZOBA_ID": "269",
                                    "SZALLAS_FK": "17",
                                    "SZOBA_SZAMA": "7",
                                    "FEROHELY": "2",
                                    "POTAGY": "1",
                                    "KLIMAS": "i",
                                    "SZALLAS_NEV": "Szarvas Hotel",
                                    "(No column name)": "Nem"
                                },
                                {
                                    "SZOBA_ID": "270",
                                    "SZALLAS_FK": "17",
                                    "SZOBA_SZAMA": "8",
                                    "FEROHELY": "3",
                                    "POTAGY": "0",
                                    "KLIMAS": "n",
                                    "SZALLAS_NEV": "Szarvas Hotel",
                                    "(No column name)": "Nem"
                                },
                                {
                                    "SZOBA_ID": "271",
                                    "SZALLAS_FK": "17",
                                    "SZOBA_SZAMA": "9",
                                    "FEROHELY": "3",
                                    "POTAGY": "0",
                                    "KLIMAS": "i",
                                    "SZALLAS_NEV": "Szarvas Hotel",
                                    "(No column name)": "Nem"
                                },
                                {
                                    "SZOBA_ID": "272",
                                    "SZALLAS_FK": "17",
                                    "SZOBA_SZAMA": "10",
                                    "FEROHELY": "3",
                                    "POTAGY": "0",
                                    "KLIMAS": "i",
                                    "SZALLAS_NEV": "Szarvas Hotel",
                                    "(No column name)": "Nem"
                                },
                                {
                                    "SZOBA_ID": "273",
                                    "SZALLAS_FK": "17",
                                    "SZOBA_SZAMA": "11",
                                    "FEROHELY": "2",
                                    "POTAGY": "1",
                                    "KLIMAS": "i",
                                    "SZALLAS_NEV": "Szarvas Hotel",
                                    "(No column name)": "Nem"
                                },
                                {
                                    "SZOBA_ID": "274",
                                    "SZALLAS_FK": "17",
                                    "SZOBA_SZAMA": "12",
                                    "FEROHELY": "3",
                                    "POTAGY": "1",
                                    "KLIMAS": "i",
                                    "SZALLAS_NEV": "Szarvas Hotel",
                                    "(No column name)": "Nem"
                                },
                                {
                                    "SZOBA_ID": "275",
                                    "SZALLAS_FK": "17",
                                    "SZOBA_SZAMA": "13",
                                    "FEROHELY": "2",
                                    "POTAGY": "1",
                                    "KLIMAS": "n",
                                    "SZALLAS_NEV": "Szarvas Hotel",
                                    "(No column name)": "Nem"
                                },
                                {
                                    "SZOBA_ID": "276",
                                    "SZALLAS_FK": "17",
                                    "SZOBA_SZAMA": "14",
                                    "FEROHELY": "2",
                                    "POTAGY": "0",
                                    "KLIMAS": "i",
                                    "SZALLAS_NEV": "Szarvas Hotel",
                                    "(No column name)": "Nem"
                                },
                                {
                                    "SZOBA_ID": "277",
                                    "SZALLAS_FK": "17",
                                    "SZOBA_SZAMA": "15",
                                    "FEROHELY": "2",
                                    "POTAGY": "0",
                                    "KLIMAS": "i",
                                    "SZALLAS_NEV": "Szarvas Hotel",
                                    "(No column name)": "Nem"
                                },
                                {
                                    "SZOBA_ID": "278",
                                    "SZALLAS_FK": "18",
                                    "SZOBA_SZAMA": "1",
                                    "FEROHELY": "3",
                                    "POTAGY": "1",
                                    "KLIMAS": "i",
                                    "SZALLAS_NEV": "Fortuna Apartman",
                                    "(No column name)": "Nem"
                                },
                                {
                                    "SZOBA_ID": "279",
                                    "SZALLAS_FK": "18",
                                    "SZOBA_SZAMA": "2",
                                    "FEROHELY": "2",
                                    "POTAGY": "1",
                                    "KLIMAS": "i",
                                    "SZALLAS_NEV": "Fortuna Apartman",
                                    "(No column name)": "Nem"
                                },
                                {
                                    "SZOBA_ID": "280",
                                    "SZALLAS_FK": "18",
                                    "SZOBA_SZAMA": "3",
                                    "FEROHELY": "3",
                                    "POTAGY": "0",
                                    "KLIMAS": "n",
                                    "SZALLAS_NEV": "Fortuna Apartman",
                                    "(No column name)": "Nem"
                                },
                                {
                                    "SZOBA_ID": "281",
                                    "SZALLAS_FK": "19",
                                    "SZOBA_SZAMA": "1",
                                    "FEROHELY": "2",
                                    "POTAGY": "0",
                                    "KLIMAS": "n",
                                    "SZALLAS_NEV": "Nyárfás Vendégház",
                                    "(No column name)": "Nem"
                                },
                                {
                                    "SZOBA_ID": "282",
                                    "SZALLAS_FK": "19",
                                    "SZOBA_SZAMA": "2",
                                    "FEROHELY": "2",
                                    "POTAGY": "0",
                                    "KLIMAS": "i",
                                    "SZALLAS_NEV": "Nyárfás Vendégház",
                                    "(No column name)": "Nem"
                                },
                                {
                                    "SZOBA_ID": "283",
                                    "SZALLAS_FK": "19",
                                    "SZOBA_SZAMA": "3",
                                    "FEROHELY": "2",
                                    "POTAGY": "0",
                                    "KLIMAS": "n",
                                    "SZALLAS_NEV": "Nyárfás Vendégház",
                                    "(No column name)": "Nem"
                                },
                                {
                                    "SZOBA_ID": "284",
                                    "SZALLAS_FK": "19",
                                    "SZOBA_SZAMA": "4",
                                    "FEROHELY": "2",
                                    "POTAGY": "2",
                                    "KLIMAS": "i",
                                    "SZALLAS_NEV": "Nyárfás Vendégház",
                                    "(No column name)": "Nem"
                                },
                                {
                                    "SZOBA_ID": "285",
                                    "SZALLAS_FK": "20",
                                    "SZOBA_SZAMA": "1",
                                    "FEROHELY": "2",
                                    "POTAGY": "1",
                                    "KLIMAS": "i",
                                    "SZALLAS_NEV": "Kollégium",
                                    "(No column name)": "Nem"
                                },
                                {
                                    "SZOBA_ID": "286",
                                    "SZALLAS_FK": "20",
                                    "SZOBA_SZAMA": "2",
                                    "FEROHELY": "3",
                                    "POTAGY": "0",
                                    "KLIMAS": "i",
                                    "SZALLAS_NEV": "Kollégium",
                                    "(No column name)": "Nem"
                                },
                                {
                                    "SZOBA_ID": "287",
                                    "SZALLAS_FK": "20",
                                    "SZOBA_SZAMA": "3",
                                    "FEROHELY": "3",
                                    "POTAGY": "0",
                                    "KLIMAS": "n",
                                    "SZALLAS_NEV": "Kollégium",
                                    "(No column name)": "Nem"
                                },
                                {
                                    "SZOBA_ID": "288",
                                    "SZALLAS_FK": "20",
                                    "SZOBA_SZAMA": "4",
                                    "FEROHELY": "2",
                                    "POTAGY": "1",
                                    "KLIMAS": "i",
                                    "SZALLAS_NEV": "Kollégium",
                                    "(No column name)": "Nem"
                                },
                                {
                                    "SZOBA_ID": "289",
                                    "SZALLAS_FK": "20",
                                    "SZOBA_SZAMA": "5",
                                    "FEROHELY": "3",
                                    "POTAGY": "0",
                                    "KLIMAS": "i",
                                    "SZALLAS_NEV": "Kollégium",
                                    "(No column name)": "Nem"
                                },
                                {
                                    "SZOBA_ID": "290",
                                    "SZALLAS_FK": "20",
                                    "SZOBA_SZAMA": "6",
                                    "FEROHELY": "2",
                                    "POTAGY": "1",
                                    "KLIMAS": "i",
                                    "SZALLAS_NEV": "Kollégium",
                                    "(No column name)": "Nem"
                                },
                                {
                                    "SZOBA_ID": "291",
                                    "SZALLAS_FK": "20",
                                    "SZOBA_SZAMA": "7",
                                    "FEROHELY": "2",
                                    "POTAGY": "1",
                                    "KLIMAS": "i",
                                    "SZALLAS_NEV": "Kollégium",
                                    "(No column name)": "Nem"
                                },
                                {
                                    "SZOBA_ID": "292",
                                    "SZALLAS_FK": "20",
                                    "SZOBA_SZAMA": "8",
                                    "FEROHELY": "2",
                                    "POTAGY": "1",
                                    "KLIMAS": "i",
                                    "SZALLAS_NEV": "Kollégium",
                                    "(No column name)": "Nem"
                                },
                                {
                                    "SZOBA_ID": "293",
                                    "SZALLAS_FK": "20",
                                    "SZOBA_SZAMA": "9",
                                    "FEROHELY": "2",
                                    "POTAGY": "1",
                                    "KLIMAS": "i",
                                    "SZALLAS_NEV": "Kollégium",
                                    "(No column name)": "Nem"
                                },
                                {
                                    "SZOBA_ID": "294",
                                    "SZALLAS_FK": "20",
                                    "SZOBA_SZAMA": "10",
                                    "FEROHELY": "3",
                                    "POTAGY": "0",
                                    "KLIMAS": "i",
                                    "SZALLAS_NEV": "Kollégium",
                                    "(No column name)": "Nem"
                                }
                            ]
                        },
                        "text/html": [
                            "<table>",
                            "<tr><th>SZOBA_ID</th><th>SZALLAS_FK</th><th>SZOBA_SZAMA</th><th>FEROHELY</th><th>POTAGY</th><th>KLIMAS</th><th>SZALLAS_NEV</th><th>(No column name)</th></tr>",
                            "<tr><td>159</td><td>10</td><td>25</td><td>3</td><td>1</td><td>n</td><td>Lagúna Hotel</td><td>Nem</td></tr>",
                            "<tr><td>199</td><td>12</td><td>35</td><td>3</td><td>2</td><td>i</td><td>Gold Hotel</td><td>Nem</td></tr>",
                            "<tr><td>200</td><td>12</td><td>36</td><td>2</td><td>0</td><td>i</td><td>Gold Hotel</td><td>Nem</td></tr>",
                            "<tr><td>201</td><td>12</td><td>37</td><td>3</td><td>1</td><td>n</td><td>Gold Hotel</td><td>Nem</td></tr>",
                            "<tr><td>202</td><td>12</td><td>38</td><td>3</td><td>1</td><td>i</td><td>Gold Hotel</td><td>Nem</td></tr>",
                            "<tr><td>203</td><td>12</td><td>39</td><td>3</td><td>0</td><td>i</td><td>Gold Hotel</td><td>Nem</td></tr>",
                            "<tr><td>204</td><td>12</td><td>40</td><td>3</td><td>1</td><td>i</td><td>Gold Hotel</td><td>Nem</td></tr>",
                            "<tr><td>205</td><td>12</td><td>41</td><td>3</td><td>0</td><td>i</td><td>Gold Hotel</td><td>Nem</td></tr>",
                            "<tr><td>206</td><td>12</td><td>42</td><td>2</td><td>1</td><td>i</td><td>Gold Hotel</td><td>Nem</td></tr>",
                            "<tr><td>207</td><td>12</td><td>43</td><td>2</td><td>1</td><td>i</td><td>Gold Hotel</td><td>Nem</td></tr>",
                            "<tr><td>208</td><td>12</td><td>44</td><td>2</td><td>1</td><td>i</td><td>Gold Hotel</td><td>Nem</td></tr>",
                            "<tr><td>209</td><td>12</td><td>45</td><td>3</td><td>2</td><td>n</td><td>Gold Hotel</td><td>Nem</td></tr>",
                            "<tr><td>210</td><td>12</td><td>46</td><td>2</td><td>0</td><td>i</td><td>Gold Hotel</td><td>Nem</td></tr>",
                            "<tr><td>211</td><td>12</td><td>47</td><td>2</td><td>1</td><td>i</td><td>Gold Hotel</td><td>Nem</td></tr>",
                            "<tr><td>212</td><td>12</td><td>48</td><td>3</td><td>0</td><td>n</td><td>Gold Hotel</td><td>Nem</td></tr>",
                            "<tr><td>213</td><td>12</td><td>49</td><td>3</td><td>0</td><td>i</td><td>Gold Hotel</td><td>Nem</td></tr>",
                            "<tr><td>214</td><td>12</td><td>50</td><td>3</td><td>1</td><td>i</td><td>Gold Hotel</td><td>Nem</td></tr>",
                            "<tr><td>215</td><td>13</td><td>1</td><td>2</td><td>1</td><td>i</td><td>Riviéra Panzió</td><td>Igen</td></tr>",
                            "<tr><td>216</td><td>13</td><td>2</td><td>3</td><td>1</td><td>i</td><td>Riviéra Panzió</td><td>Igen</td></tr>",
                            "<tr><td>217</td><td>13</td><td>3</td><td>2</td><td>1</td><td>n</td><td>Riviéra Panzió</td><td>Igen</td></tr>",
                            "<tr><td>218</td><td>13</td><td>4</td><td>3</td><td>0</td><td>i</td><td>Riviéra Panzió</td><td>Igen</td></tr>",
                            "<tr><td>219</td><td>13</td><td>5</td><td>2</td><td>0</td><td>n</td><td>Riviéra Panzió</td><td>Igen</td></tr>",
                            "<tr><td>220</td><td>13</td><td>6</td><td>3</td><td>0</td><td>i</td><td>Riviéra Panzió</td><td>Igen</td></tr>",
                            "<tr><td>221</td><td>13</td><td>7</td><td>3</td><td>0</td><td>i</td><td>Riviéra Panzió</td><td>Igen</td></tr>",
                            "<tr><td>222</td><td>13</td><td>8</td><td>2</td><td>0</td><td>n</td><td>Riviéra Panzió</td><td>Igen</td></tr>",
                            "<tr><td>223</td><td>13</td><td>9</td><td>2</td><td>1</td><td>i</td><td>Riviéra Panzió</td><td>Igen</td></tr>",
                            "<tr><td>224</td><td>13</td><td>10</td><td>2</td><td>0</td><td>i</td><td>Riviéra Panzió</td><td>Igen</td></tr>",
                            "<tr><td>225</td><td>13</td><td>11</td><td>2</td><td>1</td><td>i</td><td>Riviéra Panzió</td><td>Igen</td></tr>",
                            "<tr><td>226</td><td>13</td><td>12</td><td>3</td><td>1</td><td>n</td><td>Riviéra Panzió</td><td>Igen</td></tr>",
                            "<tr><td>227</td><td>14</td><td>1</td><td>2</td><td>1</td><td>i</td><td>Nyárfás Vendégház</td><td>Nem</td></tr>",
                            "<tr><td>228</td><td>14</td><td>2</td><td>3</td><td>0</td><td>i</td><td>Nyárfás Vendégház</td><td>Nem</td></tr>",
                            "<tr><td>229</td><td>14</td><td>3</td><td>2</td><td>0</td><td>i</td><td>Nyárfás Vendégház</td><td>Nem</td></tr>",
                            "<tr><td>230</td><td>14</td><td>4</td><td>3</td><td>2</td><td>i</td><td>Nyárfás Vendégház</td><td>Nem</td></tr>",
                            "<tr><td>231</td><td>15</td><td>1</td><td>2</td><td>0</td><td>i</td><td>Tímárház Panzió</td><td>Igen</td></tr>",
                            "<tr><td>232</td><td>15</td><td>2</td><td>2</td><td>0</td><td>i</td><td>Tímárház Panzió</td><td>Igen</td></tr>",
                            "<tr><td>233</td><td>15</td><td>3</td><td>3</td><td>0</td><td>n</td><td>Tímárház Panzió</td><td>Igen</td></tr>",
                            "<tr><td>234</td><td>15</td><td>4</td><td>3</td><td>1</td><td>i</td><td>Tímárház Panzió</td><td>Igen</td></tr>",
                            "<tr><td>235</td><td>15</td><td>5</td><td>3</td><td>0</td><td>i</td><td>Tímárház Panzió</td><td>Igen</td></tr>",
                            "<tr><td>236</td><td>15</td><td>6</td><td>3</td><td>1</td><td>n</td><td>Tímárház Panzió</td><td>Igen</td></tr>",
                            "<tr><td>237</td><td>15</td><td>7</td><td>2</td><td>2</td><td>n</td><td>Tímárház Panzió</td><td>Igen</td></tr>",
                            "<tr><td>238</td><td>15</td><td>8</td><td>3</td><td>1</td><td>i</td><td>Tímárház Panzió</td><td>Igen</td></tr>",
                            "<tr><td>239</td><td>15</td><td>9</td><td>2</td><td>2</td><td>i</td><td>Tímárház Panzió</td><td>Igen</td></tr>",
                            "<tr><td>240</td><td>15</td><td>10</td><td>3</td><td>0</td><td>i</td><td>Tímárház Panzió</td><td>Igen</td></tr>",
                            "<tr><td>241</td><td>15</td><td>11</td><td>2</td><td>0</td><td>i</td><td>Tímárház Panzió</td><td>Igen</td></tr>",
                            "<tr><td>242</td><td>15</td><td>12</td><td>2</td><td>1</td><td>i</td><td>Tímárház Panzió</td><td>Igen</td></tr>",
                            "<tr><td>243</td><td>16</td><td>1</td><td>2</td><td>0</td><td>i</td><td>Bagoly Hotel</td><td>Nem</td></tr>",
                            "<tr><td>244</td><td>16</td><td>2</td><td>2</td><td>1</td><td>i</td><td>Bagoly Hotel</td><td>Nem</td></tr>",
                            "<tr><td>245</td><td>16</td><td>3</td><td>2</td><td>1</td><td>i</td><td>Bagoly Hotel</td><td>Nem</td></tr>",
                            "<tr><td>246</td><td>16</td><td>4</td><td>2</td><td>0</td><td>i</td><td>Bagoly Hotel</td><td>Nem</td></tr>",
                            "<tr><td>247</td><td>16</td><td>5</td><td>2</td><td>0</td><td>i</td><td>Bagoly Hotel</td><td>Nem</td></tr>",
                            "<tr><td>248</td><td>16</td><td>6</td><td>2</td><td>2</td><td>i</td><td>Bagoly Hotel</td><td>Nem</td></tr>",
                            "<tr><td>249</td><td>16</td><td>7</td><td>2</td><td>1</td><td>n</td><td>Bagoly Hotel</td><td>Nem</td></tr>",
                            "<tr><td>250</td><td>16</td><td>8</td><td>3</td><td>1</td><td>n</td><td>Bagoly Hotel</td><td>Nem</td></tr>",
                            "<tr><td>251</td><td>16</td><td>9</td><td>3</td><td>0</td><td>n</td><td>Bagoly Hotel</td><td>Nem</td></tr>",
                            "<tr><td>252</td><td>16</td><td>10</td><td>3</td><td>1</td><td>i</td><td>Bagoly Hotel</td><td>Nem</td></tr>",
                            "<tr><td>253</td><td>16</td><td>11</td><td>2</td><td>0</td><td>i</td><td>Bagoly Hotel</td><td>Nem</td></tr>",
                            "<tr><td>254</td><td>16</td><td>12</td><td>2</td><td>0</td><td>i</td><td>Bagoly Hotel</td><td>Nem</td></tr>",
                            "<tr><td>255</td><td>16</td><td>13</td><td>3</td><td>0</td><td>n</td><td>Bagoly Hotel</td><td>Nem</td></tr>",
                            "<tr><td>256</td><td>16</td><td>14</td><td>3</td><td>1</td><td>i</td><td>Bagoly Hotel</td><td>Nem</td></tr>",
                            "<tr><td>257</td><td>16</td><td>15</td><td>2</td><td>0</td><td>i</td><td>Bagoly Hotel</td><td>Nem</td></tr>",
                            "<tr><td>258</td><td>16</td><td>16</td><td>2</td><td>0</td><td>i</td><td>Bagoly Hotel</td><td>Nem</td></tr>",
                            "<tr><td>259</td><td>16</td><td>17</td><td>2</td><td>0</td><td>i</td><td>Bagoly Hotel</td><td>Nem</td></tr>",
                            "<tr><td>260</td><td>16</td><td>18</td><td>2</td><td>0</td><td>i</td><td>Bagoly Hotel</td><td>Nem</td></tr>",
                            "<tr><td>261</td><td>16</td><td>19</td><td>1</td><td>1</td><td>n</td><td>Bagoly Hotel</td><td>Nem</td></tr>",
                            "<tr><td>262</td><td>16</td><td>20</td><td>1</td><td>0</td><td>n</td><td>Bagoly Hotel</td><td>Nem</td></tr>",
                            "<tr><td>263</td><td>17</td><td>1</td><td>2</td><td>2</td><td>i</td><td>Szarvas Hotel</td><td>Nem</td></tr>",
                            "<tr><td>264</td><td>17</td><td>2</td><td>3</td><td>0</td><td>i</td><td>Szarvas Hotel</td><td>Nem</td></tr>",
                            "<tr><td>265</td><td>17</td><td>3</td><td>3</td><td>0</td><td>i</td><td>Szarvas Hotel</td><td>Nem</td></tr>",
                            "<tr><td>266</td><td>17</td><td>4</td><td>2</td><td>1</td><td>i</td><td>Szarvas Hotel</td><td>Nem</td></tr>",
                            "<tr><td>267</td><td>17</td><td>5</td><td>2</td><td>1</td><td>n</td><td>Szarvas Hotel</td><td>Nem</td></tr>",
                            "<tr><td>268</td><td>17</td><td>6</td><td>2</td><td>2</td><td>n</td><td>Szarvas Hotel</td><td>Nem</td></tr>",
                            "<tr><td>269</td><td>17</td><td>7</td><td>2</td><td>1</td><td>i</td><td>Szarvas Hotel</td><td>Nem</td></tr>",
                            "<tr><td>270</td><td>17</td><td>8</td><td>3</td><td>0</td><td>n</td><td>Szarvas Hotel</td><td>Nem</td></tr>",
                            "<tr><td>271</td><td>17</td><td>9</td><td>3</td><td>0</td><td>i</td><td>Szarvas Hotel</td><td>Nem</td></tr>",
                            "<tr><td>272</td><td>17</td><td>10</td><td>3</td><td>0</td><td>i</td><td>Szarvas Hotel</td><td>Nem</td></tr>",
                            "<tr><td>273</td><td>17</td><td>11</td><td>2</td><td>1</td><td>i</td><td>Szarvas Hotel</td><td>Nem</td></tr>",
                            "<tr><td>274</td><td>17</td><td>12</td><td>3</td><td>1</td><td>i</td><td>Szarvas Hotel</td><td>Nem</td></tr>",
                            "<tr><td>275</td><td>17</td><td>13</td><td>2</td><td>1</td><td>n</td><td>Szarvas Hotel</td><td>Nem</td></tr>",
                            "<tr><td>276</td><td>17</td><td>14</td><td>2</td><td>0</td><td>i</td><td>Szarvas Hotel</td><td>Nem</td></tr>",
                            "<tr><td>277</td><td>17</td><td>15</td><td>2</td><td>0</td><td>i</td><td>Szarvas Hotel</td><td>Nem</td></tr>",
                            "<tr><td>278</td><td>18</td><td>1</td><td>3</td><td>1</td><td>i</td><td>Fortuna Apartman</td><td>Nem</td></tr>",
                            "<tr><td>279</td><td>18</td><td>2</td><td>2</td><td>1</td><td>i</td><td>Fortuna Apartman</td><td>Nem</td></tr>",
                            "<tr><td>280</td><td>18</td><td>3</td><td>3</td><td>0</td><td>n</td><td>Fortuna Apartman</td><td>Nem</td></tr>",
                            "<tr><td>281</td><td>19</td><td>1</td><td>2</td><td>0</td><td>n</td><td>Nyárfás Vendégház</td><td>Nem</td></tr>",
                            "<tr><td>282</td><td>19</td><td>2</td><td>2</td><td>0</td><td>i</td><td>Nyárfás Vendégház</td><td>Nem</td></tr>",
                            "<tr><td>283</td><td>19</td><td>3</td><td>2</td><td>0</td><td>n</td><td>Nyárfás Vendégház</td><td>Nem</td></tr>",
                            "<tr><td>284</td><td>19</td><td>4</td><td>2</td><td>2</td><td>i</td><td>Nyárfás Vendégház</td><td>Nem</td></tr>",
                            "<tr><td>285</td><td>20</td><td>1</td><td>2</td><td>1</td><td>i</td><td>Kollégium</td><td>Nem</td></tr>",
                            "<tr><td>286</td><td>20</td><td>2</td><td>3</td><td>0</td><td>i</td><td>Kollégium</td><td>Nem</td></tr>",
                            "<tr><td>287</td><td>20</td><td>3</td><td>3</td><td>0</td><td>n</td><td>Kollégium</td><td>Nem</td></tr>",
                            "<tr><td>288</td><td>20</td><td>4</td><td>2</td><td>1</td><td>i</td><td>Kollégium</td><td>Nem</td></tr>",
                            "<tr><td>289</td><td>20</td><td>5</td><td>3</td><td>0</td><td>i</td><td>Kollégium</td><td>Nem</td></tr>",
                            "<tr><td>290</td><td>20</td><td>6</td><td>2</td><td>1</td><td>i</td><td>Kollégium</td><td>Nem</td></tr>",
                            "<tr><td>291</td><td>20</td><td>7</td><td>2</td><td>1</td><td>i</td><td>Kollégium</td><td>Nem</td></tr>",
                            "<tr><td>292</td><td>20</td><td>8</td><td>2</td><td>1</td><td>i</td><td>Kollégium</td><td>Nem</td></tr>",
                            "<tr><td>293</td><td>20</td><td>9</td><td>2</td><td>1</td><td>i</td><td>Kollégium</td><td>Nem</td></tr>",
                            "<tr><td>294</td><td>20</td><td>10</td><td>3</td><td>0</td><td>i</td><td>Kollégium</td><td>Nem</td></tr>",
                            "</table>"
                        ]
                    }
                }
            ],
            "execution_count": 34
        }
    ]
}